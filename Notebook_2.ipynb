{
  "nbformat": 4,
  "nbformat_minor": 0,
  "metadata": {
    "kernelspec": {
      "display_name": "Python 3",
      "language": "python",
      "name": "python3"
    },
    "language_info": {
      "codemirror_mode": {
        "name": "ipython",
        "version": 3
      },
      "file_extension": ".py",
      "mimetype": "text/x-python",
      "name": "python",
      "nbconvert_exporter": "python",
      "pygments_lexer": "ipython3",
      "version": "3.8.5"
    },
    "colab": {
      "name": "Notebook_2.ipynb",
      "provenance": [],
      "collapsed_sections": [],
      "toc_visible": true
    },
    "accelerator": "GPU"
  },
  "cells": [
    {
      "cell_type": "code",
      "metadata": {
        "colab": {
          "base_uri": "https://localhost:8080/"
        },
        "id": "9hV4t2RaaIHD",
        "outputId": "92d9c43a-3679-404e-c614-fde280ddd204"
      },
      "source": [
        "%tensorflow_version 1.x"
      ],
      "execution_count": 1,
      "outputs": [
        {
          "output_type": "stream",
          "text": [
            "TensorFlow 1.x selected.\n"
          ],
          "name": "stdout"
        }
      ]
    },
    {
      "cell_type": "code",
      "metadata": {
        "colab": {
          "base_uri": "https://localhost:8080/"
        },
        "id": "3gNqocrl-iR-",
        "outputId": "f412ae5b-6620-42f9-bba7-76acb4694d34"
      },
      "source": [
        "from google.colab import drive\n",
        "drive.mount('/content/drive/')"
      ],
      "execution_count": 2,
      "outputs": [
        {
          "output_type": "stream",
          "text": [
            "Drive already mounted at /content/drive/; to attempt to forcibly remount, call drive.mount(\"/content/drive/\", force_remount=True).\n"
          ],
          "name": "stdout"
        }
      ]
    },
    {
      "cell_type": "code",
      "metadata": {
        "colab": {
          "base_uri": "https://localhost:8080/"
        },
        "id": "nAAs2VvI-rq9",
        "outputId": "ee53b089-fd90-4c65-adc8-6a0a4b7f8a13"
      },
      "source": [
        "!ls '/content/drive/MyDrive/Colab_Notebooks/DL_final/'\n"
      ],
      "execution_count": 3,
      "outputs": [
        {
          "output_type": "stream",
          "text": [
            "BuzzFeed\t       feature_matrix_pf.csv\t\t  UserFeature.mat\n",
            "BuzzFeedNewsUser.txt   news_news_bf_adjacency_matrix.csv  User.txt\n",
            "BuzzFeedUserUser.txt   news_news_pf_adjacency_matrix.csv\n",
            "feature_matrix_bf.csv  News.txt\n"
          ],
          "name": "stdout"
        }
      ]
    },
    {
      "cell_type": "code",
      "metadata": {
        "colab": {
          "base_uri": "https://localhost:8080/"
        },
        "id": "vGzwLDX8BScF",
        "outputId": "6513f9ed-58d3-45f8-db72-a8c071d867f4"
      },
      "source": [
        "!pwd"
      ],
      "execution_count": 4,
      "outputs": [
        {
          "output_type": "stream",
          "text": [
            "/content\n"
          ],
          "name": "stdout"
        }
      ]
    },
    {
      "cell_type": "code",
      "metadata": {
        "colab": {
          "base_uri": "https://localhost:8080/"
        },
        "id": "tzqOUINPaC0t",
        "outputId": "a1a76ae8-0a04-4eab-cb65-a45318d00941"
      },
      "source": [
        "import numpy as np\n",
        "import tensorflow as tf\n",
        "import argparse\n",
        "import scipy.sparse as sp\n",
        "import pandas as pd \n",
        "import random\n",
        "import json\n",
        "import os\n",
        "\n",
        "from feature_matrix import FeatureMatrix\n",
        "\n",
        "import pandas as pd \n",
        "import tensorflow_hub as hub\n",
        "from bert import run_classifier\n",
        "from bert import tokenization\n"
      ],
      "execution_count": 5,
      "outputs": [
        {
          "output_type": "stream",
          "text": [
            "WARNING:tensorflow:From /content/bert/optimization.py:87: The name tf.train.Optimizer is deprecated. Please use tf.compat.v1.train.Optimizer instead.\n",
            "\n"
          ],
          "name": "stdout"
        }
      ]
    },
    {
      "cell_type": "code",
      "metadata": {
        "id": "92T1ds1zaC0u"
      },
      "source": [
        "FM = FeatureMatrix(base_path = \"/content/drive/MyDrive/Colab_Notebooks/DL_final//\")\n",
        "label_zip = None"
      ],
      "execution_count": 6,
      "outputs": []
    },
    {
      "cell_type": "code",
      "metadata": {
        "id": "NcNDwKB-aC0u"
      },
      "source": [
        " def getAdj( dataset=\"BuzzFeed\"):\n",
        "        if dataset == \"BuzzFeed\":\n",
        "            adj_np = pd.read_csv(\"/content/drive/MyDrive/Colab_Notebooks/DL_final/news_news_bf_adjacency_matrix.csv\", header=None).values\n",
        "        else:\n",
        "            adj_np = pd.read_csv(\"/content/drive/MyDrive/Colab_Notebooks/DL_final/news_news_pf_adjacency_matrix.csv\", header=None).values\n",
        "\n",
        "        return sp.csr_matrix(adj_np, dtype=int)\n"
      ],
      "execution_count": 7,
      "outputs": []
    },
    {
      "cell_type": "code",
      "metadata": {
        "id": "LZgYEexvaC0u"
      },
      "source": [
        "    def getFeatures( dataset=\"BuzzFeed\"):\n",
        "        feature_df =  FM.get_feature_matrix(dataset)\n",
        "        label = feature_df['label'].tolist()\n",
        "        label_comp = [0 if each else 1 for each in label]\n",
        "        global label_zip\n",
        "        label_zip = list(zip(label_comp, label))\n",
        "        feature_df.drop(['label'], axis=1)\n",
        "        feature_np = feature_df.values\n",
        "\n",
        "        return sp.csr_matrix(feature_np, dtype=float).tolil()"
      ],
      "execution_count": 8,
      "outputs": []
    },
    {
      "cell_type": "code",
      "metadata": {
        "id": "Q5HwPAnPaC0u"
      },
      "source": [
        "    def getYs(  dataset=\"BuzzFeed\"):\n",
        "        if dataset == \"BuzzFeed\":\n",
        "            random.seed(1)\n",
        "        else:\n",
        "            random.seed(1)\n",
        "        yTrain =  label_zip[:]\n",
        "        yVal =  label_zip[:]\n",
        "        yTest =  label_zip[:]\n",
        "        train_mask = [False] * len(yTrain)\n",
        "        val_mask = [False] * len(yTrain)\n",
        "        test_mask = [False] * len(yTrain)\n",
        "        n = len(yTrain)\n",
        "\n",
        "        set_of_records_range = set(range(n))\n",
        "\n",
        "        train_range = set(random.sample(set_of_records_range, k=int(n * 0.6)))\n",
        "        set_of_records_range = set_of_records_range - train_range\n",
        "\n",
        "        val_range = set(random.sample(set_of_records_range, k=int(n * 0.2)))\n",
        "        set_of_records_range = set_of_records_range - train_range\n",
        "\n",
        "        test_range = set(random.sample(set_of_records_range, k=int(n * 0.2)))\n",
        "\n",
        "        for i in train_range:\n",
        "            yVal[i] = (0,0)\n",
        "            yTest[i] = (0,0)\n",
        "            train_mask[i] = True\n",
        "        for i in val_range:\n",
        "            yTrain[i] = (0,0)\n",
        "            yTest[i] = (0,0)\n",
        "            val_mask[i] = True\n",
        "        for i in test_range:\n",
        "            yVal[i] = (0,0)\n",
        "            yTrain[i] = (0,0)\n",
        "            test_mask[i] = True\n",
        "\n",
        "        return yTrain, yVal, yTest, train_mask, val_mask, test_mask\n"
      ],
      "execution_count": 9,
      "outputs": []
    },
    {
      "cell_type": "code",
      "metadata": {
        "id": "VMzRtZ8saC0u"
      },
      "source": [
        "    def getComps(  dataset=\"BuzzFeed\"):\n",
        "        print(dataset)\n",
        "        adj =  getAdj(dataset)\n",
        "        features =  getFeatures(dataset)\n",
        "\n",
        "        yTrain, yVal, yTest, train_mask, val_mask, test_mask =  getYs(dataset)\n",
        "\n",
        "        return adj, features, yTrain, yVal, yTest, train_mask, val_mask, test_mask\n"
      ],
      "execution_count": 10,
      "outputs": []
    },
    {
      "cell_type": "code",
      "metadata": {
        "id": "jG12H5OpaC0u"
      },
      "source": [
        "def sparse_to_tuple(sparse_mx):\n",
        "    \"\"\"Convert sparse matrix to tuple representation.\"\"\"\n",
        "    def to_tuple(mx):\n",
        "        if not sp.isspmatrix_coo(mx):\n",
        "            mx = mx.tocoo()\n",
        "        coords = np.vstack((mx.row, mx.col)).transpose()\n",
        "        values = mx.data\n",
        "        shape = mx.shape\n",
        "        return coords, values, shape\n",
        "\n",
        "    if isinstance(sparse_mx, list):\n",
        "        for i in range(len(sparse_mx)):\n",
        "            sparse_mx[i] = to_tuple(sparse_mx[i])\n",
        "    else:\n",
        "        sparse_mx = to_tuple(sparse_mx)\n",
        "\n",
        "    return sparse_mx\n"
      ],
      "execution_count": 11,
      "outputs": []
    },
    {
      "cell_type": "code",
      "metadata": {
        "id": "DjFlJY85aC0u"
      },
      "source": [
        "def preprocess_features(features):\n",
        "    \"\"\"Row-normalize feature matrix and convert to tuple representation\"\"\"\n",
        "    rowsum = np.array(features.sum(1))\n",
        "    r_inv = np.power(rowsum, -1, dtype=float).flatten()\n",
        "    r_inv[np.isinf(r_inv)] = 0.\n",
        "    r_mat_inv = sp.diags(r_inv)\n",
        "    features = r_mat_inv.dot(features)\n",
        "    return features.todense(), sparse_to_tuple(features)"
      ],
      "execution_count": 12,
      "outputs": []
    },
    {
      "cell_type": "code",
      "metadata": {
        "id": "6H2st7PUaC0u"
      },
      "source": [
        "def adj_to_bias(adj, sizes, nhood=1):\n",
        "    nb_graphs = adj.shape[0]\n",
        "    mt = np.empty(adj.shape)\n",
        "    for g in range(nb_graphs):\n",
        "        mt[g] = np.eye(adj.shape[1])\n",
        "        for _ in range(nhood):\n",
        "            mt[g] = np.matmul(mt[g], (adj[g] + np.eye(adj.shape[1])))\n",
        "        for i in range(sizes[g]):\n",
        "            for j in range(sizes[g]):\n",
        "                if mt[g][i][j] > 0.0:\n",
        "                    mt[g][i][j] = 1.0\n",
        "    return -1e9 * (1.0 - mt)\n"
      ],
      "execution_count": 13,
      "outputs": []
    },
    {
      "cell_type": "code",
      "metadata": {
        "colab": {
          "base_uri": "https://localhost:8080/"
        },
        "id": "9_Zlg_4RaC0u",
        "outputId": "5ed9b2d7-520e-43c4-8e09-620936be0ccc"
      },
      "source": [
        "\n",
        "adj, features, y_train, y_val, y_test, train_mask, val_mask, test_mask = getComps(dataset='BuzzFeed')\n",
        "features, spars = preprocess_features(features)"
      ],
      "execution_count": 14,
      "outputs": [
        {
          "output_type": "stream",
          "text": [
            "BuzzFeed\n",
            "INFO:tensorflow:Saver not created because there are no variables in the graph to restore\n"
          ],
          "name": "stdout"
        },
        {
          "output_type": "stream",
          "text": [
            "INFO:tensorflow:Saver not created because there are no variables in the graph to restore\n"
          ],
          "name": "stderr"
        },
        {
          "output_type": "stream",
          "text": [
            "WARNING:tensorflow:From /content/feature_matrix.py:49: The name tf.Session is deprecated. Please use tf.compat.v1.Session instead.\n",
            "\n"
          ],
          "name": "stdout"
        },
        {
          "output_type": "stream",
          "text": [
            "WARNING:tensorflow:From /content/feature_matrix.py:49: The name tf.Session is deprecated. Please use tf.compat.v1.Session instead.\n",
            "\n"
          ],
          "name": "stderr"
        },
        {
          "output_type": "stream",
          "text": [
            "WARNING:tensorflow:From /content/bert/tokenization.py:125: The name tf.gfile.GFile is deprecated. Please use tf.io.gfile.GFile instead.\n",
            "\n"
          ],
          "name": "stdout"
        },
        {
          "output_type": "stream",
          "text": [
            "WARNING:tensorflow:From /content/bert/tokenization.py:125: The name tf.gfile.GFile is deprecated. Please use tf.io.gfile.GFile instead.\n",
            "\n"
          ],
          "name": "stderr"
        },
        {
          "output_type": "stream",
          "text": [
            "WARNING:tensorflow:From /content/bert/run_classifier.py:774: The name tf.logging.info is deprecated. Please use tf.compat.v1.logging.info instead.\n",
            "\n"
          ],
          "name": "stdout"
        },
        {
          "output_type": "stream",
          "text": [
            "WARNING:tensorflow:From /content/bert/run_classifier.py:774: The name tf.logging.info is deprecated. Please use tf.compat.v1.logging.info instead.\n",
            "\n"
          ],
          "name": "stderr"
        },
        {
          "output_type": "stream",
          "text": [
            "INFO:tensorflow:Writing example 0 of 182\n"
          ],
          "name": "stdout"
        },
        {
          "output_type": "stream",
          "text": [
            "INFO:tensorflow:Writing example 0 of 182\n"
          ],
          "name": "stderr"
        },
        {
          "output_type": "stream",
          "text": [
            "INFO:tensorflow:*** Example ***\n"
          ],
          "name": "stdout"
        },
        {
          "output_type": "stream",
          "text": [
            "INFO:tensorflow:*** Example ***\n"
          ],
          "name": "stderr"
        },
        {
          "output_type": "stream",
          "text": [
            "INFO:tensorflow:guid: None\n"
          ],
          "name": "stdout"
        },
        {
          "output_type": "stream",
          "text": [
            "INFO:tensorflow:guid: None\n"
          ],
          "name": "stderr"
        },
        {
          "output_type": "stream",
          "text": [
            "INFO:tensorflow:tokens: [CLS] 61 . 3 ##k shares facebook twitter update : buzz ##fe ##ed has deemed that our description of the crime and the victims is false . we have utterly de ##bu ##nk ##ed buzz ##fe ##ed ’ s claims . you can view our follow ##up article here . ~ ~ ~ you can ’ t make this stuff up . people used to tell crazy stories , but have no way to prove if the story was true or not . then along came video . this is by far one of the cr ##azi ##est things i ’ ve ever seen . these guys are out in the middle of the street and it looks like there was supposed to be a fight of [SEP]\n"
          ],
          "name": "stdout"
        },
        {
          "output_type": "stream",
          "text": [
            "INFO:tensorflow:tokens: [CLS] 61 . 3 ##k shares facebook twitter update : buzz ##fe ##ed has deemed that our description of the crime and the victims is false . we have utterly de ##bu ##nk ##ed buzz ##fe ##ed ’ s claims . you can view our follow ##up article here . ~ ~ ~ you can ’ t make this stuff up . people used to tell crazy stories , but have no way to prove if the story was true or not . then along came video . this is by far one of the cr ##azi ##est things i ’ ve ever seen . these guys are out in the middle of the street and it looks like there was supposed to be a fight of [SEP]\n"
          ],
          "name": "stderr"
        },
        {
          "output_type": "stream",
          "text": [
            "INFO:tensorflow:input_ids: 101 6079 1012 1017 2243 6661 9130 10474 10651 1024 12610 7959 2098 2038 8357 2008 2256 6412 1997 1996 4126 1998 1996 5694 2003 6270 1012 2057 2031 12580 2139 8569 8950 2098 12610 7959 2098 1521 1055 4447 1012 2017 2064 3193 2256 3582 6279 3720 2182 1012 1066 1066 1066 2017 2064 1521 1056 2191 2023 4933 2039 1012 2111 2109 2000 2425 4689 3441 1010 2021 2031 2053 2126 2000 6011 2065 1996 2466 2001 2995 2030 2025 1012 2059 2247 2234 2678 1012 2023 2003 2011 2521 2028 1997 1996 13675 16103 4355 2477 1045 1521 2310 2412 2464 1012 2122 4364 2024 2041 1999 1996 2690 1997 1996 2395 1998 2009 3504 2066 2045 2001 4011 2000 2022 1037 2954 1997 102\n"
          ],
          "name": "stdout"
        },
        {
          "output_type": "stream",
          "text": [
            "INFO:tensorflow:input_ids: 101 6079 1012 1017 2243 6661 9130 10474 10651 1024 12610 7959 2098 2038 8357 2008 2256 6412 1997 1996 4126 1998 1996 5694 2003 6270 1012 2057 2031 12580 2139 8569 8950 2098 12610 7959 2098 1521 1055 4447 1012 2017 2064 3193 2256 3582 6279 3720 2182 1012 1066 1066 1066 2017 2064 1521 1056 2191 2023 4933 2039 1012 2111 2109 2000 2425 4689 3441 1010 2021 2031 2053 2126 2000 6011 2065 1996 2466 2001 2995 2030 2025 1012 2059 2247 2234 2678 1012 2023 2003 2011 2521 2028 1997 1996 13675 16103 4355 2477 1045 1521 2310 2412 2464 1012 2122 4364 2024 2041 1999 1996 2690 1997 1996 2395 1998 2009 3504 2066 2045 2001 4011 2000 2022 1037 2954 1997 102\n"
          ],
          "name": "stderr"
        },
        {
          "output_type": "stream",
          "text": [
            "INFO:tensorflow:input_mask: 1 1 1 1 1 1 1 1 1 1 1 1 1 1 1 1 1 1 1 1 1 1 1 1 1 1 1 1 1 1 1 1 1 1 1 1 1 1 1 1 1 1 1 1 1 1 1 1 1 1 1 1 1 1 1 1 1 1 1 1 1 1 1 1 1 1 1 1 1 1 1 1 1 1 1 1 1 1 1 1 1 1 1 1 1 1 1 1 1 1 1 1 1 1 1 1 1 1 1 1 1 1 1 1 1 1 1 1 1 1 1 1 1 1 1 1 1 1 1 1 1 1 1 1 1 1 1 1\n"
          ],
          "name": "stdout"
        },
        {
          "output_type": "stream",
          "text": [
            "INFO:tensorflow:input_mask: 1 1 1 1 1 1 1 1 1 1 1 1 1 1 1 1 1 1 1 1 1 1 1 1 1 1 1 1 1 1 1 1 1 1 1 1 1 1 1 1 1 1 1 1 1 1 1 1 1 1 1 1 1 1 1 1 1 1 1 1 1 1 1 1 1 1 1 1 1 1 1 1 1 1 1 1 1 1 1 1 1 1 1 1 1 1 1 1 1 1 1 1 1 1 1 1 1 1 1 1 1 1 1 1 1 1 1 1 1 1 1 1 1 1 1 1 1 1 1 1 1 1 1 1 1 1 1 1\n"
          ],
          "name": "stderr"
        },
        {
          "output_type": "stream",
          "text": [
            "INFO:tensorflow:segment_ids: 0 0 0 0 0 0 0 0 0 0 0 0 0 0 0 0 0 0 0 0 0 0 0 0 0 0 0 0 0 0 0 0 0 0 0 0 0 0 0 0 0 0 0 0 0 0 0 0 0 0 0 0 0 0 0 0 0 0 0 0 0 0 0 0 0 0 0 0 0 0 0 0 0 0 0 0 0 0 0 0 0 0 0 0 0 0 0 0 0 0 0 0 0 0 0 0 0 0 0 0 0 0 0 0 0 0 0 0 0 0 0 0 0 0 0 0 0 0 0 0 0 0 0 0 0 0 0 0\n"
          ],
          "name": "stdout"
        },
        {
          "output_type": "stream",
          "text": [
            "INFO:tensorflow:segment_ids: 0 0 0 0 0 0 0 0 0 0 0 0 0 0 0 0 0 0 0 0 0 0 0 0 0 0 0 0 0 0 0 0 0 0 0 0 0 0 0 0 0 0 0 0 0 0 0 0 0 0 0 0 0 0 0 0 0 0 0 0 0 0 0 0 0 0 0 0 0 0 0 0 0 0 0 0 0 0 0 0 0 0 0 0 0 0 0 0 0 0 0 0 0 0 0 0 0 0 0 0 0 0 0 0 0 0 0 0 0 0 0 0 0 0 0 0 0 0 0 0 0 0 0 0 0 0 0 0\n"
          ],
          "name": "stderr"
        },
        {
          "output_type": "stream",
          "text": [
            "INFO:tensorflow:label: 1 (id = 1)\n"
          ],
          "name": "stdout"
        },
        {
          "output_type": "stream",
          "text": [
            "INFO:tensorflow:label: 1 (id = 1)\n"
          ],
          "name": "stderr"
        },
        {
          "output_type": "stream",
          "text": [
            "INFO:tensorflow:*** Example ***\n"
          ],
          "name": "stdout"
        },
        {
          "output_type": "stream",
          "text": [
            "INFO:tensorflow:*** Example ***\n"
          ],
          "name": "stderr"
        },
        {
          "output_type": "stream",
          "text": [
            "INFO:tensorflow:guid: None\n"
          ],
          "name": "stdout"
        },
        {
          "output_type": "stream",
          "text": [
            "INFO:tensorflow:guid: None\n"
          ],
          "name": "stderr"
        },
        {
          "output_type": "stream",
          "text": [
            "INFO:tensorflow:tokens: [CLS] the man arrested monday in connection with the new york city bombing sued his local police force over anti - muslim discrimination claims . ahmad khan ra ##ham ##i filed the lawsuit against cops in elizabeth , n . j . , where he was residing before he planted bombs in the chelsea neighborhood of manhattan , at a train station in elizabeth , and on the route of a 5 ##k marine charity run on the jersey shore . he claimed police were per ##se ##cuting him for being a muslim and subject ##ing him and his family to “ selective enforcement ” based on islam , reports the daily mail . ra ##ham ##i worked at a chicken restaurant called first american , owned [SEP]\n"
          ],
          "name": "stdout"
        },
        {
          "output_type": "stream",
          "text": [
            "INFO:tensorflow:tokens: [CLS] the man arrested monday in connection with the new york city bombing sued his local police force over anti - muslim discrimination claims . ahmad khan ra ##ham ##i filed the lawsuit against cops in elizabeth , n . j . , where he was residing before he planted bombs in the chelsea neighborhood of manhattan , at a train station in elizabeth , and on the route of a 5 ##k marine charity run on the jersey shore . he claimed police were per ##se ##cuting him for being a muslim and subject ##ing him and his family to “ selective enforcement ” based on islam , reports the daily mail . ra ##ham ##i worked at a chicken restaurant called first american , owned [SEP]\n"
          ],
          "name": "stderr"
        },
        {
          "output_type": "stream",
          "text": [
            "INFO:tensorflow:input_ids: 101 1996 2158 4727 6928 1999 4434 2007 1996 2047 2259 2103 8647 12923 2010 2334 2610 2486 2058 3424 1011 5152 9147 4447 1012 10781 4967 10958 3511 2072 6406 1996 9870 2114 10558 1999 3870 1010 1050 1012 1046 1012 1010 2073 2002 2001 7154 2077 2002 8461 9767 1999 1996 9295 5101 1997 7128 1010 2012 1037 3345 2276 1999 3870 1010 1998 2006 1996 2799 1997 1037 1019 2243 3884 5952 2448 2006 1996 3933 5370 1012 2002 3555 2610 2020 2566 3366 29163 2032 2005 2108 1037 5152 1998 3395 2075 2032 1998 2010 2155 2000 1523 13228 7285 1524 2241 2006 7025 1010 4311 1996 3679 5653 1012 10958 3511 2072 2499 2012 1037 7975 4825 2170 2034 2137 1010 3079 102\n"
          ],
          "name": "stdout"
        },
        {
          "output_type": "stream",
          "text": [
            "INFO:tensorflow:input_ids: 101 1996 2158 4727 6928 1999 4434 2007 1996 2047 2259 2103 8647 12923 2010 2334 2610 2486 2058 3424 1011 5152 9147 4447 1012 10781 4967 10958 3511 2072 6406 1996 9870 2114 10558 1999 3870 1010 1050 1012 1046 1012 1010 2073 2002 2001 7154 2077 2002 8461 9767 1999 1996 9295 5101 1997 7128 1010 2012 1037 3345 2276 1999 3870 1010 1998 2006 1996 2799 1997 1037 1019 2243 3884 5952 2448 2006 1996 3933 5370 1012 2002 3555 2610 2020 2566 3366 29163 2032 2005 2108 1037 5152 1998 3395 2075 2032 1998 2010 2155 2000 1523 13228 7285 1524 2241 2006 7025 1010 4311 1996 3679 5653 1012 10958 3511 2072 2499 2012 1037 7975 4825 2170 2034 2137 1010 3079 102\n"
          ],
          "name": "stderr"
        },
        {
          "output_type": "stream",
          "text": [
            "INFO:tensorflow:input_mask: 1 1 1 1 1 1 1 1 1 1 1 1 1 1 1 1 1 1 1 1 1 1 1 1 1 1 1 1 1 1 1 1 1 1 1 1 1 1 1 1 1 1 1 1 1 1 1 1 1 1 1 1 1 1 1 1 1 1 1 1 1 1 1 1 1 1 1 1 1 1 1 1 1 1 1 1 1 1 1 1 1 1 1 1 1 1 1 1 1 1 1 1 1 1 1 1 1 1 1 1 1 1 1 1 1 1 1 1 1 1 1 1 1 1 1 1 1 1 1 1 1 1 1 1 1 1 1 1\n"
          ],
          "name": "stdout"
        },
        {
          "output_type": "stream",
          "text": [
            "INFO:tensorflow:input_mask: 1 1 1 1 1 1 1 1 1 1 1 1 1 1 1 1 1 1 1 1 1 1 1 1 1 1 1 1 1 1 1 1 1 1 1 1 1 1 1 1 1 1 1 1 1 1 1 1 1 1 1 1 1 1 1 1 1 1 1 1 1 1 1 1 1 1 1 1 1 1 1 1 1 1 1 1 1 1 1 1 1 1 1 1 1 1 1 1 1 1 1 1 1 1 1 1 1 1 1 1 1 1 1 1 1 1 1 1 1 1 1 1 1 1 1 1 1 1 1 1 1 1 1 1 1 1 1 1\n"
          ],
          "name": "stderr"
        },
        {
          "output_type": "stream",
          "text": [
            "INFO:tensorflow:segment_ids: 0 0 0 0 0 0 0 0 0 0 0 0 0 0 0 0 0 0 0 0 0 0 0 0 0 0 0 0 0 0 0 0 0 0 0 0 0 0 0 0 0 0 0 0 0 0 0 0 0 0 0 0 0 0 0 0 0 0 0 0 0 0 0 0 0 0 0 0 0 0 0 0 0 0 0 0 0 0 0 0 0 0 0 0 0 0 0 0 0 0 0 0 0 0 0 0 0 0 0 0 0 0 0 0 0 0 0 0 0 0 0 0 0 0 0 0 0 0 0 0 0 0 0 0 0 0 0 0\n"
          ],
          "name": "stdout"
        },
        {
          "output_type": "stream",
          "text": [
            "INFO:tensorflow:segment_ids: 0 0 0 0 0 0 0 0 0 0 0 0 0 0 0 0 0 0 0 0 0 0 0 0 0 0 0 0 0 0 0 0 0 0 0 0 0 0 0 0 0 0 0 0 0 0 0 0 0 0 0 0 0 0 0 0 0 0 0 0 0 0 0 0 0 0 0 0 0 0 0 0 0 0 0 0 0 0 0 0 0 0 0 0 0 0 0 0 0 0 0 0 0 0 0 0 0 0 0 0 0 0 0 0 0 0 0 0 0 0 0 0 0 0 0 0 0 0 0 0 0 0 0 0 0 0 0 0\n"
          ],
          "name": "stderr"
        },
        {
          "output_type": "stream",
          "text": [
            "INFO:tensorflow:label: 1 (id = 1)\n"
          ],
          "name": "stdout"
        },
        {
          "output_type": "stream",
          "text": [
            "INFO:tensorflow:label: 1 (id = 1)\n"
          ],
          "name": "stderr"
        },
        {
          "output_type": "stream",
          "text": [
            "INFO:tensorflow:*** Example ***\n"
          ],
          "name": "stdout"
        },
        {
          "output_type": "stream",
          "text": [
            "INFO:tensorflow:*** Example ***\n"
          ],
          "name": "stderr"
        },
        {
          "output_type": "stream",
          "text": [
            "INFO:tensorflow:guid: None\n"
          ],
          "name": "stdout"
        },
        {
          "output_type": "stream",
          "text": [
            "INFO:tensorflow:guid: None\n"
          ],
          "name": "stderr"
        },
        {
          "output_type": "stream",
          "text": [
            "INFO:tensorflow:tokens: [CLS] exposed : so ##ros funding fake veterans ’ pac to take trump down a couple months ago , discover the networks revealed a list of 187 groups who were funded by so ##ros . they have naturally been attacking the presidential candidate who is generally against their values like open borders , amnesty , giving illegal ##s voting rights , muslim migration and social justice . so , why then is so ##ros caught again ? now a new organization is going after trump and sure enough , they ’ re funded by so ##ros too ! it ’ s called ‘ common defense pac ’ and their mantra is : “ as veterans , we swore to protect the rights of every american . we [SEP]\n"
          ],
          "name": "stdout"
        },
        {
          "output_type": "stream",
          "text": [
            "INFO:tensorflow:tokens: [CLS] exposed : so ##ros funding fake veterans ’ pac to take trump down a couple months ago , discover the networks revealed a list of 187 groups who were funded by so ##ros . they have naturally been attacking the presidential candidate who is generally against their values like open borders , amnesty , giving illegal ##s voting rights , muslim migration and social justice . so , why then is so ##ros caught again ? now a new organization is going after trump and sure enough , they ’ re funded by so ##ros too ! it ’ s called ‘ common defense pac ’ and their mantra is : “ as veterans , we swore to protect the rights of every american . we [SEP]\n"
          ],
          "name": "stderr"
        },
        {
          "output_type": "stream",
          "text": [
            "INFO:tensorflow:input_ids: 101 6086 1024 2061 7352 4804 8275 8244 1521 14397 2000 2202 8398 2091 1037 3232 2706 3283 1010 7523 1996 6125 3936 1037 2862 1997 19446 2967 2040 2020 6787 2011 2061 7352 1012 2027 2031 8100 2042 7866 1996 4883 4018 2040 2003 3227 2114 2037 5300 2066 2330 6645 1010 16154 1010 3228 6206 2015 6830 2916 1010 5152 9230 1998 2591 3425 1012 2061 1010 2339 2059 2003 2061 7352 3236 2153 1029 2085 1037 2047 3029 2003 2183 2044 8398 1998 2469 2438 1010 2027 1521 2128 6787 2011 2061 7352 2205 999 2009 1521 1055 2170 1520 2691 3639 14397 1521 1998 2037 25951 2003 1024 1523 2004 8244 1010 2057 12860 2000 4047 1996 2916 1997 2296 2137 1012 2057 102\n"
          ],
          "name": "stdout"
        },
        {
          "output_type": "stream",
          "text": [
            "INFO:tensorflow:input_ids: 101 6086 1024 2061 7352 4804 8275 8244 1521 14397 2000 2202 8398 2091 1037 3232 2706 3283 1010 7523 1996 6125 3936 1037 2862 1997 19446 2967 2040 2020 6787 2011 2061 7352 1012 2027 2031 8100 2042 7866 1996 4883 4018 2040 2003 3227 2114 2037 5300 2066 2330 6645 1010 16154 1010 3228 6206 2015 6830 2916 1010 5152 9230 1998 2591 3425 1012 2061 1010 2339 2059 2003 2061 7352 3236 2153 1029 2085 1037 2047 3029 2003 2183 2044 8398 1998 2469 2438 1010 2027 1521 2128 6787 2011 2061 7352 2205 999 2009 1521 1055 2170 1520 2691 3639 14397 1521 1998 2037 25951 2003 1024 1523 2004 8244 1010 2057 12860 2000 4047 1996 2916 1997 2296 2137 1012 2057 102\n"
          ],
          "name": "stderr"
        },
        {
          "output_type": "stream",
          "text": [
            "INFO:tensorflow:input_mask: 1 1 1 1 1 1 1 1 1 1 1 1 1 1 1 1 1 1 1 1 1 1 1 1 1 1 1 1 1 1 1 1 1 1 1 1 1 1 1 1 1 1 1 1 1 1 1 1 1 1 1 1 1 1 1 1 1 1 1 1 1 1 1 1 1 1 1 1 1 1 1 1 1 1 1 1 1 1 1 1 1 1 1 1 1 1 1 1 1 1 1 1 1 1 1 1 1 1 1 1 1 1 1 1 1 1 1 1 1 1 1 1 1 1 1 1 1 1 1 1 1 1 1 1 1 1 1 1\n"
          ],
          "name": "stdout"
        },
        {
          "output_type": "stream",
          "text": [
            "INFO:tensorflow:input_mask: 1 1 1 1 1 1 1 1 1 1 1 1 1 1 1 1 1 1 1 1 1 1 1 1 1 1 1 1 1 1 1 1 1 1 1 1 1 1 1 1 1 1 1 1 1 1 1 1 1 1 1 1 1 1 1 1 1 1 1 1 1 1 1 1 1 1 1 1 1 1 1 1 1 1 1 1 1 1 1 1 1 1 1 1 1 1 1 1 1 1 1 1 1 1 1 1 1 1 1 1 1 1 1 1 1 1 1 1 1 1 1 1 1 1 1 1 1 1 1 1 1 1 1 1 1 1 1 1\n"
          ],
          "name": "stderr"
        },
        {
          "output_type": "stream",
          "text": [
            "INFO:tensorflow:segment_ids: 0 0 0 0 0 0 0 0 0 0 0 0 0 0 0 0 0 0 0 0 0 0 0 0 0 0 0 0 0 0 0 0 0 0 0 0 0 0 0 0 0 0 0 0 0 0 0 0 0 0 0 0 0 0 0 0 0 0 0 0 0 0 0 0 0 0 0 0 0 0 0 0 0 0 0 0 0 0 0 0 0 0 0 0 0 0 0 0 0 0 0 0 0 0 0 0 0 0 0 0 0 0 0 0 0 0 0 0 0 0 0 0 0 0 0 0 0 0 0 0 0 0 0 0 0 0 0 0\n"
          ],
          "name": "stdout"
        },
        {
          "output_type": "stream",
          "text": [
            "INFO:tensorflow:segment_ids: 0 0 0 0 0 0 0 0 0 0 0 0 0 0 0 0 0 0 0 0 0 0 0 0 0 0 0 0 0 0 0 0 0 0 0 0 0 0 0 0 0 0 0 0 0 0 0 0 0 0 0 0 0 0 0 0 0 0 0 0 0 0 0 0 0 0 0 0 0 0 0 0 0 0 0 0 0 0 0 0 0 0 0 0 0 0 0 0 0 0 0 0 0 0 0 0 0 0 0 0 0 0 0 0 0 0 0 0 0 0 0 0 0 0 0 0 0 0 0 0 0 0 0 0 0 0 0 0\n"
          ],
          "name": "stderr"
        },
        {
          "output_type": "stream",
          "text": [
            "INFO:tensorflow:label: 1 (id = 1)\n"
          ],
          "name": "stdout"
        },
        {
          "output_type": "stream",
          "text": [
            "INFO:tensorflow:label: 1 (id = 1)\n"
          ],
          "name": "stderr"
        },
        {
          "output_type": "stream",
          "text": [
            "INFO:tensorflow:*** Example ***\n"
          ],
          "name": "stdout"
        },
        {
          "output_type": "stream",
          "text": [
            "INFO:tensorflow:*** Example ***\n"
          ],
          "name": "stderr"
        },
        {
          "output_type": "stream",
          "text": [
            "INFO:tensorflow:guid: None\n"
          ],
          "name": "stdout"
        },
        {
          "output_type": "stream",
          "text": [
            "INFO:tensorflow:guid: None\n"
          ],
          "name": "stderr"
        },
        {
          "output_type": "stream",
          "text": [
            "INFO:tensorflow:tokens: [CLS] this is a true story . general stanley mcc ##hr ##yst ##al was the commander of us forces in afghanistan and he had frequent disagreements on the conduct of the war with his commander - in - chief . at one point mcc ##hr ##yst ##al was called into the oval office and he knew his army career was about to be over . when former u . s . military commander in afghanistan , stanley mcc ##hr ##yst ##al , was called into the oval office by barack obama , he knew things weren ’ t going to go well when the president accused him of not supporting him in his political role as president . “ it ’ s not my job to support [SEP]\n"
          ],
          "name": "stdout"
        },
        {
          "output_type": "stream",
          "text": [
            "INFO:tensorflow:tokens: [CLS] this is a true story . general stanley mcc ##hr ##yst ##al was the commander of us forces in afghanistan and he had frequent disagreements on the conduct of the war with his commander - in - chief . at one point mcc ##hr ##yst ##al was called into the oval office and he knew his army career was about to be over . when former u . s . military commander in afghanistan , stanley mcc ##hr ##yst ##al , was called into the oval office by barack obama , he knew things weren ’ t going to go well when the president accused him of not supporting him in his political role as president . “ it ’ s not my job to support [SEP]\n"
          ],
          "name": "stderr"
        },
        {
          "output_type": "stream",
          "text": [
            "INFO:tensorflow:input_ids: 101 2023 2003 1037 2995 2466 1012 2236 6156 23680 8093 27268 2389 2001 1996 3474 1997 2149 2749 1999 7041 1998 2002 2018 6976 23145 2006 1996 6204 1997 1996 2162 2007 2010 3474 1011 1999 1011 2708 1012 2012 2028 2391 23680 8093 27268 2389 2001 2170 2046 1996 9242 2436 1998 2002 2354 2010 2390 2476 2001 2055 2000 2022 2058 1012 2043 2280 1057 1012 1055 1012 2510 3474 1999 7041 1010 6156 23680 8093 27268 2389 1010 2001 2170 2046 1996 9242 2436 2011 13857 8112 1010 2002 2354 2477 4694 1521 1056 2183 2000 2175 2092 2043 1996 2343 5496 2032 1997 2025 4637 2032 1999 2010 2576 2535 2004 2343 1012 1523 2009 1521 1055 2025 2026 3105 2000 2490 102\n"
          ],
          "name": "stdout"
        },
        {
          "output_type": "stream",
          "text": [
            "INFO:tensorflow:input_ids: 101 2023 2003 1037 2995 2466 1012 2236 6156 23680 8093 27268 2389 2001 1996 3474 1997 2149 2749 1999 7041 1998 2002 2018 6976 23145 2006 1996 6204 1997 1996 2162 2007 2010 3474 1011 1999 1011 2708 1012 2012 2028 2391 23680 8093 27268 2389 2001 2170 2046 1996 9242 2436 1998 2002 2354 2010 2390 2476 2001 2055 2000 2022 2058 1012 2043 2280 1057 1012 1055 1012 2510 3474 1999 7041 1010 6156 23680 8093 27268 2389 1010 2001 2170 2046 1996 9242 2436 2011 13857 8112 1010 2002 2354 2477 4694 1521 1056 2183 2000 2175 2092 2043 1996 2343 5496 2032 1997 2025 4637 2032 1999 2010 2576 2535 2004 2343 1012 1523 2009 1521 1055 2025 2026 3105 2000 2490 102\n"
          ],
          "name": "stderr"
        },
        {
          "output_type": "stream",
          "text": [
            "INFO:tensorflow:input_mask: 1 1 1 1 1 1 1 1 1 1 1 1 1 1 1 1 1 1 1 1 1 1 1 1 1 1 1 1 1 1 1 1 1 1 1 1 1 1 1 1 1 1 1 1 1 1 1 1 1 1 1 1 1 1 1 1 1 1 1 1 1 1 1 1 1 1 1 1 1 1 1 1 1 1 1 1 1 1 1 1 1 1 1 1 1 1 1 1 1 1 1 1 1 1 1 1 1 1 1 1 1 1 1 1 1 1 1 1 1 1 1 1 1 1 1 1 1 1 1 1 1 1 1 1 1 1 1 1\n"
          ],
          "name": "stdout"
        },
        {
          "output_type": "stream",
          "text": [
            "INFO:tensorflow:input_mask: 1 1 1 1 1 1 1 1 1 1 1 1 1 1 1 1 1 1 1 1 1 1 1 1 1 1 1 1 1 1 1 1 1 1 1 1 1 1 1 1 1 1 1 1 1 1 1 1 1 1 1 1 1 1 1 1 1 1 1 1 1 1 1 1 1 1 1 1 1 1 1 1 1 1 1 1 1 1 1 1 1 1 1 1 1 1 1 1 1 1 1 1 1 1 1 1 1 1 1 1 1 1 1 1 1 1 1 1 1 1 1 1 1 1 1 1 1 1 1 1 1 1 1 1 1 1 1 1\n"
          ],
          "name": "stderr"
        },
        {
          "output_type": "stream",
          "text": [
            "INFO:tensorflow:segment_ids: 0 0 0 0 0 0 0 0 0 0 0 0 0 0 0 0 0 0 0 0 0 0 0 0 0 0 0 0 0 0 0 0 0 0 0 0 0 0 0 0 0 0 0 0 0 0 0 0 0 0 0 0 0 0 0 0 0 0 0 0 0 0 0 0 0 0 0 0 0 0 0 0 0 0 0 0 0 0 0 0 0 0 0 0 0 0 0 0 0 0 0 0 0 0 0 0 0 0 0 0 0 0 0 0 0 0 0 0 0 0 0 0 0 0 0 0 0 0 0 0 0 0 0 0 0 0 0 0\n"
          ],
          "name": "stdout"
        },
        {
          "output_type": "stream",
          "text": [
            "INFO:tensorflow:segment_ids: 0 0 0 0 0 0 0 0 0 0 0 0 0 0 0 0 0 0 0 0 0 0 0 0 0 0 0 0 0 0 0 0 0 0 0 0 0 0 0 0 0 0 0 0 0 0 0 0 0 0 0 0 0 0 0 0 0 0 0 0 0 0 0 0 0 0 0 0 0 0 0 0 0 0 0 0 0 0 0 0 0 0 0 0 0 0 0 0 0 0 0 0 0 0 0 0 0 0 0 0 0 0 0 0 0 0 0 0 0 0 0 0 0 0 0 0 0 0 0 0 0 0 0 0 0 0 0 0\n"
          ],
          "name": "stderr"
        },
        {
          "output_type": "stream",
          "text": [
            "INFO:tensorflow:label: 1 (id = 1)\n"
          ],
          "name": "stdout"
        },
        {
          "output_type": "stream",
          "text": [
            "INFO:tensorflow:label: 1 (id = 1)\n"
          ],
          "name": "stderr"
        },
        {
          "output_type": "stream",
          "text": [
            "INFO:tensorflow:*** Example ***\n"
          ],
          "name": "stdout"
        },
        {
          "output_type": "stream",
          "text": [
            "INFO:tensorflow:*** Example ***\n"
          ],
          "name": "stderr"
        },
        {
          "output_type": "stream",
          "text": [
            "INFO:tensorflow:guid: None\n"
          ],
          "name": "stdout"
        },
        {
          "output_type": "stream",
          "text": [
            "INFO:tensorflow:guid: None\n"
          ],
          "name": "stderr"
        },
        {
          "output_type": "stream",
          "text": [
            "INFO:tensorflow:tokens: [CLS] \" he didn ' t ask her about a lot of things she should have been asked about , \" donald trump said about lester holt . | get ##ty post - debate , trump team hits moderator holt for ' some hostile questions ' donald trump and his campaign complained tuesday morning that debate moderator lester holt targeted him for unfair questioning while neglect ##ing to ask hillary clinton about any of her various scandals . “ they were leaving all of her little good ##ies out . they didn ' t ask her about , you know , much , ” trump said on fox news ’ s “ fox and friends . ” “ but i was asked about my tax returns , [SEP]\n"
          ],
          "name": "stdout"
        },
        {
          "output_type": "stream",
          "text": [
            "INFO:tensorflow:tokens: [CLS] \" he didn ' t ask her about a lot of things she should have been asked about , \" donald trump said about lester holt . | get ##ty post - debate , trump team hits moderator holt for ' some hostile questions ' donald trump and his campaign complained tuesday morning that debate moderator lester holt targeted him for unfair questioning while neglect ##ing to ask hillary clinton about any of her various scandals . “ they were leaving all of her little good ##ies out . they didn ' t ask her about , you know , much , ” trump said on fox news ’ s “ fox and friends . ” “ but i was asked about my tax returns , [SEP]\n"
          ],
          "name": "stderr"
        },
        {
          "output_type": "stream",
          "text": [
            "INFO:tensorflow:input_ids: 101 1000 2002 2134 1005 1056 3198 2014 2055 1037 2843 1997 2477 2016 2323 2031 2042 2356 2055 1010 1000 6221 8398 2056 2055 14131 12621 1012 1064 2131 3723 2695 1011 5981 1010 8398 2136 4978 29420 12621 2005 1005 2070 10420 3980 1005 6221 8398 1998 2010 3049 10865 9857 2851 2008 5981 29420 14131 12621 9416 2032 2005 15571 11242 2096 19046 2075 2000 3198 18520 7207 2055 2151 1997 2014 2536 29609 1012 1523 2027 2020 2975 2035 1997 2014 2210 2204 3111 2041 1012 2027 2134 1005 1056 3198 2014 2055 1010 2017 2113 1010 2172 1010 1524 8398 2056 2006 4419 2739 1521 1055 1523 4419 1998 2814 1012 1524 1523 2021 1045 2001 2356 2055 2026 4171 5651 1010 102\n"
          ],
          "name": "stdout"
        },
        {
          "output_type": "stream",
          "text": [
            "INFO:tensorflow:input_ids: 101 1000 2002 2134 1005 1056 3198 2014 2055 1037 2843 1997 2477 2016 2323 2031 2042 2356 2055 1010 1000 6221 8398 2056 2055 14131 12621 1012 1064 2131 3723 2695 1011 5981 1010 8398 2136 4978 29420 12621 2005 1005 2070 10420 3980 1005 6221 8398 1998 2010 3049 10865 9857 2851 2008 5981 29420 14131 12621 9416 2032 2005 15571 11242 2096 19046 2075 2000 3198 18520 7207 2055 2151 1997 2014 2536 29609 1012 1523 2027 2020 2975 2035 1997 2014 2210 2204 3111 2041 1012 2027 2134 1005 1056 3198 2014 2055 1010 2017 2113 1010 2172 1010 1524 8398 2056 2006 4419 2739 1521 1055 1523 4419 1998 2814 1012 1524 1523 2021 1045 2001 2356 2055 2026 4171 5651 1010 102\n"
          ],
          "name": "stderr"
        },
        {
          "output_type": "stream",
          "text": [
            "INFO:tensorflow:input_mask: 1 1 1 1 1 1 1 1 1 1 1 1 1 1 1 1 1 1 1 1 1 1 1 1 1 1 1 1 1 1 1 1 1 1 1 1 1 1 1 1 1 1 1 1 1 1 1 1 1 1 1 1 1 1 1 1 1 1 1 1 1 1 1 1 1 1 1 1 1 1 1 1 1 1 1 1 1 1 1 1 1 1 1 1 1 1 1 1 1 1 1 1 1 1 1 1 1 1 1 1 1 1 1 1 1 1 1 1 1 1 1 1 1 1 1 1 1 1 1 1 1 1 1 1 1 1 1 1\n"
          ],
          "name": "stdout"
        },
        {
          "output_type": "stream",
          "text": [
            "INFO:tensorflow:input_mask: 1 1 1 1 1 1 1 1 1 1 1 1 1 1 1 1 1 1 1 1 1 1 1 1 1 1 1 1 1 1 1 1 1 1 1 1 1 1 1 1 1 1 1 1 1 1 1 1 1 1 1 1 1 1 1 1 1 1 1 1 1 1 1 1 1 1 1 1 1 1 1 1 1 1 1 1 1 1 1 1 1 1 1 1 1 1 1 1 1 1 1 1 1 1 1 1 1 1 1 1 1 1 1 1 1 1 1 1 1 1 1 1 1 1 1 1 1 1 1 1 1 1 1 1 1 1 1 1\n"
          ],
          "name": "stderr"
        },
        {
          "output_type": "stream",
          "text": [
            "INFO:tensorflow:segment_ids: 0 0 0 0 0 0 0 0 0 0 0 0 0 0 0 0 0 0 0 0 0 0 0 0 0 0 0 0 0 0 0 0 0 0 0 0 0 0 0 0 0 0 0 0 0 0 0 0 0 0 0 0 0 0 0 0 0 0 0 0 0 0 0 0 0 0 0 0 0 0 0 0 0 0 0 0 0 0 0 0 0 0 0 0 0 0 0 0 0 0 0 0 0 0 0 0 0 0 0 0 0 0 0 0 0 0 0 0 0 0 0 0 0 0 0 0 0 0 0 0 0 0 0 0 0 0 0 0\n"
          ],
          "name": "stdout"
        },
        {
          "output_type": "stream",
          "text": [
            "INFO:tensorflow:segment_ids: 0 0 0 0 0 0 0 0 0 0 0 0 0 0 0 0 0 0 0 0 0 0 0 0 0 0 0 0 0 0 0 0 0 0 0 0 0 0 0 0 0 0 0 0 0 0 0 0 0 0 0 0 0 0 0 0 0 0 0 0 0 0 0 0 0 0 0 0 0 0 0 0 0 0 0 0 0 0 0 0 0 0 0 0 0 0 0 0 0 0 0 0 0 0 0 0 0 0 0 0 0 0 0 0 0 0 0 0 0 0 0 0 0 0 0 0 0 0 0 0 0 0 0 0 0 0 0 0\n"
          ],
          "name": "stderr"
        },
        {
          "output_type": "stream",
          "text": [
            "INFO:tensorflow:label: 0 (id = 0)\n"
          ],
          "name": "stdout"
        },
        {
          "output_type": "stream",
          "text": [
            "INFO:tensorflow:label: 0 (id = 0)\n"
          ],
          "name": "stderr"
        }
      ]
    },
    {
      "cell_type": "code",
      "metadata": {
        "id": "XLxYjuNzEAHh"
      },
      "source": [
        "features=sp.csr_matrix(features)\n",
        "\n",
        "y_train  = np.asarray(y_train)\n",
        "y_val = np.asarray(y_val)\n",
        "y_test = np.asarray(y_test)\n",
        "train_mask  = np.asarray(train_mask)\n",
        "val_mask  = np.asarray(val_mask)\n",
        "test_mask  = np.asarray(test_mask)"
      ],
      "execution_count": 38,
      "outputs": []
    },
    {
      "cell_type": "code",
      "metadata": {
        "id": "pLqa550GHPj5"
      },
      "source": [
        "from scipy import sparse\n",
        "\n",
        "sparse.save_npz(\"features.npz\", features)\n",
        "sparse.save_npz(\"adj.npz\", adj)\n",
        "# your_matrix_back = sparse.load_npz(\"yourmatrix.npz\")\n",
        "with open('array.npy', 'wb') as f:\n",
        "    np.save(f, y_train )\n",
        "    np.save(f,  y_val)\n",
        "    np.save(f, y_test )\n",
        "    np.save(f, train_mask )\n",
        "    np.save(f,  val_mask)\n",
        "    np.save(f, test_mask )"
      ],
      "execution_count": 42,
      "outputs": []
    },
    {
      "cell_type": "code",
      "metadata": {
        "id": "inu7acNWMyNm"
      },
      "source": [
        "features = scipy.sparse.load_npz(\"features.npz\")\n",
        "adj = scipy.sparse.load_npz(\"adj.npz\")\n",
        "\n",
        "with open('array.npy', 'rb') as f:\n",
        "    y_train = np.load(f)\n",
        "    y_val = np.load(f)\n",
        "    y_test = np.load(f)\n",
        "    train_mask = np.load(f)\n",
        "    val_mask = np.load(f)\n",
        "    test_mask = np.load(f)"
      ],
      "execution_count": 43,
      "outputs": []
    },
    {
      "cell_type": "code",
      "metadata": {
        "colab": {
          "base_uri": "https://localhost:8080/"
        },
        "id": "twKeogQQDuX_",
        "outputId": "abe17ce0-4811-402e-8f7a-84c550a45b16"
      },
      "source": [
        "from __future__ import division\n",
        "from __future__ import print_function\n",
        "\n",
        "import time\n",
        "import tensorflow as tf \n",
        "from  utils import *\n",
        "from models import GCN, MLP\n",
        "\n",
        "# Set random seed\n",
        "seed = 123\n",
        "np.random.seed(seed)\n",
        "tf.set_random_seed(seed)\n",
        "\n",
        "# Settings\n",
        "flags = tf.app.flags\n",
        "FLAGS = flags.FLAGS\n",
        "flags.DEFINE_string('f', '', 'kernel')\n",
        "# flags.DEFINE_string('dataset', 'cora', 'Dataset string.')  # 'cora', 'citeseer', 'pubmed'\n",
        "# flags.DEFINE_string('model', 'gcn', 'Model string.')  # 'gcn', 'gcn_cheby', 'dense'\n",
        "# flags.DEFINE_float('learning_rate', 0.01, 'Initial learning rate.')\n",
        "flags.DEFINE_integer('epochs', 200, 'Number of epochs to train.')\n",
        "flags.DEFINE_integer('hidden1', 16, 'Number of units in hidden layer 1.')\n",
        "flags.DEFINE_float('dropout', 0.5, 'Dropout rate (1 - keep probability).')\n",
        "flags.DEFINE_float('weight_decay', 5e-4, 'Weight for L2 loss on embedding matrix.')\n",
        "flags.DEFINE_integer('early_stopping', 10, 'Tolerance for early stopping (# of epochs).')\n",
        "flags.DEFINE_integer('max_degree', 3, 'Maximum Chebyshev polynomial degree.')\n",
        "\n",
        "# Load data\n",
        "adj, features, y_train, y_val, y_test, train_mask, val_mask, test_mask = getComps(dataset='BuzzFeed')\n",
        "features=sp.csr_matrix(features)\n",
        "# Some preprocessing\n",
        "features = preprocess_features(features)\n",
        "# if FLAGS.model == 'gcn':\n",
        "support = [preprocess_adj(adj)]\n",
        "num_supports = 1\n",
        "model_func = GCN\n",
        "# elif FLAGS.model == 'gcn_cheby':\n",
        "#     support = chebyshev_polynomials(adj, FLAGS.max_degree)\n",
        "#     num_supports = 1 + FLAGS.max_degree\n",
        "#     model_func = GCN\n",
        "# elif FLAGS.model == 'dense':\n",
        "#     support = [preprocess_adj(adj)]  # Not used\n",
        "#     num_supports = 1\n",
        "#     model_func = MLP\n",
        "# else:\n",
        "#     raise ValueError('Invalid argument for model: ' + str(FLAGS.model))\n",
        "\n",
        "y_train  = np.asarray(y_train)\n",
        "y_val = np.asarray(y_val)\n",
        "y_test = np.asarray(y_test)\n",
        "train_mask  = np.asarray(train_mask)\n",
        "val_mask  = np.asarray(val_mask)\n",
        "test_mask  = np.asarray(test_mask)\n",
        "\n",
        "# Define placeholders\n",
        "placeholders = {\n",
        "    'support': [tf.sparse_placeholder(tf.float32) for _ in range(num_supports)],\n",
        "    'features': tf.sparse_placeholder(tf.float32, shape=tf.constant(features[2], dtype=tf.int64)),\n",
        "    'labels': tf.placeholder(tf.float32, shape=(None, y_train.shape[1])),\n",
        "    'labels_mask': tf.placeholder(tf.int32),\n",
        "    'dropout': tf.placeholder_with_default(0., shape=()),\n",
        "    'num_features_nonzero': tf.placeholder(tf.int32)  # helper variable for sparse dropout\n",
        "}\n"
      ],
      "execution_count": 15,
      "outputs": [
        {
          "output_type": "stream",
          "text": [
            "BuzzFeed\n",
            "INFO:tensorflow:Saver not created because there are no variables in the graph to restore\n"
          ],
          "name": "stdout"
        },
        {
          "output_type": "stream",
          "text": [
            "INFO:tensorflow:Saver not created because there are no variables in the graph to restore\n"
          ],
          "name": "stderr"
        },
        {
          "output_type": "stream",
          "text": [
            "WARNING:tensorflow:From /content/feature_matrix.py:49: The name tf.Session is deprecated. Please use tf.compat.v1.Session instead.\n",
            "\n"
          ],
          "name": "stdout"
        },
        {
          "output_type": "stream",
          "text": [
            "WARNING:tensorflow:From /content/feature_matrix.py:49: The name tf.Session is deprecated. Please use tf.compat.v1.Session instead.\n",
            "\n"
          ],
          "name": "stderr"
        },
        {
          "output_type": "stream",
          "text": [
            "WARNING:tensorflow:From /content/bert/tokenization.py:125: The name tf.gfile.GFile is deprecated. Please use tf.io.gfile.GFile instead.\n",
            "\n"
          ],
          "name": "stdout"
        },
        {
          "output_type": "stream",
          "text": [
            "WARNING:tensorflow:From /content/bert/tokenization.py:125: The name tf.gfile.GFile is deprecated. Please use tf.io.gfile.GFile instead.\n",
            "\n"
          ],
          "name": "stderr"
        },
        {
          "output_type": "stream",
          "text": [
            "WARNING:tensorflow:From /content/bert/run_classifier.py:774: The name tf.logging.info is deprecated. Please use tf.compat.v1.logging.info instead.\n",
            "\n"
          ],
          "name": "stdout"
        },
        {
          "output_type": "stream",
          "text": [
            "WARNING:tensorflow:From /content/bert/run_classifier.py:774: The name tf.logging.info is deprecated. Please use tf.compat.v1.logging.info instead.\n",
            "\n"
          ],
          "name": "stderr"
        },
        {
          "output_type": "stream",
          "text": [
            "INFO:tensorflow:Writing example 0 of 182\n"
          ],
          "name": "stdout"
        },
        {
          "output_type": "stream",
          "text": [
            "INFO:tensorflow:Writing example 0 of 182\n"
          ],
          "name": "stderr"
        },
        {
          "output_type": "stream",
          "text": [
            "INFO:tensorflow:*** Example ***\n"
          ],
          "name": "stdout"
        },
        {
          "output_type": "stream",
          "text": [
            "INFO:tensorflow:*** Example ***\n"
          ],
          "name": "stderr"
        },
        {
          "output_type": "stream",
          "text": [
            "INFO:tensorflow:guid: None\n"
          ],
          "name": "stdout"
        },
        {
          "output_type": "stream",
          "text": [
            "INFO:tensorflow:guid: None\n"
          ],
          "name": "stderr"
        },
        {
          "output_type": "stream",
          "text": [
            "INFO:tensorflow:tokens: [CLS] friday morning around 4 : 00 , three men – some of whom were armed – barge ##d in through one of the doors of an atlanta resident ’ s house . the resident ’ s co - worker was over for work - related reasons , and when she heard the commotion , she sprung into action , wielding a handgun . the whole episode was caught on surveillance camera that was set up inside the house . the resident ’ s co - worker un ##loaded all the rounds from her gun into the intruder ##s ’ direction , sending all three of them out the door . one of the intruder ##s even jumped through a glass door . two intruder ##s are [SEP]\n"
          ],
          "name": "stdout"
        },
        {
          "output_type": "stream",
          "text": [
            "INFO:tensorflow:tokens: [CLS] friday morning around 4 : 00 , three men – some of whom were armed – barge ##d in through one of the doors of an atlanta resident ’ s house . the resident ’ s co - worker was over for work - related reasons , and when she heard the commotion , she sprung into action , wielding a handgun . the whole episode was caught on surveillance camera that was set up inside the house . the resident ’ s co - worker un ##loaded all the rounds from her gun into the intruder ##s ’ direction , sending all three of them out the door . one of the intruder ##s even jumped through a glass door . two intruder ##s are [SEP]\n"
          ],
          "name": "stderr"
        },
        {
          "output_type": "stream",
          "text": [
            "INFO:tensorflow:input_ids: 101 5958 2851 2105 1018 1024 4002 1010 2093 2273 1516 2070 1997 3183 2020 4273 1516 19398 2094 1999 2083 2028 1997 1996 4303 1997 2019 5865 6319 1521 1055 2160 1012 1996 6319 1521 1055 2522 1011 7309 2001 2058 2005 2147 1011 3141 4436 1010 1998 2043 2016 2657 1996 23960 1010 2016 22057 2046 2895 1010 26974 1037 28497 1012 1996 2878 2792 2001 3236 2006 9867 4950 2008 2001 2275 2039 2503 1996 2160 1012 1996 6319 1521 1055 2522 1011 7309 4895 17468 2035 1996 6241 2013 2014 3282 2046 1996 22841 2015 1521 3257 1010 6016 2035 2093 1997 2068 2041 1996 2341 1012 2028 1997 1996 22841 2015 2130 5598 2083 1037 3221 2341 1012 2048 22841 2015 2024 102\n"
          ],
          "name": "stdout"
        },
        {
          "output_type": "stream",
          "text": [
            "INFO:tensorflow:input_ids: 101 5958 2851 2105 1018 1024 4002 1010 2093 2273 1516 2070 1997 3183 2020 4273 1516 19398 2094 1999 2083 2028 1997 1996 4303 1997 2019 5865 6319 1521 1055 2160 1012 1996 6319 1521 1055 2522 1011 7309 2001 2058 2005 2147 1011 3141 4436 1010 1998 2043 2016 2657 1996 23960 1010 2016 22057 2046 2895 1010 26974 1037 28497 1012 1996 2878 2792 2001 3236 2006 9867 4950 2008 2001 2275 2039 2503 1996 2160 1012 1996 6319 1521 1055 2522 1011 7309 4895 17468 2035 1996 6241 2013 2014 3282 2046 1996 22841 2015 1521 3257 1010 6016 2035 2093 1997 2068 2041 1996 2341 1012 2028 1997 1996 22841 2015 2130 5598 2083 1037 3221 2341 1012 2048 22841 2015 2024 102\n"
          ],
          "name": "stderr"
        },
        {
          "output_type": "stream",
          "text": [
            "INFO:tensorflow:input_mask: 1 1 1 1 1 1 1 1 1 1 1 1 1 1 1 1 1 1 1 1 1 1 1 1 1 1 1 1 1 1 1 1 1 1 1 1 1 1 1 1 1 1 1 1 1 1 1 1 1 1 1 1 1 1 1 1 1 1 1 1 1 1 1 1 1 1 1 1 1 1 1 1 1 1 1 1 1 1 1 1 1 1 1 1 1 1 1 1 1 1 1 1 1 1 1 1 1 1 1 1 1 1 1 1 1 1 1 1 1 1 1 1 1 1 1 1 1 1 1 1 1 1 1 1 1 1 1 1\n"
          ],
          "name": "stdout"
        },
        {
          "output_type": "stream",
          "text": [
            "INFO:tensorflow:input_mask: 1 1 1 1 1 1 1 1 1 1 1 1 1 1 1 1 1 1 1 1 1 1 1 1 1 1 1 1 1 1 1 1 1 1 1 1 1 1 1 1 1 1 1 1 1 1 1 1 1 1 1 1 1 1 1 1 1 1 1 1 1 1 1 1 1 1 1 1 1 1 1 1 1 1 1 1 1 1 1 1 1 1 1 1 1 1 1 1 1 1 1 1 1 1 1 1 1 1 1 1 1 1 1 1 1 1 1 1 1 1 1 1 1 1 1 1 1 1 1 1 1 1 1 1 1 1 1 1\n"
          ],
          "name": "stderr"
        },
        {
          "output_type": "stream",
          "text": [
            "INFO:tensorflow:segment_ids: 0 0 0 0 0 0 0 0 0 0 0 0 0 0 0 0 0 0 0 0 0 0 0 0 0 0 0 0 0 0 0 0 0 0 0 0 0 0 0 0 0 0 0 0 0 0 0 0 0 0 0 0 0 0 0 0 0 0 0 0 0 0 0 0 0 0 0 0 0 0 0 0 0 0 0 0 0 0 0 0 0 0 0 0 0 0 0 0 0 0 0 0 0 0 0 0 0 0 0 0 0 0 0 0 0 0 0 0 0 0 0 0 0 0 0 0 0 0 0 0 0 0 0 0 0 0 0 0\n"
          ],
          "name": "stdout"
        },
        {
          "output_type": "stream",
          "text": [
            "INFO:tensorflow:segment_ids: 0 0 0 0 0 0 0 0 0 0 0 0 0 0 0 0 0 0 0 0 0 0 0 0 0 0 0 0 0 0 0 0 0 0 0 0 0 0 0 0 0 0 0 0 0 0 0 0 0 0 0 0 0 0 0 0 0 0 0 0 0 0 0 0 0 0 0 0 0 0 0 0 0 0 0 0 0 0 0 0 0 0 0 0 0 0 0 0 0 0 0 0 0 0 0 0 0 0 0 0 0 0 0 0 0 0 0 0 0 0 0 0 0 0 0 0 0 0 0 0 0 0 0 0 0 0 0 0\n"
          ],
          "name": "stderr"
        },
        {
          "output_type": "stream",
          "text": [
            "INFO:tensorflow:label: 0 (id = 0)\n"
          ],
          "name": "stdout"
        },
        {
          "output_type": "stream",
          "text": [
            "INFO:tensorflow:label: 0 (id = 0)\n"
          ],
          "name": "stderr"
        },
        {
          "output_type": "stream",
          "text": [
            "INFO:tensorflow:*** Example ***\n"
          ],
          "name": "stdout"
        },
        {
          "output_type": "stream",
          "text": [
            "INFO:tensorflow:*** Example ***\n"
          ],
          "name": "stderr"
        },
        {
          "output_type": "stream",
          "text": [
            "INFO:tensorflow:guid: None\n"
          ],
          "name": "stdout"
        },
        {
          "output_type": "stream",
          "text": [
            "INFO:tensorflow:guid: None\n"
          ],
          "name": "stderr"
        },
        {
          "output_type": "stream",
          "text": [
            "INFO:tensorflow:tokens: [CLS] story highlights a protest ##er pie ##d sacramento ' s mayor in the face at a charity event wednesday the two sc ##uf ##fle ##d afterward , and the protest ##er was taken to a hospital for stitches ( cnn ) kevin johnson - - the nba star - turned - sacramento mayor - - was pie ##d in the face by a man at a charity dinner wednesday night at the high school he once attended . but the pie - throw ##er appeared to get the worst of it . sean thompson , 32 , approached the mayor , pulled a pie out of the bag and shoving it in his face - - setting off a short sc ##uf ##fle , in which [SEP]\n"
          ],
          "name": "stdout"
        },
        {
          "output_type": "stream",
          "text": [
            "INFO:tensorflow:tokens: [CLS] story highlights a protest ##er pie ##d sacramento ' s mayor in the face at a charity event wednesday the two sc ##uf ##fle ##d afterward , and the protest ##er was taken to a hospital for stitches ( cnn ) kevin johnson - - the nba star - turned - sacramento mayor - - was pie ##d in the face by a man at a charity dinner wednesday night at the high school he once attended . but the pie - throw ##er appeared to get the worst of it . sean thompson , 32 , approached the mayor , pulled a pie out of the bag and shoving it in his face - - setting off a short sc ##uf ##fle , in which [SEP]\n"
          ],
          "name": "stderr"
        },
        {
          "output_type": "stream",
          "text": [
            "INFO:tensorflow:input_ids: 101 2466 11637 1037 6186 2121 11345 2094 11932 1005 1055 3664 1999 1996 2227 2012 1037 5952 2724 9317 1996 2048 8040 16093 21031 2094 9707 1010 1998 1996 6186 2121 2001 2579 2000 1037 2902 2005 25343 1006 13229 1007 4901 3779 1011 1011 1996 6452 2732 1011 2357 1011 11932 3664 1011 1011 2001 11345 2094 1999 1996 2227 2011 1037 2158 2012 1037 5952 4596 9317 2305 2012 1996 2152 2082 2002 2320 3230 1012 2021 1996 11345 1011 5466 2121 2596 2000 2131 1996 5409 1997 2009 1012 5977 5953 1010 3590 1010 5411 1996 3664 1010 2766 1037 11345 2041 1997 1996 4524 1998 15866 2009 1999 2010 2227 1011 1011 4292 2125 1037 2460 8040 16093 21031 1010 1999 2029 102\n"
          ],
          "name": "stdout"
        },
        {
          "output_type": "stream",
          "text": [
            "INFO:tensorflow:input_ids: 101 2466 11637 1037 6186 2121 11345 2094 11932 1005 1055 3664 1999 1996 2227 2012 1037 5952 2724 9317 1996 2048 8040 16093 21031 2094 9707 1010 1998 1996 6186 2121 2001 2579 2000 1037 2902 2005 25343 1006 13229 1007 4901 3779 1011 1011 1996 6452 2732 1011 2357 1011 11932 3664 1011 1011 2001 11345 2094 1999 1996 2227 2011 1037 2158 2012 1037 5952 4596 9317 2305 2012 1996 2152 2082 2002 2320 3230 1012 2021 1996 11345 1011 5466 2121 2596 2000 2131 1996 5409 1997 2009 1012 5977 5953 1010 3590 1010 5411 1996 3664 1010 2766 1037 11345 2041 1997 1996 4524 1998 15866 2009 1999 2010 2227 1011 1011 4292 2125 1037 2460 8040 16093 21031 1010 1999 2029 102\n"
          ],
          "name": "stderr"
        },
        {
          "output_type": "stream",
          "text": [
            "INFO:tensorflow:input_mask: 1 1 1 1 1 1 1 1 1 1 1 1 1 1 1 1 1 1 1 1 1 1 1 1 1 1 1 1 1 1 1 1 1 1 1 1 1 1 1 1 1 1 1 1 1 1 1 1 1 1 1 1 1 1 1 1 1 1 1 1 1 1 1 1 1 1 1 1 1 1 1 1 1 1 1 1 1 1 1 1 1 1 1 1 1 1 1 1 1 1 1 1 1 1 1 1 1 1 1 1 1 1 1 1 1 1 1 1 1 1 1 1 1 1 1 1 1 1 1 1 1 1 1 1 1 1 1 1\n"
          ],
          "name": "stdout"
        },
        {
          "output_type": "stream",
          "text": [
            "INFO:tensorflow:input_mask: 1 1 1 1 1 1 1 1 1 1 1 1 1 1 1 1 1 1 1 1 1 1 1 1 1 1 1 1 1 1 1 1 1 1 1 1 1 1 1 1 1 1 1 1 1 1 1 1 1 1 1 1 1 1 1 1 1 1 1 1 1 1 1 1 1 1 1 1 1 1 1 1 1 1 1 1 1 1 1 1 1 1 1 1 1 1 1 1 1 1 1 1 1 1 1 1 1 1 1 1 1 1 1 1 1 1 1 1 1 1 1 1 1 1 1 1 1 1 1 1 1 1 1 1 1 1 1 1\n"
          ],
          "name": "stderr"
        },
        {
          "output_type": "stream",
          "text": [
            "INFO:tensorflow:segment_ids: 0 0 0 0 0 0 0 0 0 0 0 0 0 0 0 0 0 0 0 0 0 0 0 0 0 0 0 0 0 0 0 0 0 0 0 0 0 0 0 0 0 0 0 0 0 0 0 0 0 0 0 0 0 0 0 0 0 0 0 0 0 0 0 0 0 0 0 0 0 0 0 0 0 0 0 0 0 0 0 0 0 0 0 0 0 0 0 0 0 0 0 0 0 0 0 0 0 0 0 0 0 0 0 0 0 0 0 0 0 0 0 0 0 0 0 0 0 0 0 0 0 0 0 0 0 0 0 0\n"
          ],
          "name": "stdout"
        },
        {
          "output_type": "stream",
          "text": [
            "INFO:tensorflow:segment_ids: 0 0 0 0 0 0 0 0 0 0 0 0 0 0 0 0 0 0 0 0 0 0 0 0 0 0 0 0 0 0 0 0 0 0 0 0 0 0 0 0 0 0 0 0 0 0 0 0 0 0 0 0 0 0 0 0 0 0 0 0 0 0 0 0 0 0 0 0 0 0 0 0 0 0 0 0 0 0 0 0 0 0 0 0 0 0 0 0 0 0 0 0 0 0 0 0 0 0 0 0 0 0 0 0 0 0 0 0 0 0 0 0 0 0 0 0 0 0 0 0 0 0 0 0 0 0 0 0\n"
          ],
          "name": "stderr"
        },
        {
          "output_type": "stream",
          "text": [
            "INFO:tensorflow:label: 0 (id = 0)\n"
          ],
          "name": "stdout"
        },
        {
          "output_type": "stream",
          "text": [
            "INFO:tensorflow:label: 0 (id = 0)\n"
          ],
          "name": "stderr"
        },
        {
          "output_type": "stream",
          "text": [
            "INFO:tensorflow:*** Example ***\n"
          ],
          "name": "stdout"
        },
        {
          "output_type": "stream",
          "text": [
            "INFO:tensorflow:*** Example ***\n"
          ],
          "name": "stderr"
        },
        {
          "output_type": "stream",
          "text": [
            "INFO:tensorflow:guid: None\n"
          ],
          "name": "stdout"
        },
        {
          "output_type": "stream",
          "text": [
            "INFO:tensorflow:guid: None\n"
          ],
          "name": "stderr"
        },
        {
          "output_type": "stream",
          "text": [
            "INFO:tensorflow:tokens: [CLS] 0 shares facebook twitter bernard sans ##ari ##c ##q , former president of the haitian senate , issued a b ##list ##ering statement condemning the clinton foundation , which has been posted at donald trump ’ s campaign website . sans ##ari ##c ##q ’ s statement says : sadly , when an earthquake rocked the nation of haiti in 2010 , corruption moved in faster than the help so desperately needed . today , the people of haiti are still suffering despite the billions of dollars that have flowed into the clinton foundation . the clinton ##s exploited this terrible disaster to steal billions of dollars from the sick and starving people of haiti . the world trusted the clinton ##s to help the haitian [SEP]\n"
          ],
          "name": "stdout"
        },
        {
          "output_type": "stream",
          "text": [
            "INFO:tensorflow:tokens: [CLS] 0 shares facebook twitter bernard sans ##ari ##c ##q , former president of the haitian senate , issued a b ##list ##ering statement condemning the clinton foundation , which has been posted at donald trump ’ s campaign website . sans ##ari ##c ##q ’ s statement says : sadly , when an earthquake rocked the nation of haiti in 2010 , corruption moved in faster than the help so desperately needed . today , the people of haiti are still suffering despite the billions of dollars that have flowed into the clinton foundation . the clinton ##s exploited this terrible disaster to steal billions of dollars from the sick and starving people of haiti . the world trusted the clinton ##s to help the haitian [SEP]\n"
          ],
          "name": "stderr"
        },
        {
          "output_type": "stream",
          "text": [
            "INFO:tensorflow:input_ids: 101 1014 6661 9130 10474 6795 20344 8486 2278 4160 1010 2280 2343 1997 1996 21404 4001 1010 3843 1037 1038 9863 7999 4861 28525 1996 7207 3192 1010 2029 2038 2042 6866 2012 6221 8398 1521 1055 3049 4037 1012 20344 8486 2278 4160 1521 1055 4861 2758 1024 13718 1010 2043 2019 8372 14215 1996 3842 1997 12867 1999 2230 1010 7897 2333 1999 5514 2084 1996 2393 2061 9652 2734 1012 2651 1010 1996 2111 1997 12867 2024 2145 6114 2750 1996 25501 1997 6363 2008 2031 13230 2046 1996 7207 3192 1012 1996 7207 2015 18516 2023 6659 7071 2000 8954 25501 1997 6363 2013 1996 5305 1998 18025 2111 1997 12867 1012 1996 2088 9480 1996 7207 2015 2000 2393 1996 21404 102\n"
          ],
          "name": "stdout"
        },
        {
          "output_type": "stream",
          "text": [
            "INFO:tensorflow:input_ids: 101 1014 6661 9130 10474 6795 20344 8486 2278 4160 1010 2280 2343 1997 1996 21404 4001 1010 3843 1037 1038 9863 7999 4861 28525 1996 7207 3192 1010 2029 2038 2042 6866 2012 6221 8398 1521 1055 3049 4037 1012 20344 8486 2278 4160 1521 1055 4861 2758 1024 13718 1010 2043 2019 8372 14215 1996 3842 1997 12867 1999 2230 1010 7897 2333 1999 5514 2084 1996 2393 2061 9652 2734 1012 2651 1010 1996 2111 1997 12867 2024 2145 6114 2750 1996 25501 1997 6363 2008 2031 13230 2046 1996 7207 3192 1012 1996 7207 2015 18516 2023 6659 7071 2000 8954 25501 1997 6363 2013 1996 5305 1998 18025 2111 1997 12867 1012 1996 2088 9480 1996 7207 2015 2000 2393 1996 21404 102\n"
          ],
          "name": "stderr"
        },
        {
          "output_type": "stream",
          "text": [
            "INFO:tensorflow:input_mask: 1 1 1 1 1 1 1 1 1 1 1 1 1 1 1 1 1 1 1 1 1 1 1 1 1 1 1 1 1 1 1 1 1 1 1 1 1 1 1 1 1 1 1 1 1 1 1 1 1 1 1 1 1 1 1 1 1 1 1 1 1 1 1 1 1 1 1 1 1 1 1 1 1 1 1 1 1 1 1 1 1 1 1 1 1 1 1 1 1 1 1 1 1 1 1 1 1 1 1 1 1 1 1 1 1 1 1 1 1 1 1 1 1 1 1 1 1 1 1 1 1 1 1 1 1 1 1 1\n"
          ],
          "name": "stdout"
        },
        {
          "output_type": "stream",
          "text": [
            "INFO:tensorflow:input_mask: 1 1 1 1 1 1 1 1 1 1 1 1 1 1 1 1 1 1 1 1 1 1 1 1 1 1 1 1 1 1 1 1 1 1 1 1 1 1 1 1 1 1 1 1 1 1 1 1 1 1 1 1 1 1 1 1 1 1 1 1 1 1 1 1 1 1 1 1 1 1 1 1 1 1 1 1 1 1 1 1 1 1 1 1 1 1 1 1 1 1 1 1 1 1 1 1 1 1 1 1 1 1 1 1 1 1 1 1 1 1 1 1 1 1 1 1 1 1 1 1 1 1 1 1 1 1 1 1\n"
          ],
          "name": "stderr"
        },
        {
          "output_type": "stream",
          "text": [
            "INFO:tensorflow:segment_ids: 0 0 0 0 0 0 0 0 0 0 0 0 0 0 0 0 0 0 0 0 0 0 0 0 0 0 0 0 0 0 0 0 0 0 0 0 0 0 0 0 0 0 0 0 0 0 0 0 0 0 0 0 0 0 0 0 0 0 0 0 0 0 0 0 0 0 0 0 0 0 0 0 0 0 0 0 0 0 0 0 0 0 0 0 0 0 0 0 0 0 0 0 0 0 0 0 0 0 0 0 0 0 0 0 0 0 0 0 0 0 0 0 0 0 0 0 0 0 0 0 0 0 0 0 0 0 0 0\n"
          ],
          "name": "stdout"
        },
        {
          "output_type": "stream",
          "text": [
            "INFO:tensorflow:segment_ids: 0 0 0 0 0 0 0 0 0 0 0 0 0 0 0 0 0 0 0 0 0 0 0 0 0 0 0 0 0 0 0 0 0 0 0 0 0 0 0 0 0 0 0 0 0 0 0 0 0 0 0 0 0 0 0 0 0 0 0 0 0 0 0 0 0 0 0 0 0 0 0 0 0 0 0 0 0 0 0 0 0 0 0 0 0 0 0 0 0 0 0 0 0 0 0 0 0 0 0 0 0 0 0 0 0 0 0 0 0 0 0 0 0 0 0 0 0 0 0 0 0 0 0 0 0 0 0 0\n"
          ],
          "name": "stderr"
        },
        {
          "output_type": "stream",
          "text": [
            "INFO:tensorflow:label: 1 (id = 1)\n"
          ],
          "name": "stdout"
        },
        {
          "output_type": "stream",
          "text": [
            "INFO:tensorflow:label: 1 (id = 1)\n"
          ],
          "name": "stderr"
        },
        {
          "output_type": "stream",
          "text": [
            "INFO:tensorflow:*** Example ***\n"
          ],
          "name": "stdout"
        },
        {
          "output_type": "stream",
          "text": [
            "INFO:tensorflow:*** Example ***\n"
          ],
          "name": "stderr"
        },
        {
          "output_type": "stream",
          "text": [
            "INFO:tensorflow:guid: None\n"
          ],
          "name": "stdout"
        },
        {
          "output_type": "stream",
          "text": [
            "INFO:tensorflow:guid: None\n"
          ],
          "name": "stderr"
        },
        {
          "output_type": "stream",
          "text": [
            "INFO:tensorflow:tokens: [CLS] the democrats are using an intimidation tactic which they are prone to use inc ##ess ##antly . if you question the vera ##city of a black president ’ s birth certificate you are racist . that is the outright claim of lynn sweet washington bureau chief for the chicago sun - times made on fox news . consider the slant ##ed claim that if a president is black and his birth certificate is called into question the conclusion is you must be a racist . what is wrong with this obvious non - se ##qui ##tur ? first of all , there is evidence the birth certificate presented was altered . this is discount ##ed by the claims that whoever presented this must be racist . [SEP]\n"
          ],
          "name": "stdout"
        },
        {
          "output_type": "stream",
          "text": [
            "INFO:tensorflow:tokens: [CLS] the democrats are using an intimidation tactic which they are prone to use inc ##ess ##antly . if you question the vera ##city of a black president ’ s birth certificate you are racist . that is the outright claim of lynn sweet washington bureau chief for the chicago sun - times made on fox news . consider the slant ##ed claim that if a president is black and his birth certificate is called into question the conclusion is you must be a racist . what is wrong with this obvious non - se ##qui ##tur ? first of all , there is evidence the birth certificate presented was altered . this is discount ##ed by the claims that whoever presented this must be racist . [SEP]\n"
          ],
          "name": "stderr"
        },
        {
          "output_type": "stream",
          "text": [
            "INFO:tensorflow:input_ids: 101 1996 8037 2024 2478 2019 28973 19717 2029 2027 2024 13047 2000 2224 4297 7971 15706 1012 2065 2017 3160 1996 12297 12972 1997 1037 2304 2343 1521 1055 4182 8196 2017 2024 16939 1012 2008 2003 1996 13848 4366 1997 9399 4086 2899 4879 2708 2005 1996 3190 3103 1011 2335 2081 2006 4419 2739 1012 5136 1996 27474 2098 4366 2008 2065 1037 2343 2003 2304 1998 2010 4182 8196 2003 2170 2046 3160 1996 7091 2003 2017 2442 2022 1037 16939 1012 2054 2003 3308 2007 2023 5793 2512 1011 7367 15549 20689 1029 2034 1997 2035 1010 2045 2003 3350 1996 4182 8196 3591 2001 8776 1012 2023 2003 19575 2098 2011 1996 4447 2008 9444 3591 2023 2442 2022 16939 1012 102\n"
          ],
          "name": "stdout"
        },
        {
          "output_type": "stream",
          "text": [
            "INFO:tensorflow:input_ids: 101 1996 8037 2024 2478 2019 28973 19717 2029 2027 2024 13047 2000 2224 4297 7971 15706 1012 2065 2017 3160 1996 12297 12972 1997 1037 2304 2343 1521 1055 4182 8196 2017 2024 16939 1012 2008 2003 1996 13848 4366 1997 9399 4086 2899 4879 2708 2005 1996 3190 3103 1011 2335 2081 2006 4419 2739 1012 5136 1996 27474 2098 4366 2008 2065 1037 2343 2003 2304 1998 2010 4182 8196 2003 2170 2046 3160 1996 7091 2003 2017 2442 2022 1037 16939 1012 2054 2003 3308 2007 2023 5793 2512 1011 7367 15549 20689 1029 2034 1997 2035 1010 2045 2003 3350 1996 4182 8196 3591 2001 8776 1012 2023 2003 19575 2098 2011 1996 4447 2008 9444 3591 2023 2442 2022 16939 1012 102\n"
          ],
          "name": "stderr"
        },
        {
          "output_type": "stream",
          "text": [
            "INFO:tensorflow:input_mask: 1 1 1 1 1 1 1 1 1 1 1 1 1 1 1 1 1 1 1 1 1 1 1 1 1 1 1 1 1 1 1 1 1 1 1 1 1 1 1 1 1 1 1 1 1 1 1 1 1 1 1 1 1 1 1 1 1 1 1 1 1 1 1 1 1 1 1 1 1 1 1 1 1 1 1 1 1 1 1 1 1 1 1 1 1 1 1 1 1 1 1 1 1 1 1 1 1 1 1 1 1 1 1 1 1 1 1 1 1 1 1 1 1 1 1 1 1 1 1 1 1 1 1 1 1 1 1 1\n"
          ],
          "name": "stdout"
        },
        {
          "output_type": "stream",
          "text": [
            "INFO:tensorflow:input_mask: 1 1 1 1 1 1 1 1 1 1 1 1 1 1 1 1 1 1 1 1 1 1 1 1 1 1 1 1 1 1 1 1 1 1 1 1 1 1 1 1 1 1 1 1 1 1 1 1 1 1 1 1 1 1 1 1 1 1 1 1 1 1 1 1 1 1 1 1 1 1 1 1 1 1 1 1 1 1 1 1 1 1 1 1 1 1 1 1 1 1 1 1 1 1 1 1 1 1 1 1 1 1 1 1 1 1 1 1 1 1 1 1 1 1 1 1 1 1 1 1 1 1 1 1 1 1 1 1\n"
          ],
          "name": "stderr"
        },
        {
          "output_type": "stream",
          "text": [
            "INFO:tensorflow:segment_ids: 0 0 0 0 0 0 0 0 0 0 0 0 0 0 0 0 0 0 0 0 0 0 0 0 0 0 0 0 0 0 0 0 0 0 0 0 0 0 0 0 0 0 0 0 0 0 0 0 0 0 0 0 0 0 0 0 0 0 0 0 0 0 0 0 0 0 0 0 0 0 0 0 0 0 0 0 0 0 0 0 0 0 0 0 0 0 0 0 0 0 0 0 0 0 0 0 0 0 0 0 0 0 0 0 0 0 0 0 0 0 0 0 0 0 0 0 0 0 0 0 0 0 0 0 0 0 0 0\n"
          ],
          "name": "stdout"
        },
        {
          "output_type": "stream",
          "text": [
            "INFO:tensorflow:segment_ids: 0 0 0 0 0 0 0 0 0 0 0 0 0 0 0 0 0 0 0 0 0 0 0 0 0 0 0 0 0 0 0 0 0 0 0 0 0 0 0 0 0 0 0 0 0 0 0 0 0 0 0 0 0 0 0 0 0 0 0 0 0 0 0 0 0 0 0 0 0 0 0 0 0 0 0 0 0 0 0 0 0 0 0 0 0 0 0 0 0 0 0 0 0 0 0 0 0 0 0 0 0 0 0 0 0 0 0 0 0 0 0 0 0 0 0 0 0 0 0 0 0 0 0 0 0 0 0 0\n"
          ],
          "name": "stderr"
        },
        {
          "output_type": "stream",
          "text": [
            "INFO:tensorflow:label: 1 (id = 1)\n"
          ],
          "name": "stdout"
        },
        {
          "output_type": "stream",
          "text": [
            "INFO:tensorflow:label: 1 (id = 1)\n"
          ],
          "name": "stderr"
        },
        {
          "output_type": "stream",
          "text": [
            "INFO:tensorflow:*** Example ***\n"
          ],
          "name": "stdout"
        },
        {
          "output_type": "stream",
          "text": [
            "INFO:tensorflow:*** Example ***\n"
          ],
          "name": "stderr"
        },
        {
          "output_type": "stream",
          "text": [
            "INFO:tensorflow:guid: None\n"
          ],
          "name": "stdout"
        },
        {
          "output_type": "stream",
          "text": [
            "INFO:tensorflow:guid: None\n"
          ],
          "name": "stderr"
        },
        {
          "output_type": "stream",
          "text": [
            "INFO:tensorflow:tokens: [CLS] breaking : pipe bombs found in new jersey train station first a pipe bomb exploded on the jersey shore , then new york was next . now , pipe bombs have been found in a new jersey train station . according to the new york daily news , “ authorities discovered three pipe bombs and two smaller devices at a train station in elizabeth . ” new jersey : elizabeth mayor says a bag with wires and pipes was found in a trash can near nj ##t station , fbi on scene . https : / / t . co / q ##60 ##l ##ggs ##52 ##o — ko ##l ##ha ##ola ##m ( @ ko ##l ##ha ##ola ##m ) september 19 , 2016 since [SEP]\n"
          ],
          "name": "stdout"
        },
        {
          "output_type": "stream",
          "text": [
            "INFO:tensorflow:tokens: [CLS] breaking : pipe bombs found in new jersey train station first a pipe bomb exploded on the jersey shore , then new york was next . now , pipe bombs have been found in a new jersey train station . according to the new york daily news , “ authorities discovered three pipe bombs and two smaller devices at a train station in elizabeth . ” new jersey : elizabeth mayor says a bag with wires and pipes was found in a trash can near nj ##t station , fbi on scene . https : / / t . co / q ##60 ##l ##ggs ##52 ##o — ko ##l ##ha ##ola ##m ( @ ko ##l ##ha ##ola ##m ) september 19 , 2016 since [SEP]\n"
          ],
          "name": "stderr"
        },
        {
          "output_type": "stream",
          "text": [
            "INFO:tensorflow:input_ids: 101 4911 1024 8667 9767 2179 1999 2047 3933 3345 2276 2034 1037 8667 5968 9913 2006 1996 3933 5370 1010 2059 2047 2259 2001 2279 1012 2085 1010 8667 9767 2031 2042 2179 1999 1037 2047 3933 3345 2276 1012 2429 2000 1996 2047 2259 3679 2739 1010 1523 4614 3603 2093 8667 9767 1998 2048 3760 5733 2012 1037 3345 2276 1999 3870 1012 1524 2047 3933 1024 3870 3664 2758 1037 4524 2007 14666 1998 12432 2001 2179 1999 1037 11669 2064 2379 19193 2102 2276 1010 8495 2006 3496 1012 16770 1024 1013 1013 1056 1012 2522 1013 1053 16086 2140 21314 25746 2080 1517 12849 2140 3270 6030 2213 1006 1030 12849 2140 3270 6030 2213 1007 2244 2539 1010 2355 2144 102\n"
          ],
          "name": "stdout"
        },
        {
          "output_type": "stream",
          "text": [
            "INFO:tensorflow:input_ids: 101 4911 1024 8667 9767 2179 1999 2047 3933 3345 2276 2034 1037 8667 5968 9913 2006 1996 3933 5370 1010 2059 2047 2259 2001 2279 1012 2085 1010 8667 9767 2031 2042 2179 1999 1037 2047 3933 3345 2276 1012 2429 2000 1996 2047 2259 3679 2739 1010 1523 4614 3603 2093 8667 9767 1998 2048 3760 5733 2012 1037 3345 2276 1999 3870 1012 1524 2047 3933 1024 3870 3664 2758 1037 4524 2007 14666 1998 12432 2001 2179 1999 1037 11669 2064 2379 19193 2102 2276 1010 8495 2006 3496 1012 16770 1024 1013 1013 1056 1012 2522 1013 1053 16086 2140 21314 25746 2080 1517 12849 2140 3270 6030 2213 1006 1030 12849 2140 3270 6030 2213 1007 2244 2539 1010 2355 2144 102\n"
          ],
          "name": "stderr"
        },
        {
          "output_type": "stream",
          "text": [
            "INFO:tensorflow:input_mask: 1 1 1 1 1 1 1 1 1 1 1 1 1 1 1 1 1 1 1 1 1 1 1 1 1 1 1 1 1 1 1 1 1 1 1 1 1 1 1 1 1 1 1 1 1 1 1 1 1 1 1 1 1 1 1 1 1 1 1 1 1 1 1 1 1 1 1 1 1 1 1 1 1 1 1 1 1 1 1 1 1 1 1 1 1 1 1 1 1 1 1 1 1 1 1 1 1 1 1 1 1 1 1 1 1 1 1 1 1 1 1 1 1 1 1 1 1 1 1 1 1 1 1 1 1 1 1 1\n"
          ],
          "name": "stdout"
        },
        {
          "output_type": "stream",
          "text": [
            "INFO:tensorflow:input_mask: 1 1 1 1 1 1 1 1 1 1 1 1 1 1 1 1 1 1 1 1 1 1 1 1 1 1 1 1 1 1 1 1 1 1 1 1 1 1 1 1 1 1 1 1 1 1 1 1 1 1 1 1 1 1 1 1 1 1 1 1 1 1 1 1 1 1 1 1 1 1 1 1 1 1 1 1 1 1 1 1 1 1 1 1 1 1 1 1 1 1 1 1 1 1 1 1 1 1 1 1 1 1 1 1 1 1 1 1 1 1 1 1 1 1 1 1 1 1 1 1 1 1 1 1 1 1 1 1\n"
          ],
          "name": "stderr"
        },
        {
          "output_type": "stream",
          "text": [
            "INFO:tensorflow:segment_ids: 0 0 0 0 0 0 0 0 0 0 0 0 0 0 0 0 0 0 0 0 0 0 0 0 0 0 0 0 0 0 0 0 0 0 0 0 0 0 0 0 0 0 0 0 0 0 0 0 0 0 0 0 0 0 0 0 0 0 0 0 0 0 0 0 0 0 0 0 0 0 0 0 0 0 0 0 0 0 0 0 0 0 0 0 0 0 0 0 0 0 0 0 0 0 0 0 0 0 0 0 0 0 0 0 0 0 0 0 0 0 0 0 0 0 0 0 0 0 0 0 0 0 0 0 0 0 0 0\n"
          ],
          "name": "stdout"
        },
        {
          "output_type": "stream",
          "text": [
            "INFO:tensorflow:segment_ids: 0 0 0 0 0 0 0 0 0 0 0 0 0 0 0 0 0 0 0 0 0 0 0 0 0 0 0 0 0 0 0 0 0 0 0 0 0 0 0 0 0 0 0 0 0 0 0 0 0 0 0 0 0 0 0 0 0 0 0 0 0 0 0 0 0 0 0 0 0 0 0 0 0 0 0 0 0 0 0 0 0 0 0 0 0 0 0 0 0 0 0 0 0 0 0 0 0 0 0 0 0 0 0 0 0 0 0 0 0 0 0 0 0 0 0 0 0 0 0 0 0 0 0 0 0 0 0 0\n"
          ],
          "name": "stderr"
        },
        {
          "output_type": "stream",
          "text": [
            "INFO:tensorflow:label: 0 (id = 0)\n"
          ],
          "name": "stdout"
        },
        {
          "output_type": "stream",
          "text": [
            "INFO:tensorflow:label: 0 (id = 0)\n",
            "/content/utils.py:126: RuntimeWarning: invalid value encountered in power\n",
            "  d_inv_sqrt = np.power(rowsum, -0.5).flatten()\n"
          ],
          "name": "stderr"
        }
      ]
    },
    {
      "cell_type": "code",
      "metadata": {
        "id": "ZmxwMSiIYPkg"
      },
      "source": [
        ""
      ],
      "execution_count": 16,
      "outputs": []
    },
    {
      "cell_type": "code",
      "metadata": {
        "colab": {
          "base_uri": "https://localhost:8080/"
        },
        "id": "9d9BAW9aOgnD",
        "outputId": "dc3412c5-95f6-4fd5-a542-b0baaaf7422f"
      },
      "source": [
        "    print('adj shape', type(adj))\n",
        "    print('features shape', type(features))\n",
        "    print('y_train shape', type(y_train))\n",
        "    print('y_val shape', type(y_val))\n",
        "    print('y_test shape', type(y_test))\n",
        "    print('train_mask shape', type(train_mask))\n",
        "    print('val_mask shape', type(val_mask))\n",
        "    print('test_mask shape', type(test_mask)) "
      ],
      "execution_count": 16,
      "outputs": [
        {
          "output_type": "stream",
          "text": [
            "adj shape <class 'scipy.sparse.csr.csr_matrix'>\n",
            "features shape <class 'tuple'>\n",
            "y_train shape <class 'numpy.ndarray'>\n",
            "y_val shape <class 'numpy.ndarray'>\n",
            "y_test shape <class 'numpy.ndarray'>\n",
            "train_mask shape <class 'numpy.ndarray'>\n",
            "val_mask shape <class 'numpy.ndarray'>\n",
            "test_mask shape <class 'numpy.ndarray'>\n"
          ],
          "name": "stdout"
        }
      ]
    },
    {
      "cell_type": "code",
      "metadata": {
        "colab": {
          "base_uri": "https://localhost:8080/"
        },
        "id": "5J4pE-cCbeKN",
        "outputId": "04a7cbc7-d752-4cd8-dbf3-b1fc88e6c0d3"
      },
      "source": [
        "train_mask.shape"
      ],
      "execution_count": 17,
      "outputs": [
        {
          "output_type": "execute_result",
          "data": {
            "text/plain": [
              "(182,)"
            ]
          },
          "metadata": {
            "tags": []
          },
          "execution_count": 17
        }
      ]
    },
    {
      "cell_type": "code",
      "metadata": {
        "id": "vn574ijFOxCI"
      },
      "source": [
        "adj shape <class 'scipy.sparse.csr.csr_matrix'>\n",
        "features shape <class 'scipy.sparse.lil.lil_matrix'>\n",
        "y_train shape <class 'numpy.ndarray'>\n",
        "y_val shape <class 'numpy.ndarray'>\n",
        "y_test shape <class 'numpy.ndarray'>\n",
        "train_mask shape <class 'numpy.ndarray'>\n",
        "val_mask shape <class 'numpy.ndarray'>\n",
        "test_mask shape <class 'numpy.ndarray'>"
      ],
      "execution_count": null,
      "outputs": []
    },
    {
      "cell_type": "code",
      "metadata": {
        "colab": {
          "base_uri": "https://localhost:8080/"
        },
        "id": "4wcJj2F1G2PW",
        "outputId": "3ac35e3b-f61b-4509-f6fe-52d87fb5d55c"
      },
      "source": [
        "\n",
        "# Create model\n",
        "model = model_func(placeholders, input_dim=features[2][1], logging=True)\n",
        "\n",
        "# Initialize session\n",
        "sess = tf.Session()\n",
        "\n",
        "\n",
        "# Define model evaluation function\n",
        "def evaluate(features, support, labels, mask, placeholders):\n",
        "    t_test = time.time()\n",
        "    feed_dict_val = construct_feed_dict(features, support, labels, mask, placeholders)\n",
        "    outs_val = sess.run([model.loss, model.accuracy], feed_dict=feed_dict_val)\n",
        "    return outs_val[0], outs_val[1], (time.time() - t_test)\n",
        "\n",
        "\n",
        "# Init variables\n",
        "sess.run(tf.global_variables_initializer())\n",
        "\n",
        "cost_val = []\n",
        "\n",
        "# Train model\n",
        "for epoch in range(FLAGS.epochs):\n",
        "\n",
        "    t = time.time()\n",
        "    # Construct feed dictionary\n",
        "    print('before feed')\n",
        "    feed_dict = construct_feed_dict(features, support, y_train, train_mask, placeholders)\n",
        "    feed_dict.update({placeholders['dropout']: FLAGS.dropout})\n",
        "\n",
        "    # Training step\n",
        "    outs = sess.run([model.opt_op, model.loss, model.accuracy], feed_dict=feed_dict)\n",
        "\n",
        "    # Validation\n",
        "    cost, acc, duration = evaluate(features, support, y_val, val_mask, placeholders)\n",
        "    cost_val.append(cost)\n",
        "\n",
        "    # Print results\n",
        "    print(\"Epoch:\", '%04d' % (epoch + 1), \"train_loss=\", \"{:.5f}\".format(outs[1]),\n",
        "          \"train_acc=\", \"{:.5f}\".format(outs[2]), \"val_loss=\", \"{:.5f}\".format(cost),\n",
        "          \"val_acc=\", \"{:.5f}\".format(acc), \"time=\", \"{:.5f}\".format(time.time() - t))\n",
        "\n",
        "    if epoch > FLAGS.early_stopping and cost_val[-1] > np.mean(cost_val[-(FLAGS.early_stopping+1):-1]):\n",
        "        print(\"Early stopping...\")\n",
        "        break\n",
        "\n",
        "print(\"Optimization Finished!\")\n",
        "\n",
        "# Testing\n",
        "test_cost, test_acc, test_duration = evaluate(features, support, y_test, test_mask, placeholders)\n",
        "print(\"Test set results:\", \"cost=\", \"{:.5f}\".format(test_cost),\n",
        "      \"accuracy=\", \"{:.5f}\".format(test_acc), \"time=\", \"{:.5f}\".format(test_duration))\n"
      ],
      "execution_count": 18,
      "outputs": [
        {
          "output_type": "stream",
          "text": [
            "WARNING:tensorflow:From /content/layers.py:170: calling dropout (from tensorflow.python.ops.nn_ops) with keep_prob is deprecated and will be removed in a future version.\n",
            "Instructions for updating:\n",
            "Please use `rate` instead of `keep_prob`. Rate should be set to `rate = 1 - keep_prob`.\n"
          ],
          "name": "stdout"
        },
        {
          "output_type": "stream",
          "text": [
            "WARNING:tensorflow:From /content/layers.py:170: calling dropout (from tensorflow.python.ops.nn_ops) with keep_prob is deprecated and will be removed in a future version.\n",
            "Instructions for updating:\n",
            "Please use `rate` instead of `keep_prob`. Rate should be set to `rate = 1 - keep_prob`.\n"
          ],
          "name": "stderr"
        },
        {
          "output_type": "stream",
          "text": [
            "WARNING:tensorflow:From /content/metrics.py:6: softmax_cross_entropy_with_logits (from tensorflow.python.ops.nn_ops) is deprecated and will be removed in a future version.\n",
            "Instructions for updating:\n",
            "\n",
            "Future major versions of TensorFlow will allow gradients to flow\n",
            "into the labels input on backprop by default.\n",
            "\n",
            "See `tf.nn.softmax_cross_entropy_with_logits_v2`.\n",
            "\n"
          ],
          "name": "stdout"
        },
        {
          "output_type": "stream",
          "text": [
            "WARNING:tensorflow:From /content/metrics.py:6: softmax_cross_entropy_with_logits (from tensorflow.python.ops.nn_ops) is deprecated and will be removed in a future version.\n",
            "Instructions for updating:\n",
            "\n",
            "Future major versions of TensorFlow will allow gradients to flow\n",
            "into the labels input on backprop by default.\n",
            "\n",
            "See `tf.nn.softmax_cross_entropy_with_logits_v2`.\n",
            "\n"
          ],
          "name": "stderr"
        },
        {
          "output_type": "stream",
          "text": [
            "before feed\n",
            "Epoch: 0001 train_loss= nan train_acc= 0.48624 val_loss= nan val_acc= 0.83333 time= 0.30413\n",
            "before feed\n",
            "Epoch: 0002 train_loss= nan train_acc= 0.48624 val_loss= nan val_acc= 0.83333 time= 0.01034\n",
            "before feed\n",
            "Epoch: 0003 train_loss= nan train_acc= 0.48624 val_loss= nan val_acc= 0.83333 time= 0.01057\n",
            "before feed\n",
            "Epoch: 0004 train_loss= nan train_acc= 0.48624 val_loss= nan val_acc= 0.83333 time= 0.01009\n",
            "before feed\n",
            "Epoch: 0005 train_loss= nan train_acc= 0.48624 val_loss= nan val_acc= 0.83333 time= 0.01023\n",
            "before feed\n",
            "Epoch: 0006 train_loss= nan train_acc= 0.48624 val_loss= nan val_acc= 0.83333 time= 0.01063\n",
            "before feed\n",
            "Epoch: 0007 train_loss= nan train_acc= 0.48624 val_loss= nan val_acc= 0.83333 time= 0.00961\n",
            "before feed\n",
            "Epoch: 0008 train_loss= nan train_acc= 0.48624 val_loss= nan val_acc= 0.83333 time= 0.00915\n",
            "before feed\n",
            "Epoch: 0009 train_loss= nan train_acc= 0.48624 val_loss= nan val_acc= 0.83333 time= 0.00991\n",
            "before feed\n",
            "Epoch: 0010 train_loss= nan train_acc= 0.48624 val_loss= nan val_acc= 0.83333 time= 0.00949\n",
            "before feed\n",
            "Epoch: 0011 train_loss= nan train_acc= 0.48624 val_loss= nan val_acc= 0.83333 time= 0.00939\n",
            "before feed\n",
            "Epoch: 0012 train_loss= nan train_acc= 0.48624 val_loss= nan val_acc= 0.83333 time= 0.01016\n",
            "before feed\n",
            "Epoch: 0013 train_loss= nan train_acc= 0.48624 val_loss= nan val_acc= 0.83333 time= 0.00977\n",
            "before feed\n",
            "Epoch: 0014 train_loss= nan train_acc= 0.48624 val_loss= nan val_acc= 0.83333 time= 0.00929\n",
            "before feed\n",
            "Epoch: 0015 train_loss= nan train_acc= 0.48624 val_loss= nan val_acc= 0.83333 time= 0.00962\n",
            "before feed\n",
            "Epoch: 0016 train_loss= nan train_acc= 0.48624 val_loss= nan val_acc= 0.83333 time= 0.00957\n",
            "before feed\n",
            "Epoch: 0017 train_loss= nan train_acc= 0.48624 val_loss= nan val_acc= 0.83333 time= 0.01002\n",
            "before feed\n",
            "Epoch: 0018 train_loss= nan train_acc= 0.48624 val_loss= nan val_acc= 0.83333 time= 0.00945\n",
            "before feed\n",
            "Epoch: 0019 train_loss= nan train_acc= 0.48624 val_loss= nan val_acc= 0.83333 time= 0.00988\n",
            "before feed\n",
            "Epoch: 0020 train_loss= nan train_acc= 0.48624 val_loss= nan val_acc= 0.83333 time= 0.01398\n",
            "before feed\n",
            "Epoch: 0021 train_loss= nan train_acc= 0.48624 val_loss= nan val_acc= 0.83333 time= 0.00901\n",
            "before feed\n",
            "Epoch: 0022 train_loss= nan train_acc= 0.48624 val_loss= nan val_acc= 0.83333 time= 0.00992\n",
            "before feed\n",
            "Epoch: 0023 train_loss= nan train_acc= 0.48624 val_loss= nan val_acc= 0.83333 time= 0.01030\n",
            "before feed\n",
            "Epoch: 0024 train_loss= nan train_acc= 0.48624 val_loss= nan val_acc= 0.83333 time= 0.00938\n",
            "before feed\n",
            "Epoch: 0025 train_loss= nan train_acc= 0.48624 val_loss= nan val_acc= 0.83333 time= 0.01002\n",
            "before feed\n",
            "Epoch: 0026 train_loss= nan train_acc= 0.48624 val_loss= nan val_acc= 0.83333 time= 0.01017\n",
            "before feed\n",
            "Epoch: 0027 train_loss= nan train_acc= 0.48624 val_loss= nan val_acc= 0.83333 time= 0.01484\n",
            "before feed\n",
            "Epoch: 0028 train_loss= nan train_acc= 0.48624 val_loss= nan val_acc= 0.83333 time= 0.01056\n",
            "before feed\n",
            "Epoch: 0029 train_loss= nan train_acc= 0.48624 val_loss= nan val_acc= 0.83333 time= 0.00936\n",
            "before feed\n",
            "Epoch: 0030 train_loss= nan train_acc= 0.48624 val_loss= nan val_acc= 0.83333 time= 0.00978\n",
            "before feed\n",
            "Epoch: 0031 train_loss= nan train_acc= 0.48624 val_loss= nan val_acc= 0.83333 time= 0.00983\n",
            "before feed\n",
            "Epoch: 0032 train_loss= nan train_acc= 0.48624 val_loss= nan val_acc= 0.83333 time= 0.01162\n",
            "before feed\n",
            "Epoch: 0033 train_loss= nan train_acc= 0.48624 val_loss= nan val_acc= 0.83333 time= 0.00994\n",
            "before feed\n",
            "Epoch: 0034 train_loss= nan train_acc= 0.48624 val_loss= nan val_acc= 0.83333 time= 0.01013\n",
            "before feed\n",
            "Epoch: 0035 train_loss= nan train_acc= 0.48624 val_loss= nan val_acc= 0.83333 time= 0.01093\n",
            "before feed\n",
            "Epoch: 0036 train_loss= nan train_acc= 0.48624 val_loss= nan val_acc= 0.83333 time= 0.01268\n",
            "before feed\n",
            "Epoch: 0037 train_loss= nan train_acc= 0.48624 val_loss= nan val_acc= 0.83333 time= 0.01062\n",
            "before feed\n",
            "Epoch: 0038 train_loss= nan train_acc= 0.48624 val_loss= nan val_acc= 0.83333 time= 0.01672\n",
            "before feed\n",
            "Epoch: 0039 train_loss= nan train_acc= 0.48624 val_loss= nan val_acc= 0.83333 time= 0.01162\n",
            "before feed\n",
            "Epoch: 0040 train_loss= nan train_acc= 0.48624 val_loss= nan val_acc= 0.83333 time= 0.01119\n",
            "before feed\n",
            "Epoch: 0041 train_loss= nan train_acc= 0.48624 val_loss= nan val_acc= 0.83333 time= 0.01051\n",
            "before feed\n",
            "Epoch: 0042 train_loss= nan train_acc= 0.48624 val_loss= nan val_acc= 0.83333 time= 0.01127\n",
            "before feed\n",
            "Epoch: 0043 train_loss= nan train_acc= 0.48624 val_loss= nan val_acc= 0.83333 time= 0.01139\n",
            "before feed\n",
            "Epoch: 0044 train_loss= nan train_acc= 0.48624 val_loss= nan val_acc= 0.83333 time= 0.00995\n",
            "before feed\n",
            "Epoch: 0045 train_loss= nan train_acc= 0.48624 val_loss= nan val_acc= 0.83333 time= 0.00992\n",
            "before feed\n",
            "Epoch: 0046 train_loss= nan train_acc= 0.48624 val_loss= nan val_acc= 0.83333 time= 0.01034\n",
            "before feed\n",
            "Epoch: 0047 train_loss= nan train_acc= 0.48624 val_loss= nan val_acc= 0.83333 time= 0.00939\n",
            "before feed\n",
            "Epoch: 0048 train_loss= nan train_acc= 0.48624 val_loss= nan val_acc= 0.83333 time= 0.00947\n",
            "before feed\n",
            "Epoch: 0049 train_loss= nan train_acc= 0.48624 val_loss= nan val_acc= 0.83333 time= 0.00916\n",
            "before feed\n",
            "Epoch: 0050 train_loss= nan train_acc= 0.48624 val_loss= nan val_acc= 0.83333 time= 0.01027\n",
            "before feed\n",
            "Epoch: 0051 train_loss= nan train_acc= 0.48624 val_loss= nan val_acc= 0.83333 time= 0.00949\n",
            "before feed\n",
            "Epoch: 0052 train_loss= nan train_acc= 0.48624 val_loss= nan val_acc= 0.83333 time= 0.00929\n",
            "before feed\n",
            "Epoch: 0053 train_loss= nan train_acc= 0.48624 val_loss= nan val_acc= 0.83333 time= 0.00941\n",
            "before feed\n",
            "Epoch: 0054 train_loss= nan train_acc= 0.48624 val_loss= nan val_acc= 0.83333 time= 0.01012\n",
            "before feed\n",
            "Epoch: 0055 train_loss= nan train_acc= 0.48624 val_loss= nan val_acc= 0.83333 time= 0.00976\n",
            "before feed\n",
            "Epoch: 0056 train_loss= nan train_acc= 0.48624 val_loss= nan val_acc= 0.83333 time= 0.00952\n",
            "before feed\n",
            "Epoch: 0057 train_loss= nan train_acc= 0.48624 val_loss= nan val_acc= 0.83333 time= 0.01245\n",
            "before feed\n",
            "Epoch: 0058 train_loss= nan train_acc= 0.48624 val_loss= nan val_acc= 0.83333 time= 0.00952\n",
            "before feed\n",
            "Epoch: 0059 train_loss= nan train_acc= 0.48624 val_loss= nan val_acc= 0.83333 time= 0.00965\n",
            "before feed\n",
            "Epoch: 0060 train_loss= nan train_acc= 0.48624 val_loss= nan val_acc= 0.83333 time= 0.01090\n",
            "before feed\n",
            "Epoch: 0061 train_loss= nan train_acc= 0.48624 val_loss= nan val_acc= 0.83333 time= 0.00994\n",
            "before feed\n",
            "Epoch: 0062 train_loss= nan train_acc= 0.48624 val_loss= nan val_acc= 0.83333 time= 0.01022\n",
            "before feed\n",
            "Epoch: 0063 train_loss= nan train_acc= 0.48624 val_loss= nan val_acc= 0.83333 time= 0.01113\n",
            "before feed\n",
            "Epoch: 0064 train_loss= nan train_acc= 0.48624 val_loss= nan val_acc= 0.83333 time= 0.01215\n",
            "before feed\n",
            "Epoch: 0065 train_loss= nan train_acc= 0.48624 val_loss= nan val_acc= 0.83333 time= 0.01497\n",
            "before feed\n",
            "Epoch: 0066 train_loss= nan train_acc= 0.48624 val_loss= nan val_acc= 0.83333 time= 0.01489\n",
            "before feed\n",
            "Epoch: 0067 train_loss= nan train_acc= 0.48624 val_loss= nan val_acc= 0.83333 time= 0.01182\n",
            "before feed\n",
            "Epoch: 0068 train_loss= nan train_acc= 0.48624 val_loss= nan val_acc= 0.83333 time= 0.01111\n",
            "before feed\n",
            "Epoch: 0069 train_loss= nan train_acc= 0.48624 val_loss= nan val_acc= 0.83333 time= 0.01578\n",
            "before feed\n",
            "Epoch: 0070 train_loss= nan train_acc= 0.48624 val_loss= nan val_acc= 0.83333 time= 0.01020\n",
            "before feed\n",
            "Epoch: 0071 train_loss= nan train_acc= 0.48624 val_loss= nan val_acc= 0.83333 time= 0.01052\n",
            "before feed\n",
            "Epoch: 0072 train_loss= nan train_acc= 0.48624 val_loss= nan val_acc= 0.83333 time= 0.01011\n",
            "before feed\n",
            "Epoch: 0073 train_loss= nan train_acc= 0.48624 val_loss= nan val_acc= 0.83333 time= 0.01040\n",
            "before feed\n",
            "Epoch: 0074 train_loss= nan train_acc= 0.48624 val_loss= nan val_acc= 0.83333 time= 0.01267\n",
            "before feed\n",
            "Epoch: 0075 train_loss= nan train_acc= 0.48624 val_loss= nan val_acc= 0.83333 time= 0.01115\n",
            "before feed\n",
            "Epoch: 0076 train_loss= nan train_acc= 0.48624 val_loss= nan val_acc= 0.83333 time= 0.00993\n",
            "before feed\n",
            "Epoch: 0077 train_loss= nan train_acc= 0.48624 val_loss= nan val_acc= 0.83333 time= 0.01114\n",
            "before feed\n",
            "Epoch: 0078 train_loss= nan train_acc= 0.48624 val_loss= nan val_acc= 0.83333 time= 0.01095\n",
            "before feed\n",
            "Epoch: 0079 train_loss= nan train_acc= 0.48624 val_loss= nan val_acc= 0.83333 time= 0.00998\n",
            "before feed\n",
            "Epoch: 0080 train_loss= nan train_acc= 0.48624 val_loss= nan val_acc= 0.83333 time= 0.00963\n",
            "before feed\n",
            "Epoch: 0081 train_loss= nan train_acc= 0.48624 val_loss= nan val_acc= 0.83333 time= 0.00949\n",
            "before feed\n",
            "Epoch: 0082 train_loss= nan train_acc= 0.48624 val_loss= nan val_acc= 0.83333 time= 0.01013\n",
            "before feed\n",
            "Epoch: 0083 train_loss= nan train_acc= 0.48624 val_loss= nan val_acc= 0.83333 time= 0.00990\n",
            "before feed\n",
            "Epoch: 0084 train_loss= nan train_acc= 0.48624 val_loss= nan val_acc= 0.83333 time= 0.00945\n",
            "before feed\n",
            "Epoch: 0085 train_loss= nan train_acc= 0.48624 val_loss= nan val_acc= 0.83333 time= 0.00956\n",
            "before feed\n",
            "Epoch: 0086 train_loss= nan train_acc= 0.48624 val_loss= nan val_acc= 0.83333 time= 0.00993\n",
            "before feed\n",
            "Epoch: 0087 train_loss= nan train_acc= 0.48624 val_loss= nan val_acc= 0.83333 time= 0.01010\n",
            "before feed\n",
            "Epoch: 0088 train_loss= nan train_acc= 0.48624 val_loss= nan val_acc= 0.83333 time= 0.00991\n",
            "before feed\n",
            "Epoch: 0089 train_loss= nan train_acc= 0.48624 val_loss= nan val_acc= 0.83333 time= 0.00992\n",
            "before feed\n",
            "Epoch: 0090 train_loss= nan train_acc= 0.48624 val_loss= nan val_acc= 0.83333 time= 0.01033\n",
            "before feed\n",
            "Epoch: 0091 train_loss= nan train_acc= 0.48624 val_loss= nan val_acc= 0.83333 time= 0.00870\n",
            "before feed\n",
            "Epoch: 0092 train_loss= nan train_acc= 0.48624 val_loss= nan val_acc= 0.83333 time= 0.00972\n",
            "before feed\n",
            "Epoch: 0093 train_loss= nan train_acc= 0.48624 val_loss= nan val_acc= 0.83333 time= 0.01360\n",
            "before feed\n",
            "Epoch: 0094 train_loss= nan train_acc= 0.48624 val_loss= nan val_acc= 0.83333 time= 0.01071\n",
            "before feed\n",
            "Epoch: 0095 train_loss= nan train_acc= 0.48624 val_loss= nan val_acc= 0.83333 time= 0.01012\n",
            "before feed\n",
            "Epoch: 0096 train_loss= nan train_acc= 0.48624 val_loss= nan val_acc= 0.83333 time= 0.01350\n",
            "before feed\n",
            "Epoch: 0097 train_loss= nan train_acc= 0.48624 val_loss= nan val_acc= 0.83333 time= 0.00992\n",
            "before feed\n",
            "Epoch: 0098 train_loss= nan train_acc= 0.48624 val_loss= nan val_acc= 0.83333 time= 0.00958\n",
            "before feed\n",
            "Epoch: 0099 train_loss= nan train_acc= 0.48624 val_loss= nan val_acc= 0.83333 time= 0.00990\n",
            "before feed\n",
            "Epoch: 0100 train_loss= nan train_acc= 0.48624 val_loss= nan val_acc= 0.83333 time= 0.01012\n",
            "before feed\n",
            "Epoch: 0101 train_loss= nan train_acc= 0.48624 val_loss= nan val_acc= 0.83333 time= 0.00979\n",
            "before feed\n",
            "Epoch: 0102 train_loss= nan train_acc= 0.48624 val_loss= nan val_acc= 0.83333 time= 0.01067\n",
            "before feed\n",
            "Epoch: 0103 train_loss= nan train_acc= 0.48624 val_loss= nan val_acc= 0.83333 time= 0.00973\n",
            "before feed\n",
            "Epoch: 0104 train_loss= nan train_acc= 0.48624 val_loss= nan val_acc= 0.83333 time= 0.00944\n",
            "before feed\n",
            "Epoch: 0105 train_loss= nan train_acc= 0.48624 val_loss= nan val_acc= 0.83333 time= 0.00953\n",
            "before feed\n",
            "Epoch: 0106 train_loss= nan train_acc= 0.48624 val_loss= nan val_acc= 0.83333 time= 0.00907\n",
            "before feed\n",
            "Epoch: 0107 train_loss= nan train_acc= 0.48624 val_loss= nan val_acc= 0.83333 time= 0.00928\n",
            "before feed\n",
            "Epoch: 0108 train_loss= nan train_acc= 0.48624 val_loss= nan val_acc= 0.83333 time= 0.00987\n",
            "before feed\n",
            "Epoch: 0109 train_loss= nan train_acc= 0.48624 val_loss= nan val_acc= 0.83333 time= 0.01002\n",
            "before feed\n",
            "Epoch: 0110 train_loss= nan train_acc= 0.48624 val_loss= nan val_acc= 0.83333 time= 0.00935\n",
            "before feed\n",
            "Epoch: 0111 train_loss= nan train_acc= 0.48624 val_loss= nan val_acc= 0.83333 time= 0.00934\n",
            "before feed\n",
            "Epoch: 0112 train_loss= nan train_acc= 0.48624 val_loss= nan val_acc= 0.83333 time= 0.01302\n",
            "before feed\n",
            "Epoch: 0113 train_loss= nan train_acc= 0.48624 val_loss= nan val_acc= 0.83333 time= 0.00989\n",
            "before feed\n",
            "Epoch: 0114 train_loss= nan train_acc= 0.48624 val_loss= nan val_acc= 0.83333 time= 0.01004\n",
            "before feed\n",
            "Epoch: 0115 train_loss= nan train_acc= 0.48624 val_loss= nan val_acc= 0.83333 time= 0.00934\n",
            "before feed\n",
            "Epoch: 0116 train_loss= nan train_acc= 0.48624 val_loss= nan val_acc= 0.83333 time= 0.00942\n",
            "before feed\n",
            "Epoch: 0117 train_loss= nan train_acc= 0.48624 val_loss= nan val_acc= 0.83333 time= 0.00955\n",
            "before feed\n",
            "Epoch: 0118 train_loss= nan train_acc= 0.48624 val_loss= nan val_acc= 0.83333 time= 0.00927\n",
            "before feed\n",
            "Epoch: 0119 train_loss= nan train_acc= 0.48624 val_loss= nan val_acc= 0.83333 time= 0.00922\n",
            "before feed\n",
            "Epoch: 0120 train_loss= nan train_acc= 0.48624 val_loss= nan val_acc= 0.83333 time= 0.00972\n",
            "before feed\n",
            "Epoch: 0121 train_loss= nan train_acc= 0.48624 val_loss= nan val_acc= 0.83333 time= 0.00977\n",
            "before feed\n",
            "Epoch: 0122 train_loss= nan train_acc= 0.48624 val_loss= nan val_acc= 0.83333 time= 0.00962\n",
            "before feed\n",
            "Epoch: 0123 train_loss= nan train_acc= 0.48624 val_loss= nan val_acc= 0.83333 time= 0.00982\n",
            "before feed\n",
            "Epoch: 0124 train_loss= nan train_acc= 0.48624 val_loss= nan val_acc= 0.83333 time= 0.00910\n",
            "before feed\n",
            "Epoch: 0125 train_loss= nan train_acc= 0.48624 val_loss= nan val_acc= 0.83333 time= 0.00932\n",
            "before feed\n",
            "Epoch: 0126 train_loss= nan train_acc= 0.48624 val_loss= nan val_acc= 0.83333 time= 0.00981\n",
            "before feed\n",
            "Epoch: 0127 train_loss= nan train_acc= 0.48624 val_loss= nan val_acc= 0.83333 time= 0.00975\n",
            "before feed\n",
            "Epoch: 0128 train_loss= nan train_acc= 0.48624 val_loss= nan val_acc= 0.83333 time= 0.00903\n",
            "before feed\n",
            "Epoch: 0129 train_loss= nan train_acc= 0.48624 val_loss= nan val_acc= 0.83333 time= 0.00964\n",
            "before feed\n",
            "Epoch: 0130 train_loss= nan train_acc= 0.48624 val_loss= nan val_acc= 0.83333 time= 0.01007\n",
            "before feed\n",
            "Epoch: 0131 train_loss= nan train_acc= 0.48624 val_loss= nan val_acc= 0.83333 time= 0.00996\n",
            "before feed\n",
            "Epoch: 0132 train_loss= nan train_acc= 0.48624 val_loss= nan val_acc= 0.83333 time= 0.01186\n",
            "before feed\n",
            "Epoch: 0133 train_loss= nan train_acc= 0.48624 val_loss= nan val_acc= 0.83333 time= 0.00965\n",
            "before feed\n",
            "Epoch: 0134 train_loss= nan train_acc= 0.48624 val_loss= nan val_acc= 0.83333 time= 0.01000\n",
            "before feed\n",
            "Epoch: 0135 train_loss= nan train_acc= 0.48624 val_loss= nan val_acc= 0.83333 time= 0.00935\n",
            "before feed\n",
            "Epoch: 0136 train_loss= nan train_acc= 0.48624 val_loss= nan val_acc= 0.83333 time= 0.00953\n",
            "before feed\n",
            "Epoch: 0137 train_loss= nan train_acc= 0.48624 val_loss= nan val_acc= 0.83333 time= 0.01009\n",
            "before feed\n",
            "Epoch: 0138 train_loss= nan train_acc= 0.48624 val_loss= nan val_acc= 0.83333 time= 0.00957\n",
            "before feed\n",
            "Epoch: 0139 train_loss= nan train_acc= 0.48624 val_loss= nan val_acc= 0.83333 time= 0.00986\n",
            "before feed\n",
            "Epoch: 0140 train_loss= nan train_acc= 0.48624 val_loss= nan val_acc= 0.83333 time= 0.00928\n",
            "before feed\n",
            "Epoch: 0141 train_loss= nan train_acc= 0.48624 val_loss= nan val_acc= 0.83333 time= 0.00930\n",
            "before feed\n",
            "Epoch: 0142 train_loss= nan train_acc= 0.48624 val_loss= nan val_acc= 0.83333 time= 0.01042\n",
            "before feed\n",
            "Epoch: 0143 train_loss= nan train_acc= 0.48624 val_loss= nan val_acc= 0.83333 time= 0.01227\n",
            "before feed\n",
            "Epoch: 0144 train_loss= nan train_acc= 0.48624 val_loss= nan val_acc= 0.83333 time= 0.00960\n",
            "before feed\n",
            "Epoch: 0145 train_loss= nan train_acc= 0.48624 val_loss= nan val_acc= 0.83333 time= 0.00962\n",
            "before feed\n",
            "Epoch: 0146 train_loss= nan train_acc= 0.48624 val_loss= nan val_acc= 0.83333 time= 0.00957\n",
            "before feed\n",
            "Epoch: 0147 train_loss= nan train_acc= 0.48624 val_loss= nan val_acc= 0.83333 time= 0.00951\n",
            "before feed\n",
            "Epoch: 0148 train_loss= nan train_acc= 0.48624 val_loss= nan val_acc= 0.83333 time= 0.00986\n",
            "before feed\n",
            "Epoch: 0149 train_loss= nan train_acc= 0.48624 val_loss= nan val_acc= 0.83333 time= 0.01026\n",
            "before feed\n",
            "Epoch: 0150 train_loss= nan train_acc= 0.48624 val_loss= nan val_acc= 0.83333 time= 0.00945\n",
            "before feed\n",
            "Epoch: 0151 train_loss= nan train_acc= 0.48624 val_loss= nan val_acc= 0.83333 time= 0.00924\n",
            "before feed\n",
            "Epoch: 0152 train_loss= nan train_acc= 0.48624 val_loss= nan val_acc= 0.83333 time= 0.01201\n",
            "before feed\n",
            "Epoch: 0153 train_loss= nan train_acc= 0.48624 val_loss= nan val_acc= 0.83333 time= 0.00916\n",
            "before feed\n",
            "Epoch: 0154 train_loss= nan train_acc= 0.48624 val_loss= nan val_acc= 0.83333 time= 0.01018\n",
            "before feed\n",
            "Epoch: 0155 train_loss= nan train_acc= 0.48624 val_loss= nan val_acc= 0.83333 time= 0.00987\n",
            "before feed\n",
            "Epoch: 0156 train_loss= nan train_acc= 0.48624 val_loss= nan val_acc= 0.83333 time= 0.01003\n",
            "before feed\n",
            "Epoch: 0157 train_loss= nan train_acc= 0.48624 val_loss= nan val_acc= 0.83333 time= 0.00998\n",
            "before feed\n",
            "Epoch: 0158 train_loss= nan train_acc= 0.48624 val_loss= nan val_acc= 0.83333 time= 0.00938\n",
            "before feed\n",
            "Epoch: 0159 train_loss= nan train_acc= 0.48624 val_loss= nan val_acc= 0.83333 time= 0.00945\n",
            "before feed\n",
            "Epoch: 0160 train_loss= nan train_acc= 0.48624 val_loss= nan val_acc= 0.83333 time= 0.00899\n",
            "before feed\n",
            "Epoch: 0161 train_loss= nan train_acc= 0.48624 val_loss= nan val_acc= 0.83333 time= 0.01690\n",
            "before feed\n",
            "Epoch: 0162 train_loss= nan train_acc= 0.48624 val_loss= nan val_acc= 0.83333 time= 0.01056\n",
            "before feed\n",
            "Epoch: 0163 train_loss= nan train_acc= 0.48624 val_loss= nan val_acc= 0.83333 time= 0.00978\n",
            "before feed\n",
            "Epoch: 0164 train_loss= nan train_acc= 0.48624 val_loss= nan val_acc= 0.83333 time= 0.01210\n",
            "before feed\n",
            "Epoch: 0165 train_loss= nan train_acc= 0.48624 val_loss= nan val_acc= 0.83333 time= 0.00985\n",
            "before feed\n",
            "Epoch: 0166 train_loss= nan train_acc= 0.48624 val_loss= nan val_acc= 0.83333 time= 0.00920\n",
            "before feed\n",
            "Epoch: 0167 train_loss= nan train_acc= 0.48624 val_loss= nan val_acc= 0.83333 time= 0.01556\n",
            "before feed\n",
            "Epoch: 0168 train_loss= nan train_acc= 0.48624 val_loss= nan val_acc= 0.83333 time= 0.01115\n",
            "before feed\n",
            "Epoch: 0169 train_loss= nan train_acc= 0.48624 val_loss= nan val_acc= 0.83333 time= 0.01148\n",
            "before feed\n",
            "Epoch: 0170 train_loss= nan train_acc= 0.48624 val_loss= nan val_acc= 0.83333 time= 0.01292\n",
            "before feed\n",
            "Epoch: 0171 train_loss= nan train_acc= 0.48624 val_loss= nan val_acc= 0.83333 time= 0.01100\n",
            "before feed\n",
            "Epoch: 0172 train_loss= nan train_acc= 0.48624 val_loss= nan val_acc= 0.83333 time= 0.00996\n",
            "before feed\n",
            "Epoch: 0173 train_loss= nan train_acc= 0.48624 val_loss= nan val_acc= 0.83333 time= 0.01032\n",
            "before feed\n",
            "Epoch: 0174 train_loss= nan train_acc= 0.48624 val_loss= nan val_acc= 0.83333 time= 0.00996\n",
            "before feed\n",
            "Epoch: 0175 train_loss= nan train_acc= 0.48624 val_loss= nan val_acc= 0.83333 time= 0.00957\n",
            "before feed\n",
            "Epoch: 0176 train_loss= nan train_acc= 0.48624 val_loss= nan val_acc= 0.83333 time= 0.00986\n",
            "before feed\n",
            "Epoch: 0177 train_loss= nan train_acc= 0.48624 val_loss= nan val_acc= 0.83333 time= 0.00979\n",
            "before feed\n",
            "Epoch: 0178 train_loss= nan train_acc= 0.48624 val_loss= nan val_acc= 0.83333 time= 0.00983\n",
            "before feed\n",
            "Epoch: 0179 train_loss= nan train_acc= 0.48624 val_loss= nan val_acc= 0.83333 time= 0.00969\n",
            "before feed\n",
            "Epoch: 0180 train_loss= nan train_acc= 0.48624 val_loss= nan val_acc= 0.83333 time= 0.00941\n",
            "before feed\n",
            "Epoch: 0181 train_loss= nan train_acc= 0.48624 val_loss= nan val_acc= 0.83333 time= 0.01358\n",
            "before feed\n",
            "Epoch: 0182 train_loss= nan train_acc= 0.48624 val_loss= nan val_acc= 0.83333 time= 0.00863\n",
            "before feed\n",
            "Epoch: 0183 train_loss= nan train_acc= 0.48624 val_loss= nan val_acc= 0.83333 time= 0.00950\n",
            "before feed\n",
            "Epoch: 0184 train_loss= nan train_acc= 0.48624 val_loss= nan val_acc= 0.83333 time= 0.01014\n",
            "before feed\n",
            "Epoch: 0185 train_loss= nan train_acc= 0.48624 val_loss= nan val_acc= 0.83333 time= 0.00984\n",
            "before feed\n",
            "Epoch: 0186 train_loss= nan train_acc= 0.48624 val_loss= nan val_acc= 0.83333 time= 0.00984\n",
            "before feed\n",
            "Epoch: 0187 train_loss= nan train_acc= 0.48624 val_loss= nan val_acc= 0.83333 time= 0.01013\n",
            "before feed\n",
            "Epoch: 0188 train_loss= nan train_acc= 0.48624 val_loss= nan val_acc= 0.83333 time= 0.00974\n",
            "before feed\n",
            "Epoch: 0189 train_loss= nan train_acc= 0.48624 val_loss= nan val_acc= 0.83333 time= 0.01253\n",
            "before feed\n",
            "Epoch: 0190 train_loss= nan train_acc= 0.48624 val_loss= nan val_acc= 0.83333 time= 0.01005\n",
            "before feed\n",
            "Epoch: 0191 train_loss= nan train_acc= 0.48624 val_loss= nan val_acc= 0.83333 time= 0.00936\n",
            "before feed\n",
            "Epoch: 0192 train_loss= nan train_acc= 0.48624 val_loss= nan val_acc= 0.83333 time= 0.01030\n",
            "before feed\n",
            "Epoch: 0193 train_loss= nan train_acc= 0.48624 val_loss= nan val_acc= 0.83333 time= 0.00968\n",
            "before feed\n",
            "Epoch: 0194 train_loss= nan train_acc= 0.48624 val_loss= nan val_acc= 0.83333 time= 0.00994\n",
            "before feed\n",
            "Epoch: 0195 train_loss= nan train_acc= 0.48624 val_loss= nan val_acc= 0.83333 time= 0.01021\n",
            "before feed\n",
            "Epoch: 0196 train_loss= nan train_acc= 0.48624 val_loss= nan val_acc= 0.83333 time= 0.00961\n",
            "before feed\n",
            "Epoch: 0197 train_loss= nan train_acc= 0.48624 val_loss= nan val_acc= 0.83333 time= 0.00954\n",
            "before feed\n",
            "Epoch: 0198 train_loss= nan train_acc= 0.48624 val_loss= nan val_acc= 0.83333 time= 0.01019\n",
            "before feed\n",
            "Epoch: 0199 train_loss= nan train_acc= 0.48624 val_loss= nan val_acc= 0.83333 time= 0.01191\n",
            "before feed\n",
            "Epoch: 0200 train_loss= nan train_acc= 0.48624 val_loss= nan val_acc= 0.83333 time= 0.00960\n",
            "Optimization Finished!\n",
            "Test set results: cost= nan accuracy= 0.80556 time= 0.00493\n"
          ],
          "name": "stdout"
        }
      ]
    },
    {
      "cell_type": "code",
      "metadata": {
        "id": "txjJqIaKFgIQ"
      },
      "source": [
        "feed_dict"
      ],
      "execution_count": null,
      "outputs": []
    },
    {
      "cell_type": "code",
      "metadata": {
        "id": "Wt52Uy3TCBAx"
      },
      "source": [
        ""
      ],
      "execution_count": null,
      "outputs": []
    },
    {
      "cell_type": "markdown",
      "metadata": {
        "id": "JS3SBY4fOadG"
      },
      "source": [
        "![Logo](https://uploads-ssl.webflow.com/5a72b3a09e04c7000168f4de/5ce6005b22f44fde8ced717c_MD%20Horizontal.png)\n",
        "\n",
        "\n",
        "# Octavian.ai machine learning on graphs course\n",
        "\n",
        "Welcome to our summer course on graph ML.\n",
        "\n",
        "This course is primarily exercise based - you'll learn through reading and writing code, and answering the questions throughout these exercises.\n",
        "\n",
        "[Join our Discord](https://discord.gg/a2Z82Te) to chat with fellow enthusiasts about this exercise and give us feedback to direct the next one.\n",
        "\n",
        "## Exercise 2, graph convolutional networks\n",
        "In this exercise, you will learn how to classify nodes in a graph. We'll do this by creating a graph network that passes messages along the edges of the graph.\n",
        "\n",
        "This technique is very versatile and with creativity can be applied to a wide range of graph problems.\n",
        "\n",
        "### Dataset\n",
        "\n",
        "We'll work with the popular [Cora](https://relational.fit.cvut.cz/dataset/CORA) dataset. Using a well known dataset makes this exercise easier as there are lots of existing solutions to look at if you run into trouble. Also, we know a solution is possible, which is not always the case in ML research.\n",
        "\n",
        "Cora is a academic paper citation graph. Its nodes are papers and the edges are citations between them. Each paper also comes with a set of mentioned topics, which we will use to help increase the network's classificiation accuracy.\n",
        "\n",
        "Each node has a classification label, which we will train our network to output:\n",
        "*\t\tCase_Based\n",
        "*\t\tGenetic_Algorithms\n",
        "*\t\tNeural_Networks\n",
        "*\t\tProbabilistic_Methods\n",
        "*\t\tReinforcement_Learning\n",
        "*\t\tRule_Learning\n",
        "*\t\tTheory\n",
        "\n",
        "Some statistics from the Relational Dataset Repository:\n",
        ">The Cora dataset consists of 2708 scientific publications classified into one of seven classes. The citation network consists of 5429 links. Each publication in the dataset is described by a 0/1-valued word vector indicating the absence/presence of the corresponding word from the dictionary. The dictionary consists of 1433 unique words.\n",
        "\n",
        "### Introduction to Graph Convolutional Networks (GCN)\n",
        "\n",
        "A graph convolutional network (GCN) is a machine learning technique for graphs. In a GCN each node has an initial state and directed edge weights:\n",
        "\n",
        "![Illustration of initial graph state](https://uploads-ssl.webflow.com/5a72b3a09e04c7000168f4de/5d4f208e2108a9472bcd5f70_Graph%20illustrations%20(1).png)\n",
        "\n",
        "This initial state could be some known information about a node (in our case, the keywords of the paper), or it could be a fixed/learned/random value.\n",
        "\n",
        "Then a number (determined by the engineer) of GCN layers are executed. In each GCN layer:\n",
        "- Propagate each node's state to its neighbors along the graph's edges (a weighted sum by edge weight)\n",
        "- Then apply the same dense layer *W* to every node, with an optional activation function *σ*\n",
        "\n",
        "![illustration of propagation](https://uploads-ssl.webflow.com/5a72b3a09e04c7000168f4de/5d4f208b8ab9f5fc43094ed8_Graph%20illustrations.png)\n",
        "\n",
        "These two steps can be thought of as the eqivalent of a dense layer in a standard feedforward network, you get to design the architecture by making decisions such as:\n",
        "- How many of these GCN layers to stack\n",
        "- What size should the output node state be after each layer?\n",
        "- What activation function should each GCN layer use?\n",
        "- What regularisation should be applied?\n",
        "\n",
        "The result of this network is a state for each node in the graph. \n",
        "\n",
        "To use these node states as node classifications (as we shall in this exercise), softmax can be used as the final activation function. [This generates a probability-distribution-like vector for each node](https://developers.google.com/machine-learning/crash-course/multi-class-neural-networks/softmax).\n",
        "\n",
        "### Theoretical background\n",
        "\n",
        "Thomas Kipf has published [really excellent articles](https://tkipf.github.io/graph-convolutional-networks/) about this area of technology, and this tutorial is based off of his basic network structure [outlined here](https://tkipf.github.io/graph-convolutional-networks/).\n",
        "\n",
        "You're encouraged to read Thomas's articles to get the full background on this technique. This exercise focuses on the application of it, as opposed to the background and theory.\n",
        "\n",
        "This area of technology is still in its infancy; The capabilties of GCN have not been fully charted. Whilst working on this exercise, embrace a healthy relish for research and the unknown!\n",
        "\n",
        "### Exercise structure\n",
        "\n",
        "In this exercise you will create a fully functioning graph convolutional network. \n",
        "\n",
        "The exercise is a series of empty functions that you will fill out according to the instructions. There are then a series of unit tests to verify that your code works according to plan.\n",
        "\n",
        "# The exercise\n",
        "\n",
        "## Library setup\n",
        "\n",
        "We'll write our code in Tensorflow 2.0 and Keras. We'll also use Numpy and Scipy for some of the initial data manipulation. Let's load up all the libraries we'll need:\n"
      ]
    },
    {
      "cell_type": "code",
      "metadata": {
        "colab": {
          "base_uri": "https://localhost:8080/"
        },
        "id": "1PTFYh33GYD2",
        "outputId": "49729bf6-2f58-4250-b6fc-ee4a47af25a4"
      },
      "source": [
        "# Import all the libraries we need\n",
        "!pip uninstall -q -y tensorflow\n",
        "!pip uninstall -q -y grpcio\n",
        " \n",
        "!pip install -q tensorflow\n",
        "!pip install -q grpcio"
      ],
      "execution_count": 1,
      "outputs": [
        {
          "output_type": "stream",
          "text": [
            "\u001b[K     |████████████████████████████████| 320.4MB 55kB/s \n",
            "\u001b[?25h"
          ],
          "name": "stdout"
        }
      ]
    },
    {
      "cell_type": "code",
      "metadata": {
        "id": "r6qCoY_vG4ia"
      },
      "source": [
        ""
      ],
      "execution_count": null,
      "outputs": []
    },
    {
      "cell_type": "code",
      "metadata": {
        "colab": {
          "base_uri": "https://localhost:8080/"
        },
        "id": "fY9e6RkuGlbJ",
        "outputId": "e0f4ffe0-c3f4-44dc-b0a3-1030f476adfc"
      },
      "source": [
        "# %tensorflow_version 2.x"
      ],
      "execution_count": 36,
      "outputs": [
        {
          "output_type": "stream",
          "text": [
            "TensorFlow is already loaded. Please restart the runtime to change versions.\n"
          ],
          "name": "stdout"
        }
      ]
    },
    {
      "cell_type": "code",
      "metadata": {
        "id": "ESFlVsylONbD",
        "colab": {
          "base_uri": "https://localhost:8080/"
        },
        "outputId": "27d928ca-3e3c-4c4c-e2dc-2c054a645fa0"
      },
      "source": [
        "\n",
        "from __future__ import absolute_import, division, print_function, unicode_literals\n",
        " \n",
        "import tensorflow as tf\n",
        "\n",
        "from tensorflow import keras\n",
        "from tensorflow.keras import layers, backend as bk\n",
        "from tensorflow.keras.layers import Dense, Flatten, Conv2D\n",
        "from tensorflow.keras import Model\n",
        " \n",
        "import scipy.sparse as sp\n",
        "import numpy as np\n",
        "from sklearn import preprocessing\n",
        " \n",
        "import matplotlib.pyplot as plt \n",
        " \n",
        "import collections\n",
        "from collections import namedtuple\n",
        "import unittest\n",
        "import os\n",
        "import sys\n",
        " \n",
        "print(\"TensorFlow version: \", tf.__version__)"
      ],
      "execution_count": 2,
      "outputs": [
        {
          "output_type": "stream",
          "text": [
            "TensorFlow version:  2.3.1\n"
          ],
          "name": "stdout"
        }
      ]
    },
    {
      "cell_type": "markdown",
      "metadata": {
        "id": "F0QUSDq5pgUB"
      },
      "source": [
        "## Data loading\n",
        "\n",
        "We're going to use the data as prepared in Thomas Kipf's TensorFlow GCN codebase. It's been neatly pickled so that we can easily load it from disk. The following code will download the data, the TensorFlow codebase, and load the data into memory."
      ]
    },
    {
      "cell_type": "code",
      "metadata": {
        "id": "mUQDQ_HTuoIT",
        "colab": {
          "base_uri": "https://localhost:8080/"
        },
        "outputId": "551fd83b-b476-41bd-9585-154dfd6feb82"
      },
      "source": [
        "# Thanks to Thomas Kipf for sharing this and also for all his work\n",
        "# # researching and publicizing GCNs\n",
        "# !git clone https://github.com/tkipf/gcn.git\n",
        "\n",
        "# # Add the GCN repo to the import path\n",
        "# sys.path.append('/content/gcn')"
      ],
      "execution_count": null,
      "outputs": [
        {
          "output_type": "stream",
          "text": [
            "fatal: destination path 'gcn' already exists and is not an empty directory.\n"
          ],
          "name": "stdout"
        }
      ]
    },
    {
      "cell_type": "code",
      "metadata": {
        "id": "_4TdEMH3xrgU",
        "colab": {
          "base_uri": "https://localhost:8080/"
        },
        "outputId": "f80a4739-e499-4896-c31e-1b74ad13c10a"
      },
      "source": [
        "# !ls gcn/gcn/"
      ],
      "execution_count": null,
      "outputs": [
        {
          "output_type": "stream",
          "text": [
            "data\t     inits.py\tmetrics.py  train.py\n",
            "__init__.py  layers.py\tmodels.py   utils.py\n"
          ],
          "name": "stdout"
        }
      ]
    },
    {
      "cell_type": "code",
      "metadata": {
        "id": "MVF8ADPAOCax"
      },
      "source": [
        "from scipy import sparse\n"
      ],
      "execution_count": 4,
      "outputs": []
    },
    {
      "cell_type": "code",
      "metadata": {
        "id": "YcsSfXzmNaVL"
      },
      "source": [
        "features = sparse.load_npz(\"features.npz\")\n",
        "adj = sparse.load_npz(\"adj.npz\")\n",
        "\n",
        "with open('array.npy', 'rb') as f:\n",
        "    y_train = np.load(f)\n",
        "    y_val = np.load(f)\n",
        "    y_test = np.load(f)\n",
        "    train_mask = np.load(f)\n",
        "    val_mask = np.load(f)\n",
        "    test_mask = np.load(f)"
      ],
      "execution_count": 6,
      "outputs": []
    },
    {
      "cell_type": "code",
      "metadata": {
        "id": "Cs-m-oE7Em8G"
      },
      "source": [
        "features=sp.lil_matrix(features)"
      ],
      "execution_count": 7,
      "outputs": []
    },
    {
      "cell_type": "code",
      "metadata": {
        "id": "kKjWq_p1piBj",
        "colab": {
          "base_uri": "https://localhost:8080/"
        },
        "outputId": "9250362e-04f8-435a-c1aa-f141c4f60562"
      },
      "source": [
        "# Load the data\n",
        "# %cd -q /content/gcn/gcn\n",
        "#from gcn.utils import load_data\n",
        "#adj, features, y_train, y_val, y_test, train_mask, val_mask, test_mask\n",
        "#adj, features, y_train, y_val, y_test, train_mask, val_mask, test_mask = load_data('cora')\n",
        "print(\"Loaded\",len(y_train),\"nodes\")\n",
        "print()\n",
        "print(\"-- Data format --\")\n",
        "print(\"Adj:       \", adj.shape,             type(adj), \"number of indices\", len(adj.indices))\n",
        "print(\"y_train:   \", y_train.shape, \"\\t\",   type(y_train))\n",
        "print(\"train_mask:\", train_mask.shape,\"\\t\", type(train_mask))\n",
        "print(\"features:\", features.shape,\"\\t\", type(features))"
      ],
      "execution_count": 8,
      "outputs": [
        {
          "output_type": "stream",
          "text": [
            "Loaded 182 nodes\n",
            "\n",
            "-- Data format --\n",
            "Adj:        (182, 182) <class 'scipy.sparse.csr.csr_matrix'> number of indices 9906\n",
            "y_train:    (182, 2) \t <class 'numpy.ndarray'>\n",
            "train_mask: (182,) \t <class 'numpy.ndarray'>\n",
            "features: (182, 129) \t <class 'scipy.sparse.lil.lil_matrix'>\n"
          ],
          "name": "stdout"
        }
      ]
    },
    {
      "cell_type": "code",
      "metadata": {
        "id": "PwV4hsJFd_1P",
        "colab": {
          "base_uri": "https://localhost:8080/"
        },
        "outputId": "6198146b-a93a-463b-a8a1-d7bbfed93f59"
      },
      "source": [
        "print(train_mask)"
      ],
      "execution_count": 9,
      "outputs": [
        {
          "output_type": "stream",
          "text": [
            "[ True  True  True  True  True  True  True  True False False False  True\n",
            " False  True False False  True False False False  True  True  True False\n",
            "  True  True  True False False  True  True  True False False  True False\n",
            "  True False False  True False False False False False False  True  True\n",
            "  True False  True  True False  True False  True  True False  True  True\n",
            "  True  True  True  True  True  True  True False  True  True  True False\n",
            " False False  True  True False  True  True False False  True False False\n",
            "  True  True  True False  True  True False False  True False  True  True\n",
            " False  True False  True  True False  True False False  True  True False\n",
            "  True  True  True False  True False  True  True False  True  True  True\n",
            "  True  True False False  True  True  True False  True  True False  True\n",
            " False  True  True  True False  True  True  True  True  True False  True\n",
            " False  True  True  True  True False  True  True False False  True  True\n",
            "  True  True  True False False False False False False False  True  True\n",
            "  True  True False  True  True False  True False  True  True  True False\n",
            " False False]\n"
          ],
          "name": "stdout"
        }
      ]
    },
    {
      "cell_type": "code",
      "metadata": {
        "id": "_Iwdivy7-8CD",
        "colab": {
          "base_uri": "https://localhost:8080/"
        },
        "outputId": "8dbf4fb7-a5e4-4013-b614-335f3d5e5c47"
      },
      "source": [
        "np.unique(test_mask,return_counts=True)"
      ],
      "execution_count": 10,
      "outputs": [
        {
          "output_type": "execute_result",
          "data": {
            "text/plain": [
              "(array([False,  True]), array([146,  36]))"
            ]
          },
          "metadata": {
            "tags": []
          },
          "execution_count": 10
        }
      ]
    },
    {
      "cell_type": "code",
      "metadata": {
        "id": "SU_V6Zupr1TZ",
        "colab": {
          "base_uri": "https://localhost:8080/"
        },
        "outputId": "e433d4b8-de31-450d-bdca-644ef504cf01"
      },
      "source": [
        "y_val[0]"
      ],
      "execution_count": 11,
      "outputs": [
        {
          "output_type": "execute_result",
          "data": {
            "text/plain": [
              "array([0, 0])"
            ]
          },
          "metadata": {
            "tags": []
          },
          "execution_count": 11
        }
      ]
    },
    {
      "cell_type": "code",
      "metadata": {
        "id": "_wMowHJEE_IF",
        "colab": {
          "base_uri": "https://localhost:8080/"
        },
        "outputId": "06289ccc-0320-4459-8e76-e566debfcac5"
      },
      "source": [
        "np.unique(train_mask,return_counts=True)"
      ],
      "execution_count": 12,
      "outputs": [
        {
          "output_type": "execute_result",
          "data": {
            "text/plain": [
              "(array([False,  True]), array([ 73, 109]))"
            ]
          },
          "metadata": {
            "tags": []
          },
          "execution_count": 12
        }
      ]
    },
    {
      "cell_type": "code",
      "metadata": {
        "id": "dbGX3KEWryO8",
        "colab": {
          "base_uri": "https://localhost:8080/"
        },
        "outputId": "9cf07441-8790-496e-df48-7ed9b7695437"
      },
      "source": [
        "adj.shape"
      ],
      "execution_count": 13,
      "outputs": [
        {
          "output_type": "execute_result",
          "data": {
            "text/plain": [
              "(182, 182)"
            ]
          },
          "metadata": {
            "tags": []
          },
          "execution_count": 13
        }
      ]
    },
    {
      "cell_type": "code",
      "metadata": {
        "id": "3DWlpTWACRGH",
        "colab": {
          "base_uri": "https://localhost:8080/"
        },
        "outputId": "5c1a2303-9a50-4218-bfba-ed01511563a7"
      },
      "source": [
        "y_train[138:150,]"
      ],
      "execution_count": 14,
      "outputs": [
        {
          "output_type": "execute_result",
          "data": {
            "text/plain": [
              "array([[0, 1],\n",
              "       [1, 0],\n",
              "       [0, 1],\n",
              "       [0, 1],\n",
              "       [0, 0],\n",
              "       [1, 0],\n",
              "       [1, 0],\n",
              "       [0, 1],\n",
              "       [0, 1],\n",
              "       [0, 1],\n",
              "       [0, 1],\n",
              "       [0, 0]])"
            ]
          },
          "metadata": {
            "tags": []
          },
          "execution_count": 14
        }
      ]
    },
    {
      "cell_type": "code",
      "metadata": {
        "id": "40VPNWyaB75E",
        "colab": {
          "base_uri": "https://localhost:8080/"
        },
        "outputId": "4fdf6217-ae38-46c2-cf02-a3606cd0191a"
      },
      "source": [
        "y_train.shape"
      ],
      "execution_count": 15,
      "outputs": [
        {
          "output_type": "execute_result",
          "data": {
            "text/plain": [
              "(182, 2)"
            ]
          },
          "metadata": {
            "tags": []
          },
          "execution_count": 15
        }
      ]
    },
    {
      "cell_type": "code",
      "metadata": {
        "id": "QH_uxt4PCrS3",
        "colab": {
          "base_uri": "https://localhost:8080/"
        },
        "outputId": "e73a129a-6877-4326-cc11-219b38135dd6"
      },
      "source": [
        "np.any(y_train,1)"
      ],
      "execution_count": 16,
      "outputs": [
        {
          "output_type": "execute_result",
          "data": {
            "text/plain": [
              "array([ True,  True,  True,  True,  True,  True,  True,  True, False,\n",
              "       False, False,  True,  True,  True, False,  True,  True, False,\n",
              "       False, False,  True,  True,  True, False,  True,  True,  True,\n",
              "       False,  True,  True,  True,  True, False, False,  True,  True,\n",
              "        True, False, False,  True, False, False, False, False, False,\n",
              "       False,  True,  True,  True, False,  True,  True, False,  True,\n",
              "        True,  True,  True, False,  True,  True,  True,  True,  True,\n",
              "        True,  True,  True,  True, False,  True,  True,  True, False,\n",
              "       False, False,  True,  True, False,  True,  True,  True,  True,\n",
              "        True, False,  True,  True,  True,  True, False,  True,  True,\n",
              "       False,  True,  True, False,  True,  True,  True,  True, False,\n",
              "        True,  True, False,  True, False, False,  True,  True, False,\n",
              "        True,  True,  True, False,  True, False,  True,  True,  True,\n",
              "        True,  True,  True,  True,  True, False,  True,  True,  True,\n",
              "        True, False,  True,  True, False,  True, False,  True,  True,\n",
              "        True,  True,  True,  True,  True,  True,  True, False,  True,\n",
              "        True,  True,  True,  True,  True, False,  True,  True, False,\n",
              "       False,  True,  True,  True,  True,  True, False, False,  True,\n",
              "        True, False,  True, False,  True,  True,  True,  True, False,\n",
              "        True,  True,  True,  True, False,  True,  True,  True,  True,\n",
              "       False, False])"
            ]
          },
          "metadata": {
            "tags": []
          },
          "execution_count": 16
        }
      ]
    },
    {
      "cell_type": "code",
      "metadata": {
        "id": "gl_l--35r20G",
        "colab": {
          "base_uri": "https://localhost:8080/"
        },
        "outputId": "f728ea8c-da03-4d90-910d-ab2846fc8b04"
      },
      "source": [
        "np.unique(np.nonzero(y_train)[1], return_counts=True)"
      ],
      "execution_count": 17,
      "outputs": [
        {
          "output_type": "execute_result",
          "data": {
            "text/plain": [
              "(array([0, 1]), array([61, 67]))"
            ]
          },
          "metadata": {
            "tags": []
          },
          "execution_count": 17
        }
      ]
    },
    {
      "cell_type": "code",
      "metadata": {
        "id": "GnrBXlIMV61w",
        "colab": {
          "base_uri": "https://localhost:8080/"
        },
        "outputId": "4b05fdc1-5bdd-4526-b50e-b7de80105fb1"
      },
      "source": [
        "g7features = sp.lil_matrix(np.random.randint(0,2,(2708,1433)).astype(np.float32))\n",
        "print(\"features:\", features.shape,\"\\t\", type(features))\n",
        "\n"
      ],
      "execution_count": 18,
      "outputs": [
        {
          "output_type": "stream",
          "text": [
            "features: (182, 129) \t <class 'scipy.sparse.lil.lil_matrix'>\n"
          ],
          "name": "stdout"
        }
      ]
    },
    {
      "cell_type": "markdown",
      "metadata": {
        "id": "Cx00AWImwKxl"
      },
      "source": [
        "## Data preparation\n",
        "\n",
        "The adjacency matrix is a representation of all the edges in the graph. For each node *i* and *j* in the graph, if they have an edge from *i* to *j* then `adj[i][j] == 1.0`, else `0.0`. Here's an example:\n",
        "\n",
        "![Adjacency matrix format](https://uploads-ssl.webflow.com/5a72b3a09e04c7000168f4de/5d508c94a4a3707d208a52d3_Matrix%20illustration.png)\n",
        "\n",
        "We need to do a little preparation of the adjacency matrix so it'll work well with our GCN layers.\n",
        "\n",
        "First, we need to add self-edges. This allows each node to propagate state back to itself, which allows nodes to retain information.\n",
        "\n",
        "Secondly, the adjacency matrix needs to be [normalised](). This ensures that when node states are propagated during the GCN layer, the size of the result is the average of the neighbors (instead of an ever-increasing sum, depending on the number of incoming edges a node has).\n",
        "\n",
        "The [degree matrix](https://en.wikipedia.org/wiki/Degree_matrix) measures how many edges each node has. We'll essentially divide the adjacency matrix by that so it does not grow the size of the node states each iteration.\n",
        "\n",
        "We'll use the following symmetric normalization technique, which has been noted for its [useful dynamics](https://arxiv.org/abs/1609.02907):\n",
        "\n",
        "<img src=\"https://uploads-ssl.webflow.com/5a72b3a09e04c7000168f4de/5d508ecc3691c96989e3d4f0_ex2%20sym%20normalize.png\" width=\"400px\"/>\n",
        "\n",
        "Note that the adjacency matrix is [sparse](https://en.wikipedia.org/wiki/Sparse_matrix): instead of storing every value in a *2708 × 2708 × sizeof(float)* memory matrix (hint: that's a lot of memory!), just the non-zero values are stored as a list. Its internal structure is a [list of tuples](https://docs.scipy.org/doc/scipy/reference/generated/scipy.sparse.csr_matrix.html), each with a numeric value and a coordinate of where in the matrix that value appears.\n",
        "\n",
        "Storing it sparsely greatly reduces the memory footprint of the matrix, making it easier to store, move and process. It does have one downside however: TensorFlow's library function support for sparse matrices is still quite limited.\n",
        "\n",
        "Numpy and Scipy have a richer set of functions for manipulating sparse matrices, so we'll use those to normalize the adjacency matrix prior to feeding it into Tensorflow-Keras.\n",
        "\n",
        "The following functions will be helpful:\n",
        "- `adj.sum(axis)` to get the sum along an axis (hint: the initial adjacency matrix has 1s where there are edges, so summing it along an axis generates the degrees as a vector - which you could diagonalize into a matrix)\n",
        "- `np.power(vector, power)` to square / square-root a matrix\n",
        "- `m[np.isinf(m)] = 0.0` lets you trip infinite values from a matrix, which could occur if you square-root zero\n",
        "- `sp.diags(m)` to get the [diagonal](https://en.wikipedia.org/wiki/Diagonal_matrix) of a matrix\n",
        "- `m.dot(n)` to multiply two matrices together\n",
        "- `sp.eye(m.shape[0])` to get an [identity matrix](https://en.wikipedia.org/wiki/Identity_matrix) the same size as a square matrix `m` - useful for adding self-edges\n",
        "- `m.astype(dtype)` To cast your result to the desired type\n"
      ]
    },
    {
      "cell_type": "code",
      "metadata": {
        "id": "5ZnYb_CHZAqX"
      },
      "source": [
        ""
      ],
      "execution_count": 29,
      "outputs": []
    },
    {
      "cell_type": "code",
      "metadata": {
        "id": "3FEg5eu51c3O",
        "colab": {
          "base_uri": "https://localhost:8080/"
        },
        "outputId": "23c4a357-b0ea-4ed2-9caa-c9fc73f2e8ac"
      },
      "source": [
        "# Takes a scipy csr matrix, returns a csr matrix\n",
        "def sym_normalize_matrix(adj, dtype=np.float32):\n",
        "  '''\n",
        "  Parameters:\n",
        "    adj: The matrix to normalize\n",
        "    dtype: The desired output dtype (e.g. the type of the values in the sparse matrix)\n",
        "  '''\n",
        "  # Apply the matrix normalization D^(-1/2) x A x D^(-1/2) where D is the degree and A the adjacency\n",
        "  \n",
        "  # --- WRITE CODE HERE ---\n",
        "  D = np.array(np.power(adj.sum(1).transpose(),-1/2))[0]\n",
        "  for i in range(len(D)):\n",
        "    if np.isinf(D[i]):\n",
        "      D[i] = 0.0\n",
        "  D = sp.diags(D)\n",
        "  return D.dot(adj).dot(D).astype(np.float32)\n",
        "  \n",
        "\n",
        "# Takes a scipy csr matrix, returns a csr matrix\n",
        "def prepare_adj_matrix(adj):\n",
        "  # Add self-edges to adj, then apply sym_normaliize_matrix to the result\n",
        "  \n",
        "  # --- WRITE CODE HERE ---\n",
        "  return sym_normalize_matrix(sp.eye(adj.shape[0]) + adj)\n",
        "  \n",
        "prepared_adj = prepare_adj_matrix(adj)\n",
        "\n",
        "\n",
        "\n",
        "\n",
        "# ------------------------------------------------------------------------------\n",
        "# Tests to validate your code\n",
        "# ------------------------------------------------------------------------------\n",
        "\n",
        "class TestAdjNormalization(unittest.TestCase):\n",
        "\n",
        "  def assert_csr_close(self, result, expected):\n",
        "    np.testing.assert_allclose(result.indices, expected.indices, err_msg=\"Indices mismatch\")\n",
        "    np.testing.assert_allclose(result.data,  expected.data, err_msg=\"Values mismatch\")\n",
        "    self.assertEqual(result.shape, expected.shape, \"Shape mismatch\")\n",
        "  \n",
        "  def test_prepare(self):\n",
        "    with unittest.mock.patch('__main__.sym_normalize_matrix') as mock_norm:\n",
        "      test_value = sp.csr.csr_matrix(np.array([[0,1],[0,0]], np.float32))\n",
        "      test_value_exp = sp.csr.csr_matrix(np.array([[1,1],[0,1]], np.float32))\n",
        "\n",
        "      result = prepare_adj_matrix(test_value)\n",
        "\n",
        "      assert mock_norm.call_args is not None, \"sym_normalize_matrix should be called\"\n",
        "      args, kwargs = mock_norm.call_args\n",
        "      self.assert_csr_close(args[0], test_value_exp)\n",
        "\n",
        "      print(\"test_prepare success!\")\n",
        "\n",
        "  def test_normalization(self):\n",
        "    \n",
        "    adj = sp.csr_matrix(np.array([\n",
        "        [1.0, 1.0, 0.0],\n",
        "        [1.0, 1.0, 1.0],\n",
        "        [0.0, 0.0, 1.0]\n",
        "    ]))\n",
        "       \n",
        "    result = sym_normalize_matrix(adj, np.float32)\n",
        "    \n",
        "    expected_indices = np.array([[0, 0], [1, 0],      [0, 1],     [1, 1],     [2, 1],     [2, 2]])\n",
        "    expected_values  = np.array([ 0.5,    0.40824829,  0.40824829, 0.33333333, 0.57735027, 1.   ])\n",
        "    expected_shape   = (3, 3)\n",
        "\n",
        "    expected = sp.csr_matrix(np.array([\n",
        "      [0.5, 0.40824829, 0.0],\n",
        "      [0.40824829, 0.33333333, 0.57735027],\n",
        "      [0.0, 0.0, 1.0]\n",
        "    ]))\n",
        "    \n",
        "    self.assert_csr_close(result, expected)\n",
        "    assert result.dtype == np.float32, \"Result of sym_normalize_matrix should have dtype float32, got \" + str(result.dtype)\n",
        "    \n",
        "    print(\"test_normalization success!\")\n",
        "\n",
        "TestAdjNormalization().test_prepare()\n",
        "TestAdjNormalization().test_normalization()"
      ],
      "execution_count": 19,
      "outputs": [
        {
          "output_type": "stream",
          "text": [
            "test_prepare success!\n",
            "test_normalization success!\n"
          ],
          "name": "stdout"
        },
        {
          "output_type": "stream",
          "text": [
            "/usr/local/lib/python3.6/dist-packages/ipykernel_launcher.py:11: RuntimeWarning: invalid value encountered in power\n",
            "  # This is added back by InteractiveShellApp.init_path()\n"
          ],
          "name": "stderr"
        }
      ]
    },
    {
      "cell_type": "markdown",
      "metadata": {
        "id": "iGUjyl7ZuqRV"
      },
      "source": [
        "## Keras layer\n",
        "\n",
        "Now for the exciting part, let's build a GCN layer in Keras that we can use to construct a graph convolutional network.\n",
        "\n",
        "The layer takes the *node_state* as the incoming tensor, then transforms that into a new *node_state*. It performs the following operations (many akin to a standard Dense layer):\n",
        "\n",
        "1.   [Dropout](https://machinelearningmastery.com/dropout-for-regularizing-deep-neural-networks/)\n",
        "2.   Graph convolution (i.e. multiplying the node state by the weights matrix)\n",
        "3.   Graph propagation (i.e. multiplying the adjacency matrix by the node state)\n",
        "4.   [Activation function](https://towardsdatascience.com/activation-functions-neural-networks-1cbd9f8d91d6)\n",
        "\n",
        "#### Graph convolution\n",
        "This is convolution in the sense that the same parameters are being applied to each node state. This is in the form of a shared matrix, which transforms each node state just as a [dense layer](https://towardsdatascience.com/building-neural-network-from-scratch-9c88535bf8e9) would transform the activations in a feed-forward network.\n",
        "\n",
        "#### Implementation details\n",
        "The layer takes the adjacency matrix (the sparse matrix representing graph connectivity) as a parameter in its constructor. The adjacency matrix does not change during training or testing as our graph is static.\n",
        "\n",
        "I've provided the main scaffold for the layer, initialising the weights and constructing the object.\n",
        "\n",
        "#### Your work is to fill out the **call** method of the class *GCNLayer*. I've included comments, and test cases to verify your implementation.\n",
        "\n",
        "Useful functions:\n",
        "- `tf.sparse.sparse_dense_matmul` to multiply a sparse tensor by a dense tensor\n",
        "- `tf.matmul` to multiply a dense tensor by a dense tensor"
      ]
    },
    {
      "cell_type": "code",
      "metadata": {
        "id": "g9SuJ4FCw0Ca",
        "colab": {
          "base_uri": "https://localhost:8080/"
        },
        "outputId": "3205e4b2-415a-4747-bafd-7db65d1ae2d7"
      },
      "source": [
        "class GCNLayer(keras.layers.Layer):\n",
        " \n",
        "  def __init__(self, adjacency, units, activation=tf.identity, dropout=0.0, l2=0.0, dtype=tf.float32, name=None):\n",
        "    '''\n",
        "    Params:\n",
        "      Adjacency: a tf.SparseTensor adjacency matrix\n",
        "      Units: The number of output units per node state\n",
        "      Activation: The activation function to apply to the node states\n",
        "      Dropout: The amount of dropout (0.0 being none, 1.0 being all units) to apply\n",
        "      l2: The amount of L2 regularisation to apply\n",
        "      dtype: The type of values in the tensors this layer will transform\n",
        "      name: The name of this layer \n",
        "    '''\n",
        "    super(GCNLayer, self).__init__(dtype=dtype, name=name)\n",
        "    \n",
        "    self.adjacency = adjacency\n",
        "    self.units = units\n",
        "    self.activation = activation\n",
        "    self.dropout = dropout\n",
        "    self.l2 = l2\n",
        "    \n",
        "    assert isinstance(adjacency, tf.SparseTensor), \"Adjacency matrix should be a SparseTensor\"\n",
        "    assert adjacency.dtype == self.dtype, \"Adjacency matrix not expected dtype, got \" + str(adjacency.dtype) + \" expected \" + str(self.dtype)\n",
        "    \n",
        "  def build(self, input_shape):\n",
        "    '''\n",
        "    This method is called during the initial compilation of our model. Its \n",
        "    primary job is to initialize the weights for this layer.\n",
        " \n",
        "    Params:\n",
        "      input_shape: this is the shape of the input to the layer, in our case an \n",
        "                   array of (NUMBER_NODES, NODE_STATE_SIZE)\n",
        " \n",
        "    We build one weight, w, which will be applied to each node_state. We initialize\n",
        "    it from the uniform distribution, scaled by the size of the matrix. We apply\n",
        "    l2 loss to regularize the matrix\n",
        "    '''\n",
        "    self.w = self.add_weight( \n",
        "      shape=(input_shape[1], self.units),\n",
        "      dtype=self.dtype,\n",
        "      initializer='glorot_uniform',\n",
        "      regularizer=keras.regularizers.l2(self.l2)\n",
        "    )\n",
        "  \n",
        "    \n",
        "  def call(self, node_state):\n",
        "    '''\n",
        "    This method is called to apply the layer to an incoming tensor. This is the\n",
        "    real meat of the model.\n",
        " \n",
        "    Params:\n",
        "      node_state: The tf.Tensor of node states.  Shape (NUMBER_NODES, NODE_STATE_SIZE)\n",
        " \n",
        "    Returns: The transformed node state tf.Tensor\n",
        "    '''\n",
        "    \n",
        "    assert isinstance(node_state, tf.Tensor), \"Layer input should be a Tensor, got \" + str(type(node_state))\n",
        "    assert node_state.dtype == self.dtype, \"Input to layer \" + str(self.name) + \" wrong dtype, got \" + str(node_state.dtype) + \" expected \" + str(self.dtype)\n",
        "    tf.debugging.check_numerics(node_state, \"Input to layer \" + str(self.name) + \" has numerical instability\")\n",
        " \n",
        "    # Apply dropout to the node_state, using the self.dropout as the factor\n",
        "    \n",
        "    # --- WRITE CODE HERE ---\n",
        "    node_state = tf.nn.dropout(node_state, rate=self.dropout)\n",
        "    #node_state = layers.Dropout(node_state,rate=self.dropout)\n",
        "    # Apply the node convolution: This means to matrix multiply each node_state by our learned parameters `self.w`\n",
        "    \n",
        "    # --- WRITE CODE HERE ---\n",
        "    node_state = tf.matmul(node_state, self.w)\n",
        " \n",
        "    # Apply the graph propagation: This means to multiply the\n",
        "    # normalized adjacency matrix by the node state\n",
        "    # You can do this as a single sparse_dense_matmul()\n",
        "    \n",
        "    # --- WRITE CODE HERE ---\n",
        "    node_state = tf.sparse.sparse_dense_matmul(self.adjacency, node_state)\n",
        " \n",
        "    # Apply the activation function `self.activation`\n",
        "    \n",
        "    # --- WRITE CODE HERE ---\n",
        "    node_state = self.activation(node_state)\n",
        " \n",
        "    tf.debugging.check_numerics(node_state, \"Output of layer \" + str(self.name) + \" has numerical instability\")\n",
        " \n",
        "    return node_state"
      ],
      "execution_count": 20,
      "outputs": [
        {
          "output_type": "stream",
          "text": [
            "test_propagate_node_state Success!\n",
            "test_apply_convolution Success!\n",
            "test_layer Success!\n"
          ],
          "name": "stdout"
        }
      ]
    },
    {
      "cell_type": "markdown",
      "metadata": {
        "id": "QYRaDxMY-9hH"
      },
      "source": [
        "## Keras model\n",
        "\n",
        "Now we have a working GCN layer, let's put it to work in a Keras model. Keras provides a simple interface for doing what we want to do, the Sequential model\n",
        "format. It stacks multiple layers linearly, passing the output of one as the input to the next.\n",
        "\n",
        "We're going to build the following network architecture - two layers, with the following parameters:\n",
        "\n",
        "1.   Output units = 16, activation = relu\n",
        "2.   Output units = number of different labels (7), activation = softmax\n",
        "\n",
        "We'll give each layer our prepared adjacency matrix from earlier.\n",
        "\n",
        "I've provided hyper-parameters for [L2](https://developers.google.com/machine-learning/glossary/#L2_regularization) and [dropout](https://machinelearningmastery.com/dropout-for-regularizing-deep-neural-networks/).\n",
        "\n"
      ]
    },
    {
      "cell_type": "code",
      "metadata": {
        "id": "ragAHoJ3_8Ts"
      },
      "source": [
        "L2_FACTOR = 5e-1\n",
        "DROPOUT_FACTOR = 0.1\n",
        "\n",
        "NODE_COUNT   = adj.shape[0]\n",
        "NUM_CLASSES  = 2\n",
        "CLASS_LABELS = list(range(NUM_CLASSES))\n",
        "\n",
        "# Transform our Scipy CSR matrix into a tensorflow SparseTensor\n",
        "coo = prepared_adj.tocoo()\n",
        "indices = np.array(list(zip(coo.row, coo.col)))\n",
        "tf_adj = tf.SparseTensor(indices=indices, values=tf.cast(prepared_adj.data, tf.float32), dense_shape=prepared_adj.shape)\n",
        "\n",
        "\n",
        "# ------------------------------------------------------------------------------\n",
        "# The model\n",
        "\n",
        "model = keras.models.Sequential([\n",
        "  # --- WRITE CODE HERE ---\n",
        "  GCNLayer(tf_adj, units=64, activation=keras.backend.relu, dropout=DROPOUT_FACTOR),\n",
        "  GCNLayer(tf_adj, units=64, activation=keras.backend.relu, dropout=DROPOUT_FACTOR),\n",
        "  #GCNLayer(tf_adj, units=32, activation=keras.backend.relu, dropout=DROPOUT_FACTOR),\n",
        "  keras.layers.Dense(units=NUM_CLASSES, activation='softmax')\n",
        "])\n",
        "\n",
        "# ------------------------------------------------------------------------------\n"
      ],
      "execution_count": 33,
      "outputs": []
    },
    {
      "cell_type": "markdown",
      "metadata": {
        "id": "Vr2nUPxkAxiB"
      },
      "source": [
        "### Train the model\n",
        "\n",
        "Finally, let's train the model. Keras makes this simple for us, with one call to `compile` then `fit`.\n",
        "\n",
        "I've provided the optimizer and loss functions - they're a fairly common setup, using [Adam](https://machinelearningmastery.com/adam-optimization-algorithm-for-deep-learning/) as the optimizer and [categorical cross-entropy](https://gombru.github.io/2018/05/23/cross_entropy_loss/) for the loss calculation.\n",
        "\n",
        "I've provided a helper class to monitor accuracy for us, which I've wired up in the metrics (because of how our data is structured, the normal Keras metrics won't correctly measure accuracy. We need to apply our label mask in both the loss and accuracy calculations, the custom metric below will do this).\n",
        "\n",
        "I've also provided a few graphs - you should try adding more graphs to see the inner workings of the model. Graphing is a valuable research skill."
      ]
    },
    {
      "cell_type": "code",
      "metadata": {
        "id": "oYw5XEthB9rr"
      },
      "source": [
        "# Metric to measure accuracy of our model, optionally by class.\n",
        "\n",
        "# This is needed as the way we're treating our data doesn't fit the Keras\n",
        "# metrics. In a normal ML flow you have seperate lists of examples (e.g. input \n",
        "# and expected label) for training, testing and validation. You feed one of these\n",
        "# lists in to your training/evaluation loop and measure the model's loss and\n",
        "# accuracy on those examples.\n",
        "\n",
        "# Because our network is a graph, the input to the network is a tensor of node states\n",
        "# and we need to pass the entire set of node states in for the adjacency matrix\n",
        "# to match the shape of the node state matrix. We cannot just pass in the training\n",
        "# nodes and their labels.\n",
        "\n",
        "# Therefore instead we mask the labels output by the network to just the training\n",
        "# or testing set of labels, and measure their accuracy. Keras's sample_weight\n",
        "# mechanism doesn't get applied to accuracy metrics or during testing, therefore\n",
        "# I've implemented our own metric.\n",
        "\n",
        "# This metric has one additional optional feature: It will calculate accuracy for \n",
        "# a single class.\n",
        "\n",
        "# It's important to watch the accuracy by each class label to check the network\n",
        "# is discriminating between them. If a network is struggling to train, one common\n",
        "# failure case is it predicts the same class for all labels as an easy way to \n",
        "# decrease loss. This often presents itself as a train accuracy of 100%/NUM_CLASSES.\n",
        "\n",
        "# By watching individual class acurracies, we can see if the network is learning\n",
        "# to predict each class, or sacrificing some/all classes for one class.\n",
        "\n",
        "class AccuracyByClass(keras.metrics.Metric):\n",
        "  def __init__(self, name, dtype, class_label=None, sample_weight=None, y_true=None):\n",
        "    ''' \n",
        "    Parameters:\n",
        "      name: The name of this metric\n",
        "      dtype: The type of the data being measured\n",
        "      class_label: (Optional) If you supply this, the accuracy will be measured for just that class. Otherwise overall accuracy is measured\n",
        "      sample_weight: The mask you want to apply to the labels\n",
        "      y_true: (Optional) The correct values for the labels output by the network\n",
        "\n",
        "    '''\n",
        "    super().__init__(name, dtype)\n",
        "    \n",
        "    self.class_label = class_label\n",
        "    self.sample_weight = tf.cast(sample_weight, dtype)\n",
        "    self.y_true = y_true\n",
        "\n",
        "    self.correct = tf.Variable(initial_value=0.0, dtype=self._dtype, trainable=False, name='correct_'+str(class_label))\n",
        "    self.total   = tf.Variable(initial_value=0.0, dtype=self._dtype, trainable=False, name='total_'+str(class_label)) \n",
        "    \n",
        "  def reset_states(self):\n",
        "    self.correct.assign(0)\n",
        "    self.total.assign(0)\n",
        "\n",
        "  def update_state(self, y_true, y_pred, sample_weight=None):\n",
        "    # Note that Keras doesn't pass sample_weight into its metrics\n",
        "    # during testing\n",
        "\n",
        "    if self.y_true is not None:\n",
        "      y_true = self.y_true\n",
        "\n",
        "    y_true_classes = tf.argmax(y_true, axis=-1)\n",
        "    y_pred_classes = tf.argmax(y_pred, axis=-1)\n",
        "    correct = tf.equal(y_pred_classes, y_true_classes)\n",
        "\n",
        "    # Create mask\n",
        "    if self.class_label is not None:\n",
        "      mask = tf.cast(tf.equal(y_true_classes, self.class_label), self._dtype)\n",
        "    else:\n",
        "      mask = tf.ones(tf.shape(y_true_classes), self._dtype, 'mask_class_true_ones')\n",
        "    \n",
        "    sample_weight = self.sample_weight\n",
        "\n",
        "    if sample_weight is not None:\n",
        "      mask *= sample_weight\n",
        "\n",
        "    # Apply mask\n",
        "    masked_total_count = tf.reduce_sum(mask)\n",
        "    self.total.assign_add(masked_total_count)\n",
        "\n",
        "    masked_correct = mask * tf.cast(correct, self._dtype)\n",
        "    masked_correct_count = tf.reduce_sum(masked_correct)\n",
        "    self.correct.assign_add(masked_correct_count)\n",
        "  \n",
        "    return self.result()\n",
        "      \n",
        "\n",
        "  def result(self):\n",
        "    return tf.math.divide_no_nan(self.correct, self.total)\n",
        "  "
      ],
      "execution_count": 34,
      "outputs": []
    },
    {
      "cell_type": "code",
      "metadata": {
        "id": "Imjm5o2XBsHs",
        "colab": {
          "base_uri": "https://localhost:8080/"
        },
        "outputId": "43d5d1a1-cbbc-493d-bad0-0a8ec12d032f"
      },
      "source": [
        "EPOCH_COUNT   = 200 # Determined by experiment\n",
        "LEARNING_RATE = 0.01 # Learning rate determined through experimentation\n",
        "\n",
        "# Loss function and optimizer\n",
        "loss_fn = tf.keras.losses.CategoricalCrossentropy()\n",
        "optimizer = keras.optimizers.Adam(learning_rate=LEARNING_RATE) \n",
        "\n",
        "metrics = [\n",
        "  AccuracyByClass(\"train_accuracy\", tf.float32, sample_weight=train_mask, y_true=y_train),\n",
        "  AccuracyByClass(\"test_accuracy\",  tf.float32, sample_weight=test_mask,  y_true=y_test),\n",
        "  AccuracyByClass(\"val_accuracy\",   tf.float32, sample_weight=val_mask,   y_true=y_val)\n",
        "]\n",
        "\n",
        "# for label in CLASS_LABELS:\n",
        "#   metrics.append(AccuracyByClass(\"train_class_acc_\"+str(label), tf.float32, label, sample_weight=train_mask, y_true=y_train))\n",
        "#   metrics.append(AccuracyByClass(\"test_class_acc_\"+str(label),  tf.float32, label, sample_weight=test_mask,  y_true=y_test))\n",
        "\n",
        "# Fix the random seeds prior to compiling and training the model - this helps make\n",
        "# results reproduceable\n",
        "np.random.seed(13)\n",
        "tf.random.set_seed(13)\n",
        "\n",
        "# Generate weights, setup optimizer and loss function:\n",
        "model.compile(optimizer, loss=loss_fn, metrics=metrics)\n",
        "\n",
        "initial_state = features.todense()\n",
        "\n",
        "# Train the model\n",
        "history = model.fit(\n",
        "    initial_state, \n",
        "    y_train, \n",
        "    sample_weight=tf.cast(train_mask, tf.float32), # This will be used in loss calculations\n",
        "    validation_data=(initial_state, y_val, val_mask),\n",
        "    epochs=EPOCH_COUNT, \n",
        "    batch_size=NODE_COUNT, # This is unusual in ML - since our adjacency matrix is the whole graph, we want to feed in the whole node_state array in each training step\n",
        "    verbose=1,\n",
        "    shuffle=False # Do not shuffle the order of our input data, since its order matches up to the adjacency matrix\n",
        ")\n",
        "\n",
        "print(model.summary())"
      ],
      "execution_count": 39,
      "outputs": [
        {
          "output_type": "stream",
          "text": [
            "Epoch 1/200\n",
            "1/1 [==============================] - 0s 215ms/step - loss: 0.4145 - train_accuracy: 0.5229 - test_accuracy: 0.2500 - val_accuracy: 0.2222 - val_loss: 0.0692 - val_train_accuracy: 0.5229 - val_test_accuracy: 0.2500 - val_val_accuracy: 0.2222\n",
            "Epoch 2/200\n",
            "1/1 [==============================] - 0s 19ms/step - loss: 0.4145 - train_accuracy: 0.5229 - test_accuracy: 0.2500 - val_accuracy: 0.2222 - val_loss: 0.0691 - val_train_accuracy: 0.5229 - val_test_accuracy: 0.2500 - val_val_accuracy: 0.2222\n",
            "Epoch 3/200\n",
            "1/1 [==============================] - 0s 18ms/step - loss: 0.4145 - train_accuracy: 0.5229 - test_accuracy: 0.2500 - val_accuracy: 0.2222 - val_loss: 0.0691 - val_train_accuracy: 0.5229 - val_test_accuracy: 0.2500 - val_val_accuracy: 0.2222\n",
            "Epoch 4/200\n",
            "1/1 [==============================] - 0s 20ms/step - loss: 0.4145 - train_accuracy: 0.5229 - test_accuracy: 0.2500 - val_accuracy: 0.2222 - val_loss: 0.0692 - val_train_accuracy: 0.5229 - val_test_accuracy: 0.2500 - val_val_accuracy: 0.2222\n",
            "Epoch 5/200\n",
            "1/1 [==============================] - 0s 25ms/step - loss: 0.4145 - train_accuracy: 0.5229 - test_accuracy: 0.2500 - val_accuracy: 0.2222 - val_loss: 0.0692 - val_train_accuracy: 0.5229 - val_test_accuracy: 0.2500 - val_val_accuracy: 0.2222\n",
            "Epoch 6/200\n",
            "1/1 [==============================] - 0s 18ms/step - loss: 0.4145 - train_accuracy: 0.5229 - test_accuracy: 0.2500 - val_accuracy: 0.2222 - val_loss: 0.0692 - val_train_accuracy: 0.5229 - val_test_accuracy: 0.2500 - val_val_accuracy: 0.2222\n",
            "Epoch 7/200\n",
            "1/1 [==============================] - 0s 19ms/step - loss: 0.4145 - train_accuracy: 0.5229 - test_accuracy: 0.2500 - val_accuracy: 0.2222 - val_loss: 0.0691 - val_train_accuracy: 0.5229 - val_test_accuracy: 0.2500 - val_val_accuracy: 0.2222\n",
            "Epoch 8/200\n",
            "1/1 [==============================] - 0s 21ms/step - loss: 0.4145 - train_accuracy: 0.5229 - test_accuracy: 0.2500 - val_accuracy: 0.2222 - val_loss: 0.0691 - val_train_accuracy: 0.5229 - val_test_accuracy: 0.2500 - val_val_accuracy: 0.2222\n",
            "Epoch 9/200\n",
            "1/1 [==============================] - 0s 20ms/step - loss: 0.4145 - train_accuracy: 0.5229 - test_accuracy: 0.2500 - val_accuracy: 0.2222 - val_loss: 0.0691 - val_train_accuracy: 0.5229 - val_test_accuracy: 0.2500 - val_val_accuracy: 0.2222\n",
            "Epoch 10/200\n",
            "1/1 [==============================] - 0s 22ms/step - loss: 0.4145 - train_accuracy: 0.5229 - test_accuracy: 0.2500 - val_accuracy: 0.2222 - val_loss: 0.0691 - val_train_accuracy: 0.5229 - val_test_accuracy: 0.2500 - val_val_accuracy: 0.2222\n",
            "Epoch 11/200\n",
            "1/1 [==============================] - 0s 25ms/step - loss: 0.4145 - train_accuracy: 0.5229 - test_accuracy: 0.2500 - val_accuracy: 0.2222 - val_loss: 0.0692 - val_train_accuracy: 0.5229 - val_test_accuracy: 0.2500 - val_val_accuracy: 0.2222\n",
            "Epoch 12/200\n",
            "1/1 [==============================] - 0s 25ms/step - loss: 0.4145 - train_accuracy: 0.5229 - test_accuracy: 0.2500 - val_accuracy: 0.2222 - val_loss: 0.0692 - val_train_accuracy: 0.5229 - val_test_accuracy: 0.2500 - val_val_accuracy: 0.2222\n",
            "Epoch 13/200\n",
            "1/1 [==============================] - 0s 19ms/step - loss: 0.4145 - train_accuracy: 0.5229 - test_accuracy: 0.2500 - val_accuracy: 0.2222 - val_loss: 0.0692 - val_train_accuracy: 0.5229 - val_test_accuracy: 0.2500 - val_val_accuracy: 0.2222\n",
            "Epoch 14/200\n",
            "1/1 [==============================] - 0s 18ms/step - loss: 0.4145 - train_accuracy: 0.5229 - test_accuracy: 0.2500 - val_accuracy: 0.2222 - val_loss: 0.0692 - val_train_accuracy: 0.5229 - val_test_accuracy: 0.2500 - val_val_accuracy: 0.2222\n",
            "Epoch 15/200\n",
            "1/1 [==============================] - 0s 18ms/step - loss: 0.4145 - train_accuracy: 0.5229 - test_accuracy: 0.2500 - val_accuracy: 0.2222 - val_loss: 0.0692 - val_train_accuracy: 0.5229 - val_test_accuracy: 0.2500 - val_val_accuracy: 0.2222\n",
            "Epoch 16/200\n",
            "1/1 [==============================] - 0s 18ms/step - loss: 0.4145 - train_accuracy: 0.5229 - test_accuracy: 0.2500 - val_accuracy: 0.2222 - val_loss: 0.0691 - val_train_accuracy: 0.5229 - val_test_accuracy: 0.2500 - val_val_accuracy: 0.2222\n",
            "Epoch 17/200\n",
            "1/1 [==============================] - 0s 18ms/step - loss: 0.4145 - train_accuracy: 0.5229 - test_accuracy: 0.2500 - val_accuracy: 0.2222 - val_loss: 0.0691 - val_train_accuracy: 0.5229 - val_test_accuracy: 0.2500 - val_val_accuracy: 0.2222\n",
            "Epoch 18/200\n",
            "1/1 [==============================] - 0s 18ms/step - loss: 0.4145 - train_accuracy: 0.5229 - test_accuracy: 0.2500 - val_accuracy: 0.2222 - val_loss: 0.0691 - val_train_accuracy: 0.5229 - val_test_accuracy: 0.2500 - val_val_accuracy: 0.2222\n",
            "Epoch 19/200\n",
            "1/1 [==============================] - 0s 19ms/step - loss: 0.4145 - train_accuracy: 0.5229 - test_accuracy: 0.2500 - val_accuracy: 0.2222 - val_loss: 0.0692 - val_train_accuracy: 0.5229 - val_test_accuracy: 0.2500 - val_val_accuracy: 0.2222\n",
            "Epoch 20/200\n",
            "1/1 [==============================] - 0s 18ms/step - loss: 0.4145 - train_accuracy: 0.5229 - test_accuracy: 0.2500 - val_accuracy: 0.2222 - val_loss: 0.0692 - val_train_accuracy: 0.5229 - val_test_accuracy: 0.2500 - val_val_accuracy: 0.2222\n",
            "Epoch 21/200\n",
            "1/1 [==============================] - 0s 18ms/step - loss: 0.4145 - train_accuracy: 0.5229 - test_accuracy: 0.2500 - val_accuracy: 0.2222 - val_loss: 0.0692 - val_train_accuracy: 0.5229 - val_test_accuracy: 0.2500 - val_val_accuracy: 0.2222\n",
            "Epoch 22/200\n",
            "1/1 [==============================] - 0s 18ms/step - loss: 0.4145 - train_accuracy: 0.5229 - test_accuracy: 0.2500 - val_accuracy: 0.2222 - val_loss: 0.0692 - val_train_accuracy: 0.5229 - val_test_accuracy: 0.2500 - val_val_accuracy: 0.2222\n",
            "Epoch 23/200\n",
            "1/1 [==============================] - 0s 19ms/step - loss: 0.4145 - train_accuracy: 0.5229 - test_accuracy: 0.2500 - val_accuracy: 0.2222 - val_loss: 0.0692 - val_train_accuracy: 0.5229 - val_test_accuracy: 0.2500 - val_val_accuracy: 0.2222\n",
            "Epoch 24/200\n",
            "1/1 [==============================] - 0s 18ms/step - loss: 0.4145 - train_accuracy: 0.5229 - test_accuracy: 0.2500 - val_accuracy: 0.2222 - val_loss: 0.0692 - val_train_accuracy: 0.5229 - val_test_accuracy: 0.2500 - val_val_accuracy: 0.2222\n",
            "Epoch 25/200\n",
            "1/1 [==============================] - 0s 18ms/step - loss: 0.4145 - train_accuracy: 0.5229 - test_accuracy: 0.2500 - val_accuracy: 0.2222 - val_loss: 0.0691 - val_train_accuracy: 0.5229 - val_test_accuracy: 0.2500 - val_val_accuracy: 0.2222\n",
            "Epoch 26/200\n",
            "1/1 [==============================] - 0s 20ms/step - loss: 0.4145 - train_accuracy: 0.5229 - test_accuracy: 0.2500 - val_accuracy: 0.2222 - val_loss: 0.0691 - val_train_accuracy: 0.5229 - val_test_accuracy: 0.2500 - val_val_accuracy: 0.2222\n",
            "Epoch 27/200\n",
            "1/1 [==============================] - 0s 19ms/step - loss: 0.4145 - train_accuracy: 0.5229 - test_accuracy: 0.2500 - val_accuracy: 0.2222 - val_loss: 0.0692 - val_train_accuracy: 0.5229 - val_test_accuracy: 0.2500 - val_val_accuracy: 0.2222\n",
            "Epoch 28/200\n",
            "1/1 [==============================] - 0s 20ms/step - loss: 0.4145 - train_accuracy: 0.5229 - test_accuracy: 0.2500 - val_accuracy: 0.2222 - val_loss: 0.0692 - val_train_accuracy: 0.5229 - val_test_accuracy: 0.2500 - val_val_accuracy: 0.2222\n",
            "Epoch 29/200\n",
            "1/1 [==============================] - 0s 19ms/step - loss: 0.4145 - train_accuracy: 0.5229 - test_accuracy: 0.2500 - val_accuracy: 0.2222 - val_loss: 0.0692 - val_train_accuracy: 0.5229 - val_test_accuracy: 0.2500 - val_val_accuracy: 0.2222\n",
            "Epoch 30/200\n",
            "1/1 [==============================] - 0s 20ms/step - loss: 0.4145 - train_accuracy: 0.5229 - test_accuracy: 0.2500 - val_accuracy: 0.2222 - val_loss: 0.0692 - val_train_accuracy: 0.5229 - val_test_accuracy: 0.2500 - val_val_accuracy: 0.2222\n",
            "Epoch 31/200\n",
            "1/1 [==============================] - 0s 20ms/step - loss: 0.4145 - train_accuracy: 0.5229 - test_accuracy: 0.2500 - val_accuracy: 0.2222 - val_loss: 0.0692 - val_train_accuracy: 0.5229 - val_test_accuracy: 0.2500 - val_val_accuracy: 0.2222\n",
            "Epoch 32/200\n",
            "1/1 [==============================] - 0s 21ms/step - loss: 0.4145 - train_accuracy: 0.5229 - test_accuracy: 0.2500 - val_accuracy: 0.2222 - val_loss: 0.0692 - val_train_accuracy: 0.5229 - val_test_accuracy: 0.2500 - val_val_accuracy: 0.2222\n",
            "Epoch 33/200\n",
            "1/1 [==============================] - 0s 17ms/step - loss: 0.4145 - train_accuracy: 0.5229 - test_accuracy: 0.2500 - val_accuracy: 0.2222 - val_loss: 0.0691 - val_train_accuracy: 0.5229 - val_test_accuracy: 0.2500 - val_val_accuracy: 0.2222\n",
            "Epoch 34/200\n",
            "1/1 [==============================] - 0s 20ms/step - loss: 0.4145 - train_accuracy: 0.5229 - test_accuracy: 0.2500 - val_accuracy: 0.2222 - val_loss: 0.0691 - val_train_accuracy: 0.5229 - val_test_accuracy: 0.2500 - val_val_accuracy: 0.2222\n",
            "Epoch 35/200\n",
            "1/1 [==============================] - 0s 18ms/step - loss: 0.4145 - train_accuracy: 0.5229 - test_accuracy: 0.2500 - val_accuracy: 0.2222 - val_loss: 0.0692 - val_train_accuracy: 0.5229 - val_test_accuracy: 0.2500 - val_val_accuracy: 0.2222\n",
            "Epoch 36/200\n",
            "1/1 [==============================] - 0s 21ms/step - loss: 0.4145 - train_accuracy: 0.5229 - test_accuracy: 0.2500 - val_accuracy: 0.2222 - val_loss: 0.0692 - val_train_accuracy: 0.5229 - val_test_accuracy: 0.2500 - val_val_accuracy: 0.2222\n",
            "Epoch 37/200\n",
            "1/1 [==============================] - 0s 17ms/step - loss: 0.4145 - train_accuracy: 0.5229 - test_accuracy: 0.2500 - val_accuracy: 0.2222 - val_loss: 0.0692 - val_train_accuracy: 0.5229 - val_test_accuracy: 0.2500 - val_val_accuracy: 0.2222\n",
            "Epoch 38/200\n",
            "1/1 [==============================] - 0s 20ms/step - loss: 0.4145 - train_accuracy: 0.5229 - test_accuracy: 0.2500 - val_accuracy: 0.2222 - val_loss: 0.0692 - val_train_accuracy: 0.5229 - val_test_accuracy: 0.2500 - val_val_accuracy: 0.2222\n",
            "Epoch 39/200\n",
            "1/1 [==============================] - 0s 18ms/step - loss: 0.4145 - train_accuracy: 0.5229 - test_accuracy: 0.2500 - val_accuracy: 0.2222 - val_loss: 0.0692 - val_train_accuracy: 0.5229 - val_test_accuracy: 0.2500 - val_val_accuracy: 0.2222\n",
            "Epoch 40/200\n",
            "1/1 [==============================] - 0s 19ms/step - loss: 0.4145 - train_accuracy: 0.5229 - test_accuracy: 0.2500 - val_accuracy: 0.2222 - val_loss: 0.0692 - val_train_accuracy: 0.5229 - val_test_accuracy: 0.2500 - val_val_accuracy: 0.2222\n",
            "Epoch 41/200\n",
            "1/1 [==============================] - 0s 22ms/step - loss: 0.4145 - train_accuracy: 0.5229 - test_accuracy: 0.2500 - val_accuracy: 0.2222 - val_loss: 0.0692 - val_train_accuracy: 0.5229 - val_test_accuracy: 0.2500 - val_val_accuracy: 0.2222\n",
            "Epoch 42/200\n",
            "1/1 [==============================] - 0s 19ms/step - loss: 0.4145 - train_accuracy: 0.5229 - test_accuracy: 0.2500 - val_accuracy: 0.2222 - val_loss: 0.0692 - val_train_accuracy: 0.5229 - val_test_accuracy: 0.2500 - val_val_accuracy: 0.2222\n",
            "Epoch 43/200\n",
            "1/1 [==============================] - 0s 17ms/step - loss: 0.4145 - train_accuracy: 0.5229 - test_accuracy: 0.2500 - val_accuracy: 0.2222 - val_loss: 0.0692 - val_train_accuracy: 0.5229 - val_test_accuracy: 0.2500 - val_val_accuracy: 0.2222\n",
            "Epoch 44/200\n",
            "1/1 [==============================] - 0s 20ms/step - loss: 0.4145 - train_accuracy: 0.5229 - test_accuracy: 0.2500 - val_accuracy: 0.2222 - val_loss: 0.0692 - val_train_accuracy: 0.5229 - val_test_accuracy: 0.2500 - val_val_accuracy: 0.2222\n",
            "Epoch 45/200\n",
            "1/1 [==============================] - 0s 19ms/step - loss: 0.4145 - train_accuracy: 0.5229 - test_accuracy: 0.2500 - val_accuracy: 0.2222 - val_loss: 0.0692 - val_train_accuracy: 0.5229 - val_test_accuracy: 0.2500 - val_val_accuracy: 0.2222\n",
            "Epoch 46/200\n",
            "1/1 [==============================] - 0s 17ms/step - loss: 0.4145 - train_accuracy: 0.5229 - test_accuracy: 0.2500 - val_accuracy: 0.2222 - val_loss: 0.0692 - val_train_accuracy: 0.5229 - val_test_accuracy: 0.2500 - val_val_accuracy: 0.2222\n",
            "Epoch 47/200\n",
            "1/1 [==============================] - 0s 20ms/step - loss: 0.4145 - train_accuracy: 0.5229 - test_accuracy: 0.2500 - val_accuracy: 0.2222 - val_loss: 0.0692 - val_train_accuracy: 0.5229 - val_test_accuracy: 0.2500 - val_val_accuracy: 0.2222\n",
            "Epoch 48/200\n",
            "1/1 [==============================] - 0s 17ms/step - loss: 0.4145 - train_accuracy: 0.5229 - test_accuracy: 0.2500 - val_accuracy: 0.2222 - val_loss: 0.0692 - val_train_accuracy: 0.5229 - val_test_accuracy: 0.2500 - val_val_accuracy: 0.2222\n",
            "Epoch 49/200\n",
            "1/1 [==============================] - 0s 17ms/step - loss: 0.4145 - train_accuracy: 0.5229 - test_accuracy: 0.2500 - val_accuracy: 0.2222 - val_loss: 0.0692 - val_train_accuracy: 0.5229 - val_test_accuracy: 0.2500 - val_val_accuracy: 0.2222\n",
            "Epoch 50/200\n",
            "1/1 [==============================] - 0s 19ms/step - loss: 0.4145 - train_accuracy: 0.5229 - test_accuracy: 0.2500 - val_accuracy: 0.2222 - val_loss: 0.0692 - val_train_accuracy: 0.5229 - val_test_accuracy: 0.2500 - val_val_accuracy: 0.2222\n",
            "Epoch 51/200\n",
            "1/1 [==============================] - 0s 20ms/step - loss: 0.4145 - train_accuracy: 0.5229 - test_accuracy: 0.2500 - val_accuracy: 0.2222 - val_loss: 0.0692 - val_train_accuracy: 0.5229 - val_test_accuracy: 0.2500 - val_val_accuracy: 0.2222\n",
            "Epoch 52/200\n",
            "1/1 [==============================] - 0s 19ms/step - loss: 0.4145 - train_accuracy: 0.5229 - test_accuracy: 0.2500 - val_accuracy: 0.2222 - val_loss: 0.0692 - val_train_accuracy: 0.5229 - val_test_accuracy: 0.2500 - val_val_accuracy: 0.2222\n",
            "Epoch 53/200\n",
            "1/1 [==============================] - 0s 24ms/step - loss: 0.4145 - train_accuracy: 0.5229 - test_accuracy: 0.2500 - val_accuracy: 0.2222 - val_loss: 0.0692 - val_train_accuracy: 0.5229 - val_test_accuracy: 0.2500 - val_val_accuracy: 0.2222\n",
            "Epoch 54/200\n",
            "1/1 [==============================] - 0s 20ms/step - loss: 0.4145 - train_accuracy: 0.5229 - test_accuracy: 0.2500 - val_accuracy: 0.2222 - val_loss: 0.0692 - val_train_accuracy: 0.5229 - val_test_accuracy: 0.2500 - val_val_accuracy: 0.2222\n",
            "Epoch 55/200\n",
            "1/1 [==============================] - 0s 17ms/step - loss: 0.4145 - train_accuracy: 0.5229 - test_accuracy: 0.2500 - val_accuracy: 0.2222 - val_loss: 0.0692 - val_train_accuracy: 0.5229 - val_test_accuracy: 0.2500 - val_val_accuracy: 0.2222\n",
            "Epoch 56/200\n",
            "1/1 [==============================] - 0s 18ms/step - loss: 0.4145 - train_accuracy: 0.5229 - test_accuracy: 0.2500 - val_accuracy: 0.2222 - val_loss: 0.0692 - val_train_accuracy: 0.5229 - val_test_accuracy: 0.2500 - val_val_accuracy: 0.2222\n",
            "Epoch 57/200\n",
            "1/1 [==============================] - 0s 18ms/step - loss: 0.4145 - train_accuracy: 0.5229 - test_accuracy: 0.2500 - val_accuracy: 0.2222 - val_loss: 0.0692 - val_train_accuracy: 0.5229 - val_test_accuracy: 0.2500 - val_val_accuracy: 0.2222\n",
            "Epoch 58/200\n",
            "1/1 [==============================] - 0s 20ms/step - loss: 0.4145 - train_accuracy: 0.5229 - test_accuracy: 0.2500 - val_accuracy: 0.2222 - val_loss: 0.0692 - val_train_accuracy: 0.5229 - val_test_accuracy: 0.2500 - val_val_accuracy: 0.2222\n",
            "Epoch 59/200\n",
            "1/1 [==============================] - 0s 19ms/step - loss: 0.4145 - train_accuracy: 0.5229 - test_accuracy: 0.2500 - val_accuracy: 0.2222 - val_loss: 0.0692 - val_train_accuracy: 0.5229 - val_test_accuracy: 0.2500 - val_val_accuracy: 0.2222\n",
            "Epoch 60/200\n",
            "1/1 [==============================] - 0s 20ms/step - loss: 0.4145 - train_accuracy: 0.5229 - test_accuracy: 0.2500 - val_accuracy: 0.2222 - val_loss: 0.0692 - val_train_accuracy: 0.5229 - val_test_accuracy: 0.2500 - val_val_accuracy: 0.2222\n",
            "Epoch 61/200\n",
            "1/1 [==============================] - 0s 18ms/step - loss: 0.4145 - train_accuracy: 0.5229 - test_accuracy: 0.2500 - val_accuracy: 0.2222 - val_loss: 0.0692 - val_train_accuracy: 0.5229 - val_test_accuracy: 0.2500 - val_val_accuracy: 0.2222\n",
            "Epoch 62/200\n",
            "1/1 [==============================] - 0s 18ms/step - loss: 0.4145 - train_accuracy: 0.5229 - test_accuracy: 0.2500 - val_accuracy: 0.2222 - val_loss: 0.0692 - val_train_accuracy: 0.5229 - val_test_accuracy: 0.2500 - val_val_accuracy: 0.2222\n",
            "Epoch 63/200\n",
            "1/1 [==============================] - 0s 17ms/step - loss: 0.4145 - train_accuracy: 0.5229 - test_accuracy: 0.2500 - val_accuracy: 0.2222 - val_loss: 0.0692 - val_train_accuracy: 0.5229 - val_test_accuracy: 0.2500 - val_val_accuracy: 0.2222\n",
            "Epoch 64/200\n",
            "1/1 [==============================] - 0s 24ms/step - loss: 0.4145 - train_accuracy: 0.5229 - test_accuracy: 0.2500 - val_accuracy: 0.2222 - val_loss: 0.0692 - val_train_accuracy: 0.5229 - val_test_accuracy: 0.2500 - val_val_accuracy: 0.2222\n",
            "Epoch 65/200\n",
            "1/1 [==============================] - 0s 17ms/step - loss: 0.4145 - train_accuracy: 0.5229 - test_accuracy: 0.2500 - val_accuracy: 0.2222 - val_loss: 0.0692 - val_train_accuracy: 0.5229 - val_test_accuracy: 0.2500 - val_val_accuracy: 0.2222\n",
            "Epoch 66/200\n",
            "1/1 [==============================] - 0s 21ms/step - loss: 0.4145 - train_accuracy: 0.5229 - test_accuracy: 0.2500 - val_accuracy: 0.2222 - val_loss: 0.0692 - val_train_accuracy: 0.5229 - val_test_accuracy: 0.2500 - val_val_accuracy: 0.2222\n",
            "Epoch 67/200\n",
            "1/1 [==============================] - 0s 20ms/step - loss: 0.4145 - train_accuracy: 0.5229 - test_accuracy: 0.2500 - val_accuracy: 0.2222 - val_loss: 0.0692 - val_train_accuracy: 0.5229 - val_test_accuracy: 0.2500 - val_val_accuracy: 0.2222\n",
            "Epoch 68/200\n",
            "1/1 [==============================] - 0s 17ms/step - loss: 0.4145 - train_accuracy: 0.5229 - test_accuracy: 0.2500 - val_accuracy: 0.2222 - val_loss: 0.0692 - val_train_accuracy: 0.5229 - val_test_accuracy: 0.2500 - val_val_accuracy: 0.2222\n",
            "Epoch 69/200\n",
            "1/1 [==============================] - 0s 17ms/step - loss: 0.4145 - train_accuracy: 0.5229 - test_accuracy: 0.2500 - val_accuracy: 0.2222 - val_loss: 0.0692 - val_train_accuracy: 0.5229 - val_test_accuracy: 0.2500 - val_val_accuracy: 0.2222\n",
            "Epoch 70/200\n",
            "1/1 [==============================] - 0s 16ms/step - loss: 0.4145 - train_accuracy: 0.5229 - test_accuracy: 0.2500 - val_accuracy: 0.2222 - val_loss: 0.0692 - val_train_accuracy: 0.5229 - val_test_accuracy: 0.2500 - val_val_accuracy: 0.2222\n",
            "Epoch 71/200\n",
            "1/1 [==============================] - 0s 17ms/step - loss: 0.4145 - train_accuracy: 0.5229 - test_accuracy: 0.2500 - val_accuracy: 0.2222 - val_loss: 0.0692 - val_train_accuracy: 0.5229 - val_test_accuracy: 0.2500 - val_val_accuracy: 0.2222\n",
            "Epoch 72/200\n",
            "1/1 [==============================] - 0s 18ms/step - loss: 0.4145 - train_accuracy: 0.5229 - test_accuracy: 0.2500 - val_accuracy: 0.2222 - val_loss: 0.0692 - val_train_accuracy: 0.5229 - val_test_accuracy: 0.2500 - val_val_accuracy: 0.2222\n",
            "Epoch 73/200\n",
            "1/1 [==============================] - 0s 20ms/step - loss: 0.4145 - train_accuracy: 0.5229 - test_accuracy: 0.2500 - val_accuracy: 0.2222 - val_loss: 0.0692 - val_train_accuracy: 0.5229 - val_test_accuracy: 0.2500 - val_val_accuracy: 0.2222\n",
            "Epoch 74/200\n",
            "1/1 [==============================] - 0s 19ms/step - loss: 0.4145 - train_accuracy: 0.5229 - test_accuracy: 0.2500 - val_accuracy: 0.2222 - val_loss: 0.0692 - val_train_accuracy: 0.5229 - val_test_accuracy: 0.2500 - val_val_accuracy: 0.2222\n",
            "Epoch 75/200\n",
            "1/1 [==============================] - 0s 34ms/step - loss: 0.4145 - train_accuracy: 0.5229 - test_accuracy: 0.2500 - val_accuracy: 0.2222 - val_loss: 0.0692 - val_train_accuracy: 0.5229 - val_test_accuracy: 0.2500 - val_val_accuracy: 0.2222\n",
            "Epoch 76/200\n",
            "1/1 [==============================] - 0s 20ms/step - loss: 0.4145 - train_accuracy: 0.5229 - test_accuracy: 0.2500 - val_accuracy: 0.2222 - val_loss: 0.0692 - val_train_accuracy: 0.5229 - val_test_accuracy: 0.2500 - val_val_accuracy: 0.2222\n",
            "Epoch 77/200\n",
            "1/1 [==============================] - 0s 17ms/step - loss: 0.4145 - train_accuracy: 0.5229 - test_accuracy: 0.2500 - val_accuracy: 0.2222 - val_loss: 0.0692 - val_train_accuracy: 0.5229 - val_test_accuracy: 0.2500 - val_val_accuracy: 0.2222\n",
            "Epoch 78/200\n",
            "1/1 [==============================] - 0s 19ms/step - loss: 0.4145 - train_accuracy: 0.5229 - test_accuracy: 0.2500 - val_accuracy: 0.2222 - val_loss: 0.0692 - val_train_accuracy: 0.5229 - val_test_accuracy: 0.2500 - val_val_accuracy: 0.2222\n",
            "Epoch 79/200\n",
            "1/1 [==============================] - 0s 23ms/step - loss: 0.4145 - train_accuracy: 0.5229 - test_accuracy: 0.2500 - val_accuracy: 0.2222 - val_loss: 0.0692 - val_train_accuracy: 0.5229 - val_test_accuracy: 0.2500 - val_val_accuracy: 0.2222\n",
            "Epoch 80/200\n",
            "1/1 [==============================] - 0s 19ms/step - loss: 0.4145 - train_accuracy: 0.5229 - test_accuracy: 0.2500 - val_accuracy: 0.2222 - val_loss: 0.0692 - val_train_accuracy: 0.5229 - val_test_accuracy: 0.2500 - val_val_accuracy: 0.2222\n",
            "Epoch 81/200\n",
            "1/1 [==============================] - 0s 18ms/step - loss: 0.4145 - train_accuracy: 0.5229 - test_accuracy: 0.2500 - val_accuracy: 0.2222 - val_loss: 0.0692 - val_train_accuracy: 0.5229 - val_test_accuracy: 0.2500 - val_val_accuracy: 0.2222\n",
            "Epoch 82/200\n",
            "1/1 [==============================] - 0s 18ms/step - loss: 0.4145 - train_accuracy: 0.5229 - test_accuracy: 0.2500 - val_accuracy: 0.2222 - val_loss: 0.0692 - val_train_accuracy: 0.5229 - val_test_accuracy: 0.2500 - val_val_accuracy: 0.2222\n",
            "Epoch 83/200\n",
            "1/1 [==============================] - 0s 20ms/step - loss: 0.4145 - train_accuracy: 0.5229 - test_accuracy: 0.2500 - val_accuracy: 0.2222 - val_loss: 0.0692 - val_train_accuracy: 0.5229 - val_test_accuracy: 0.2500 - val_val_accuracy: 0.2222\n",
            "Epoch 84/200\n",
            "1/1 [==============================] - 0s 17ms/step - loss: 0.4145 - train_accuracy: 0.5229 - test_accuracy: 0.2500 - val_accuracy: 0.2222 - val_loss: 0.0692 - val_train_accuracy: 0.5229 - val_test_accuracy: 0.2500 - val_val_accuracy: 0.2222\n",
            "Epoch 85/200\n",
            "1/1 [==============================] - 0s 19ms/step - loss: 0.4145 - train_accuracy: 0.5229 - test_accuracy: 0.2500 - val_accuracy: 0.2222 - val_loss: 0.0692 - val_train_accuracy: 0.5229 - val_test_accuracy: 0.2500 - val_val_accuracy: 0.2222\n",
            "Epoch 86/200\n",
            "1/1 [==============================] - 0s 20ms/step - loss: 0.4145 - train_accuracy: 0.5229 - test_accuracy: 0.2500 - val_accuracy: 0.2222 - val_loss: 0.0692 - val_train_accuracy: 0.5229 - val_test_accuracy: 0.2500 - val_val_accuracy: 0.2222\n",
            "Epoch 87/200\n",
            "1/1 [==============================] - 0s 18ms/step - loss: 0.4145 - train_accuracy: 0.5229 - test_accuracy: 0.2500 - val_accuracy: 0.2222 - val_loss: 0.0692 - val_train_accuracy: 0.5229 - val_test_accuracy: 0.2500 - val_val_accuracy: 0.2222\n",
            "Epoch 88/200\n",
            "1/1 [==============================] - 0s 18ms/step - loss: 0.4145 - train_accuracy: 0.5229 - test_accuracy: 0.2500 - val_accuracy: 0.2222 - val_loss: 0.0692 - val_train_accuracy: 0.5229 - val_test_accuracy: 0.2500 - val_val_accuracy: 0.2222\n",
            "Epoch 89/200\n",
            "1/1 [==============================] - 0s 22ms/step - loss: 0.4145 - train_accuracy: 0.5229 - test_accuracy: 0.2500 - val_accuracy: 0.2222 - val_loss: 0.0692 - val_train_accuracy: 0.5229 - val_test_accuracy: 0.2500 - val_val_accuracy: 0.2222\n",
            "Epoch 90/200\n",
            "1/1 [==============================] - 0s 19ms/step - loss: 0.4145 - train_accuracy: 0.5229 - test_accuracy: 0.2500 - val_accuracy: 0.2222 - val_loss: 0.0692 - val_train_accuracy: 0.5229 - val_test_accuracy: 0.2500 - val_val_accuracy: 0.2222\n",
            "Epoch 91/200\n",
            "1/1 [==============================] - 0s 21ms/step - loss: 0.4145 - train_accuracy: 0.5229 - test_accuracy: 0.2500 - val_accuracy: 0.2222 - val_loss: 0.0692 - val_train_accuracy: 0.5229 - val_test_accuracy: 0.2500 - val_val_accuracy: 0.2222\n",
            "Epoch 92/200\n",
            "1/1 [==============================] - 0s 19ms/step - loss: 0.4145 - train_accuracy: 0.5229 - test_accuracy: 0.2500 - val_accuracy: 0.2222 - val_loss: 0.0692 - val_train_accuracy: 0.5229 - val_test_accuracy: 0.2500 - val_val_accuracy: 0.2222\n",
            "Epoch 93/200\n",
            "1/1 [==============================] - 0s 17ms/step - loss: 0.4145 - train_accuracy: 0.5229 - test_accuracy: 0.2500 - val_accuracy: 0.2222 - val_loss: 0.0692 - val_train_accuracy: 0.5229 - val_test_accuracy: 0.2500 - val_val_accuracy: 0.2222\n",
            "Epoch 94/200\n",
            "1/1 [==============================] - 0s 21ms/step - loss: 0.4145 - train_accuracy: 0.5229 - test_accuracy: 0.2500 - val_accuracy: 0.2222 - val_loss: 0.0692 - val_train_accuracy: 0.5229 - val_test_accuracy: 0.2500 - val_val_accuracy: 0.2222\n",
            "Epoch 95/200\n",
            "1/1 [==============================] - 0s 21ms/step - loss: 0.4145 - train_accuracy: 0.5229 - test_accuracy: 0.2500 - val_accuracy: 0.2222 - val_loss: 0.0692 - val_train_accuracy: 0.5229 - val_test_accuracy: 0.2500 - val_val_accuracy: 0.2222\n",
            "Epoch 96/200\n",
            "1/1 [==============================] - 0s 20ms/step - loss: 0.4145 - train_accuracy: 0.5229 - test_accuracy: 0.2500 - val_accuracy: 0.2222 - val_loss: 0.0692 - val_train_accuracy: 0.5229 - val_test_accuracy: 0.2500 - val_val_accuracy: 0.2222\n",
            "Epoch 97/200\n",
            "1/1 [==============================] - 0s 22ms/step - loss: 0.4145 - train_accuracy: 0.5229 - test_accuracy: 0.2500 - val_accuracy: 0.2222 - val_loss: 0.0692 - val_train_accuracy: 0.5229 - val_test_accuracy: 0.2500 - val_val_accuracy: 0.2222\n",
            "Epoch 98/200\n",
            "1/1 [==============================] - 0s 19ms/step - loss: 0.4145 - train_accuracy: 0.5229 - test_accuracy: 0.2500 - val_accuracy: 0.2222 - val_loss: 0.0692 - val_train_accuracy: 0.5229 - val_test_accuracy: 0.2500 - val_val_accuracy: 0.2222\n",
            "Epoch 99/200\n",
            "1/1 [==============================] - 0s 21ms/step - loss: 0.4145 - train_accuracy: 0.5229 - test_accuracy: 0.2500 - val_accuracy: 0.2222 - val_loss: 0.0692 - val_train_accuracy: 0.5229 - val_test_accuracy: 0.2500 - val_val_accuracy: 0.2222\n",
            "Epoch 100/200\n",
            "1/1 [==============================] - 0s 18ms/step - loss: 0.4145 - train_accuracy: 0.5229 - test_accuracy: 0.2500 - val_accuracy: 0.2222 - val_loss: 0.0692 - val_train_accuracy: 0.5229 - val_test_accuracy: 0.2500 - val_val_accuracy: 0.2222\n",
            "Epoch 101/200\n",
            "1/1 [==============================] - 0s 19ms/step - loss: 0.4145 - train_accuracy: 0.5229 - test_accuracy: 0.2500 - val_accuracy: 0.2222 - val_loss: 0.0692 - val_train_accuracy: 0.5229 - val_test_accuracy: 0.2500 - val_val_accuracy: 0.2222\n",
            "Epoch 102/200\n",
            "1/1 [==============================] - 0s 19ms/step - loss: 0.4145 - train_accuracy: 0.5229 - test_accuracy: 0.2500 - val_accuracy: 0.2222 - val_loss: 0.0692 - val_train_accuracy: 0.5229 - val_test_accuracy: 0.2500 - val_val_accuracy: 0.2222\n",
            "Epoch 103/200\n",
            "1/1 [==============================] - 0s 24ms/step - loss: 0.4145 - train_accuracy: 0.5229 - test_accuracy: 0.2500 - val_accuracy: 0.2222 - val_loss: 0.0692 - val_train_accuracy: 0.5229 - val_test_accuracy: 0.2500 - val_val_accuracy: 0.2222\n",
            "Epoch 104/200\n",
            "1/1 [==============================] - 0s 22ms/step - loss: 0.4145 - train_accuracy: 0.5229 - test_accuracy: 0.2500 - val_accuracy: 0.2222 - val_loss: 0.0692 - val_train_accuracy: 0.5229 - val_test_accuracy: 0.2500 - val_val_accuracy: 0.2222\n",
            "Epoch 105/200\n",
            "1/1 [==============================] - 0s 20ms/step - loss: 0.4145 - train_accuracy: 0.5229 - test_accuracy: 0.2500 - val_accuracy: 0.2222 - val_loss: 0.0692 - val_train_accuracy: 0.5229 - val_test_accuracy: 0.2500 - val_val_accuracy: 0.2222\n",
            "Epoch 106/200\n",
            "1/1 [==============================] - 0s 23ms/step - loss: 0.4145 - train_accuracy: 0.5229 - test_accuracy: 0.2500 - val_accuracy: 0.2222 - val_loss: 0.0692 - val_train_accuracy: 0.5229 - val_test_accuracy: 0.2500 - val_val_accuracy: 0.2222\n",
            "Epoch 107/200\n",
            "1/1 [==============================] - 0s 20ms/step - loss: 0.4145 - train_accuracy: 0.5229 - test_accuracy: 0.2500 - val_accuracy: 0.2222 - val_loss: 0.0692 - val_train_accuracy: 0.5229 - val_test_accuracy: 0.2500 - val_val_accuracy: 0.2222\n",
            "Epoch 108/200\n",
            "1/1 [==============================] - 0s 20ms/step - loss: 0.4145 - train_accuracy: 0.5229 - test_accuracy: 0.2500 - val_accuracy: 0.2222 - val_loss: 0.0692 - val_train_accuracy: 0.5229 - val_test_accuracy: 0.2500 - val_val_accuracy: 0.2222\n",
            "Epoch 109/200\n",
            "1/1 [==============================] - 0s 20ms/step - loss: 0.4145 - train_accuracy: 0.5229 - test_accuracy: 0.2500 - val_accuracy: 0.2222 - val_loss: 0.0692 - val_train_accuracy: 0.5229 - val_test_accuracy: 0.2500 - val_val_accuracy: 0.2222\n",
            "Epoch 110/200\n",
            "1/1 [==============================] - 0s 21ms/step - loss: 0.4145 - train_accuracy: 0.5229 - test_accuracy: 0.2500 - val_accuracy: 0.2222 - val_loss: 0.0692 - val_train_accuracy: 0.5229 - val_test_accuracy: 0.2500 - val_val_accuracy: 0.2222\n",
            "Epoch 111/200\n",
            "1/1 [==============================] - 0s 19ms/step - loss: 0.4145 - train_accuracy: 0.5229 - test_accuracy: 0.2500 - val_accuracy: 0.2222 - val_loss: 0.0692 - val_train_accuracy: 0.5229 - val_test_accuracy: 0.2500 - val_val_accuracy: 0.2222\n",
            "Epoch 112/200\n",
            "1/1 [==============================] - 0s 27ms/step - loss: 0.4145 - train_accuracy: 0.5229 - test_accuracy: 0.2500 - val_accuracy: 0.2222 - val_loss: 0.0692 - val_train_accuracy: 0.5229 - val_test_accuracy: 0.2500 - val_val_accuracy: 0.2222\n",
            "Epoch 113/200\n",
            "1/1 [==============================] - 0s 20ms/step - loss: 0.4145 - train_accuracy: 0.5229 - test_accuracy: 0.2500 - val_accuracy: 0.2222 - val_loss: 0.0692 - val_train_accuracy: 0.5229 - val_test_accuracy: 0.2500 - val_val_accuracy: 0.2222\n",
            "Epoch 114/200\n",
            "1/1 [==============================] - 0s 20ms/step - loss: 0.4145 - train_accuracy: 0.5229 - test_accuracy: 0.2500 - val_accuracy: 0.2222 - val_loss: 0.0692 - val_train_accuracy: 0.5229 - val_test_accuracy: 0.2500 - val_val_accuracy: 0.2222\n",
            "Epoch 115/200\n",
            "1/1 [==============================] - 0s 23ms/step - loss: 0.4145 - train_accuracy: 0.5229 - test_accuracy: 0.2500 - val_accuracy: 0.2222 - val_loss: 0.0692 - val_train_accuracy: 0.5229 - val_test_accuracy: 0.2500 - val_val_accuracy: 0.2222\n",
            "Epoch 116/200\n",
            "1/1 [==============================] - 0s 25ms/step - loss: 0.4145 - train_accuracy: 0.5229 - test_accuracy: 0.2500 - val_accuracy: 0.2222 - val_loss: 0.0692 - val_train_accuracy: 0.5229 - val_test_accuracy: 0.2500 - val_val_accuracy: 0.2222\n",
            "Epoch 117/200\n",
            "1/1 [==============================] - 0s 23ms/step - loss: 0.4145 - train_accuracy: 0.5229 - test_accuracy: 0.2500 - val_accuracy: 0.2222 - val_loss: 0.0692 - val_train_accuracy: 0.5229 - val_test_accuracy: 0.2500 - val_val_accuracy: 0.2222\n",
            "Epoch 118/200\n",
            "1/1 [==============================] - 0s 25ms/step - loss: 0.4145 - train_accuracy: 0.5229 - test_accuracy: 0.2500 - val_accuracy: 0.2222 - val_loss: 0.0692 - val_train_accuracy: 0.5229 - val_test_accuracy: 0.2500 - val_val_accuracy: 0.2222\n",
            "Epoch 119/200\n",
            "1/1 [==============================] - 0s 22ms/step - loss: 0.4145 - train_accuracy: 0.5229 - test_accuracy: 0.2500 - val_accuracy: 0.2222 - val_loss: 0.0692 - val_train_accuracy: 0.5229 - val_test_accuracy: 0.2500 - val_val_accuracy: 0.2222\n",
            "Epoch 120/200\n",
            "1/1 [==============================] - 0s 22ms/step - loss: 0.4145 - train_accuracy: 0.5229 - test_accuracy: 0.2500 - val_accuracy: 0.2222 - val_loss: 0.0692 - val_train_accuracy: 0.5229 - val_test_accuracy: 0.2500 - val_val_accuracy: 0.2222\n",
            "Epoch 121/200\n",
            "1/1 [==============================] - 0s 26ms/step - loss: 0.4145 - train_accuracy: 0.5229 - test_accuracy: 0.2500 - val_accuracy: 0.2222 - val_loss: 0.0692 - val_train_accuracy: 0.5229 - val_test_accuracy: 0.2500 - val_val_accuracy: 0.2222\n",
            "Epoch 122/200\n",
            "1/1 [==============================] - 0s 21ms/step - loss: 0.4145 - train_accuracy: 0.5229 - test_accuracy: 0.2500 - val_accuracy: 0.2222 - val_loss: 0.0692 - val_train_accuracy: 0.5229 - val_test_accuracy: 0.2500 - val_val_accuracy: 0.2222\n",
            "Epoch 123/200\n",
            "1/1 [==============================] - 0s 22ms/step - loss: 0.4145 - train_accuracy: 0.5229 - test_accuracy: 0.2500 - val_accuracy: 0.2222 - val_loss: 0.0692 - val_train_accuracy: 0.5229 - val_test_accuracy: 0.2500 - val_val_accuracy: 0.2222\n",
            "Epoch 124/200\n",
            "1/1 [==============================] - 0s 23ms/step - loss: 0.4145 - train_accuracy: 0.5229 - test_accuracy: 0.2500 - val_accuracy: 0.2222 - val_loss: 0.0692 - val_train_accuracy: 0.5229 - val_test_accuracy: 0.2500 - val_val_accuracy: 0.2222\n",
            "Epoch 125/200\n",
            "1/1 [==============================] - 0s 20ms/step - loss: 0.4145 - train_accuracy: 0.5229 - test_accuracy: 0.2500 - val_accuracy: 0.2222 - val_loss: 0.0692 - val_train_accuracy: 0.5229 - val_test_accuracy: 0.2500 - val_val_accuracy: 0.2222\n",
            "Epoch 126/200\n",
            "1/1 [==============================] - 0s 22ms/step - loss: 0.4145 - train_accuracy: 0.5229 - test_accuracy: 0.2500 - val_accuracy: 0.2222 - val_loss: 0.0692 - val_train_accuracy: 0.5229 - val_test_accuracy: 0.2500 - val_val_accuracy: 0.2222\n",
            "Epoch 127/200\n",
            "1/1 [==============================] - 0s 21ms/step - loss: 0.4145 - train_accuracy: 0.5229 - test_accuracy: 0.2500 - val_accuracy: 0.2222 - val_loss: 0.0692 - val_train_accuracy: 0.5229 - val_test_accuracy: 0.2500 - val_val_accuracy: 0.2222\n",
            "Epoch 128/200\n",
            "1/1 [==============================] - 0s 22ms/step - loss: 0.4145 - train_accuracy: 0.5229 - test_accuracy: 0.2500 - val_accuracy: 0.2222 - val_loss: 0.0692 - val_train_accuracy: 0.5229 - val_test_accuracy: 0.2500 - val_val_accuracy: 0.2222\n",
            "Epoch 129/200\n",
            "1/1 [==============================] - 0s 20ms/step - loss: 0.4145 - train_accuracy: 0.5229 - test_accuracy: 0.2500 - val_accuracy: 0.2222 - val_loss: 0.0692 - val_train_accuracy: 0.5229 - val_test_accuracy: 0.2500 - val_val_accuracy: 0.2222\n",
            "Epoch 130/200\n",
            "1/1 [==============================] - 0s 21ms/step - loss: 0.4145 - train_accuracy: 0.5229 - test_accuracy: 0.2500 - val_accuracy: 0.2222 - val_loss: 0.0692 - val_train_accuracy: 0.5229 - val_test_accuracy: 0.2500 - val_val_accuracy: 0.2222\n",
            "Epoch 131/200\n",
            "1/1 [==============================] - 0s 21ms/step - loss: 0.4145 - train_accuracy: 0.5229 - test_accuracy: 0.2500 - val_accuracy: 0.2222 - val_loss: 0.0692 - val_train_accuracy: 0.5229 - val_test_accuracy: 0.2500 - val_val_accuracy: 0.2222\n",
            "Epoch 132/200\n",
            "1/1 [==============================] - 0s 20ms/step - loss: 0.4145 - train_accuracy: 0.5229 - test_accuracy: 0.2500 - val_accuracy: 0.2222 - val_loss: 0.0692 - val_train_accuracy: 0.5229 - val_test_accuracy: 0.2500 - val_val_accuracy: 0.2222\n",
            "Epoch 133/200\n",
            "1/1 [==============================] - 0s 20ms/step - loss: 0.4145 - train_accuracy: 0.5229 - test_accuracy: 0.2500 - val_accuracy: 0.2222 - val_loss: 0.0692 - val_train_accuracy: 0.5229 - val_test_accuracy: 0.2500 - val_val_accuracy: 0.2222\n",
            "Epoch 134/200\n",
            "1/1 [==============================] - 0s 19ms/step - loss: 0.4145 - train_accuracy: 0.5229 - test_accuracy: 0.2500 - val_accuracy: 0.2222 - val_loss: 0.0692 - val_train_accuracy: 0.5229 - val_test_accuracy: 0.2500 - val_val_accuracy: 0.2222\n",
            "Epoch 135/200\n",
            "1/1 [==============================] - 0s 18ms/step - loss: 0.4145 - train_accuracy: 0.5229 - test_accuracy: 0.2500 - val_accuracy: 0.2222 - val_loss: 0.0692 - val_train_accuracy: 0.5229 - val_test_accuracy: 0.2500 - val_val_accuracy: 0.2222\n",
            "Epoch 136/200\n",
            "1/1 [==============================] - 0s 21ms/step - loss: 0.4145 - train_accuracy: 0.5229 - test_accuracy: 0.2500 - val_accuracy: 0.2222 - val_loss: 0.0692 - val_train_accuracy: 0.5229 - val_test_accuracy: 0.2500 - val_val_accuracy: 0.2222\n",
            "Epoch 137/200\n",
            "1/1 [==============================] - 0s 21ms/step - loss: 0.4145 - train_accuracy: 0.5229 - test_accuracy: 0.2500 - val_accuracy: 0.2222 - val_loss: 0.0692 - val_train_accuracy: 0.5229 - val_test_accuracy: 0.2500 - val_val_accuracy: 0.2222\n",
            "Epoch 138/200\n",
            "1/1 [==============================] - 0s 20ms/step - loss: 0.4145 - train_accuracy: 0.5229 - test_accuracy: 0.2500 - val_accuracy: 0.2222 - val_loss: 0.0692 - val_train_accuracy: 0.5229 - val_test_accuracy: 0.2500 - val_val_accuracy: 0.2222\n",
            "Epoch 139/200\n",
            "1/1 [==============================] - 0s 22ms/step - loss: 0.4145 - train_accuracy: 0.5229 - test_accuracy: 0.2500 - val_accuracy: 0.2222 - val_loss: 0.0692 - val_train_accuracy: 0.5229 - val_test_accuracy: 0.2500 - val_val_accuracy: 0.2222\n",
            "Epoch 140/200\n",
            "1/1 [==============================] - 0s 20ms/step - loss: 0.4145 - train_accuracy: 0.5229 - test_accuracy: 0.2500 - val_accuracy: 0.2222 - val_loss: 0.0692 - val_train_accuracy: 0.5229 - val_test_accuracy: 0.2500 - val_val_accuracy: 0.2222\n",
            "Epoch 141/200\n",
            "1/1 [==============================] - 0s 18ms/step - loss: 0.4145 - train_accuracy: 0.5229 - test_accuracy: 0.2500 - val_accuracy: 0.2222 - val_loss: 0.0692 - val_train_accuracy: 0.5229 - val_test_accuracy: 0.2500 - val_val_accuracy: 0.2222\n",
            "Epoch 142/200\n",
            "1/1 [==============================] - 0s 18ms/step - loss: 0.4145 - train_accuracy: 0.5229 - test_accuracy: 0.2500 - val_accuracy: 0.2222 - val_loss: 0.0692 - val_train_accuracy: 0.5229 - val_test_accuracy: 0.2500 - val_val_accuracy: 0.2222\n",
            "Epoch 143/200\n",
            "1/1 [==============================] - 0s 23ms/step - loss: 0.4145 - train_accuracy: 0.5229 - test_accuracy: 0.2500 - val_accuracy: 0.2222 - val_loss: 0.0692 - val_train_accuracy: 0.5229 - val_test_accuracy: 0.2500 - val_val_accuracy: 0.2222\n",
            "Epoch 144/200\n",
            "1/1 [==============================] - 0s 22ms/step - loss: 0.4145 - train_accuracy: 0.5229 - test_accuracy: 0.2500 - val_accuracy: 0.2222 - val_loss: 0.0692 - val_train_accuracy: 0.5229 - val_test_accuracy: 0.2500 - val_val_accuracy: 0.2222\n",
            "Epoch 145/200\n",
            "1/1 [==============================] - 0s 18ms/step - loss: 0.4145 - train_accuracy: 0.5229 - test_accuracy: 0.2500 - val_accuracy: 0.2222 - val_loss: 0.0692 - val_train_accuracy: 0.5229 - val_test_accuracy: 0.2500 - val_val_accuracy: 0.2222\n",
            "Epoch 146/200\n",
            "1/1 [==============================] - 0s 19ms/step - loss: 0.4145 - train_accuracy: 0.5229 - test_accuracy: 0.2500 - val_accuracy: 0.2222 - val_loss: 0.0692 - val_train_accuracy: 0.5229 - val_test_accuracy: 0.2500 - val_val_accuracy: 0.2222\n",
            "Epoch 147/200\n",
            "1/1 [==============================] - 0s 18ms/step - loss: 0.4145 - train_accuracy: 0.5229 - test_accuracy: 0.2500 - val_accuracy: 0.2222 - val_loss: 0.0692 - val_train_accuracy: 0.5229 - val_test_accuracy: 0.2500 - val_val_accuracy: 0.2222\n",
            "Epoch 148/200\n",
            "1/1 [==============================] - 0s 21ms/step - loss: 0.4145 - train_accuracy: 0.5229 - test_accuracy: 0.2500 - val_accuracy: 0.2222 - val_loss: 0.0692 - val_train_accuracy: 0.5229 - val_test_accuracy: 0.2500 - val_val_accuracy: 0.2222\n",
            "Epoch 149/200\n",
            "1/1 [==============================] - 0s 18ms/step - loss: 0.4145 - train_accuracy: 0.5229 - test_accuracy: 0.2500 - val_accuracy: 0.2222 - val_loss: 0.0692 - val_train_accuracy: 0.5229 - val_test_accuracy: 0.2500 - val_val_accuracy: 0.2222\n",
            "Epoch 150/200\n",
            "1/1 [==============================] - 0s 19ms/step - loss: 0.4145 - train_accuracy: 0.5229 - test_accuracy: 0.2500 - val_accuracy: 0.2222 - val_loss: 0.0692 - val_train_accuracy: 0.5229 - val_test_accuracy: 0.2500 - val_val_accuracy: 0.2222\n",
            "Epoch 151/200\n",
            "1/1 [==============================] - 0s 20ms/step - loss: 0.4145 - train_accuracy: 0.5229 - test_accuracy: 0.2500 - val_accuracy: 0.2222 - val_loss: 0.0692 - val_train_accuracy: 0.5229 - val_test_accuracy: 0.2500 - val_val_accuracy: 0.2222\n",
            "Epoch 152/200\n",
            "1/1 [==============================] - 0s 20ms/step - loss: 0.4145 - train_accuracy: 0.5229 - test_accuracy: 0.2500 - val_accuracy: 0.2222 - val_loss: 0.0692 - val_train_accuracy: 0.5229 - val_test_accuracy: 0.2500 - val_val_accuracy: 0.2222\n",
            "Epoch 153/200\n",
            "1/1 [==============================] - 0s 23ms/step - loss: 0.4145 - train_accuracy: 0.5229 - test_accuracy: 0.2500 - val_accuracy: 0.2222 - val_loss: 0.0692 - val_train_accuracy: 0.5229 - val_test_accuracy: 0.2500 - val_val_accuracy: 0.2222\n",
            "Epoch 154/200\n",
            "1/1 [==============================] - 0s 19ms/step - loss: 0.4145 - train_accuracy: 0.5229 - test_accuracy: 0.2500 - val_accuracy: 0.2222 - val_loss: 0.0692 - val_train_accuracy: 0.5229 - val_test_accuracy: 0.2500 - val_val_accuracy: 0.2222\n",
            "Epoch 155/200\n",
            "1/1 [==============================] - 0s 19ms/step - loss: 0.4145 - train_accuracy: 0.5229 - test_accuracy: 0.2500 - val_accuracy: 0.2222 - val_loss: 0.0692 - val_train_accuracy: 0.5229 - val_test_accuracy: 0.2500 - val_val_accuracy: 0.2222\n",
            "Epoch 156/200\n",
            "1/1 [==============================] - 0s 21ms/step - loss: 0.4145 - train_accuracy: 0.5229 - test_accuracy: 0.2500 - val_accuracy: 0.2222 - val_loss: 0.0692 - val_train_accuracy: 0.5229 - val_test_accuracy: 0.2500 - val_val_accuracy: 0.2222\n",
            "Epoch 157/200\n",
            "1/1 [==============================] - 0s 19ms/step - loss: 0.4145 - train_accuracy: 0.5229 - test_accuracy: 0.2500 - val_accuracy: 0.2222 - val_loss: 0.0692 - val_train_accuracy: 0.5229 - val_test_accuracy: 0.2500 - val_val_accuracy: 0.2222\n",
            "Epoch 158/200\n",
            "1/1 [==============================] - 0s 23ms/step - loss: 0.4145 - train_accuracy: 0.5229 - test_accuracy: 0.2500 - val_accuracy: 0.2222 - val_loss: 0.0692 - val_train_accuracy: 0.5229 - val_test_accuracy: 0.2500 - val_val_accuracy: 0.2222\n",
            "Epoch 159/200\n",
            "1/1 [==============================] - 0s 24ms/step - loss: 0.4145 - train_accuracy: 0.5229 - test_accuracy: 0.2500 - val_accuracy: 0.2222 - val_loss: 0.0692 - val_train_accuracy: 0.5229 - val_test_accuracy: 0.2500 - val_val_accuracy: 0.2222\n",
            "Epoch 160/200\n",
            "1/1 [==============================] - 0s 27ms/step - loss: 0.4145 - train_accuracy: 0.5229 - test_accuracy: 0.2500 - val_accuracy: 0.2222 - val_loss: 0.0692 - val_train_accuracy: 0.5229 - val_test_accuracy: 0.2500 - val_val_accuracy: 0.2222\n",
            "Epoch 161/200\n",
            "1/1 [==============================] - 0s 21ms/step - loss: 0.4145 - train_accuracy: 0.5229 - test_accuracy: 0.2500 - val_accuracy: 0.2222 - val_loss: 0.0692 - val_train_accuracy: 0.5229 - val_test_accuracy: 0.2500 - val_val_accuracy: 0.2222\n",
            "Epoch 162/200\n",
            "1/1 [==============================] - 0s 22ms/step - loss: 0.4145 - train_accuracy: 0.5229 - test_accuracy: 0.2500 - val_accuracy: 0.2222 - val_loss: 0.0692 - val_train_accuracy: 0.5229 - val_test_accuracy: 0.2500 - val_val_accuracy: 0.2222\n",
            "Epoch 163/200\n",
            "1/1 [==============================] - 0s 21ms/step - loss: 0.4145 - train_accuracy: 0.5229 - test_accuracy: 0.2500 - val_accuracy: 0.2222 - val_loss: 0.0692 - val_train_accuracy: 0.5229 - val_test_accuracy: 0.2500 - val_val_accuracy: 0.2222\n",
            "Epoch 164/200\n",
            "1/1 [==============================] - 0s 19ms/step - loss: 0.4145 - train_accuracy: 0.5229 - test_accuracy: 0.2500 - val_accuracy: 0.2222 - val_loss: 0.0692 - val_train_accuracy: 0.5229 - val_test_accuracy: 0.2500 - val_val_accuracy: 0.2222\n",
            "Epoch 165/200\n",
            "1/1 [==============================] - 0s 26ms/step - loss: 0.4145 - train_accuracy: 0.5229 - test_accuracy: 0.2500 - val_accuracy: 0.2222 - val_loss: 0.0692 - val_train_accuracy: 0.5229 - val_test_accuracy: 0.2500 - val_val_accuracy: 0.2222\n",
            "Epoch 166/200\n",
            "1/1 [==============================] - 0s 19ms/step - loss: 0.4145 - train_accuracy: 0.5229 - test_accuracy: 0.2500 - val_accuracy: 0.2222 - val_loss: 0.0692 - val_train_accuracy: 0.5229 - val_test_accuracy: 0.2500 - val_val_accuracy: 0.2222\n",
            "Epoch 167/200\n",
            "1/1 [==============================] - 0s 19ms/step - loss: 0.4145 - train_accuracy: 0.5229 - test_accuracy: 0.2500 - val_accuracy: 0.2222 - val_loss: 0.0692 - val_train_accuracy: 0.5229 - val_test_accuracy: 0.2500 - val_val_accuracy: 0.2222\n",
            "Epoch 168/200\n",
            "1/1 [==============================] - 0s 19ms/step - loss: 0.4145 - train_accuracy: 0.5229 - test_accuracy: 0.2500 - val_accuracy: 0.2222 - val_loss: 0.0692 - val_train_accuracy: 0.5229 - val_test_accuracy: 0.2500 - val_val_accuracy: 0.2222\n",
            "Epoch 169/200\n",
            "1/1 [==============================] - 0s 32ms/step - loss: 0.4145 - train_accuracy: 0.5229 - test_accuracy: 0.2500 - val_accuracy: 0.2222 - val_loss: 0.0692 - val_train_accuracy: 0.5229 - val_test_accuracy: 0.2500 - val_val_accuracy: 0.2222\n",
            "Epoch 170/200\n",
            "1/1 [==============================] - 0s 24ms/step - loss: 0.4145 - train_accuracy: 0.5229 - test_accuracy: 0.2500 - val_accuracy: 0.2222 - val_loss: 0.0692 - val_train_accuracy: 0.5229 - val_test_accuracy: 0.2500 - val_val_accuracy: 0.2222\n",
            "Epoch 171/200\n",
            "1/1 [==============================] - 0s 22ms/step - loss: 0.4145 - train_accuracy: 0.5229 - test_accuracy: 0.2500 - val_accuracy: 0.2222 - val_loss: 0.0692 - val_train_accuracy: 0.5229 - val_test_accuracy: 0.2500 - val_val_accuracy: 0.2222\n",
            "Epoch 172/200\n",
            "1/1 [==============================] - 0s 24ms/step - loss: 0.4145 - train_accuracy: 0.5229 - test_accuracy: 0.2500 - val_accuracy: 0.2222 - val_loss: 0.0692 - val_train_accuracy: 0.5229 - val_test_accuracy: 0.2500 - val_val_accuracy: 0.2222\n",
            "Epoch 173/200\n",
            "1/1 [==============================] - 0s 21ms/step - loss: 0.4145 - train_accuracy: 0.5229 - test_accuracy: 0.2500 - val_accuracy: 0.2222 - val_loss: 0.0692 - val_train_accuracy: 0.5229 - val_test_accuracy: 0.2500 - val_val_accuracy: 0.2222\n",
            "Epoch 174/200\n",
            "1/1 [==============================] - 0s 33ms/step - loss: 0.4145 - train_accuracy: 0.5229 - test_accuracy: 0.2500 - val_accuracy: 0.2222 - val_loss: 0.0692 - val_train_accuracy: 0.5229 - val_test_accuracy: 0.2500 - val_val_accuracy: 0.2222\n",
            "Epoch 175/200\n",
            "1/1 [==============================] - 0s 26ms/step - loss: 0.4145 - train_accuracy: 0.5229 - test_accuracy: 0.2500 - val_accuracy: 0.2222 - val_loss: 0.0692 - val_train_accuracy: 0.5229 - val_test_accuracy: 0.2500 - val_val_accuracy: 0.2222\n",
            "Epoch 176/200\n",
            "1/1 [==============================] - 0s 24ms/step - loss: 0.4145 - train_accuracy: 0.5229 - test_accuracy: 0.2500 - val_accuracy: 0.2222 - val_loss: 0.0692 - val_train_accuracy: 0.5229 - val_test_accuracy: 0.2500 - val_val_accuracy: 0.2222\n",
            "Epoch 177/200\n",
            "1/1 [==============================] - 0s 23ms/step - loss: 0.4145 - train_accuracy: 0.5229 - test_accuracy: 0.2500 - val_accuracy: 0.2222 - val_loss: 0.0692 - val_train_accuracy: 0.5229 - val_test_accuracy: 0.2500 - val_val_accuracy: 0.2222\n",
            "Epoch 178/200\n",
            "1/1 [==============================] - 0s 22ms/step - loss: 0.4145 - train_accuracy: 0.5229 - test_accuracy: 0.2500 - val_accuracy: 0.2222 - val_loss: 0.0692 - val_train_accuracy: 0.5229 - val_test_accuracy: 0.2500 - val_val_accuracy: 0.2222\n",
            "Epoch 179/200\n",
            "1/1 [==============================] - 0s 24ms/step - loss: 0.4145 - train_accuracy: 0.5229 - test_accuracy: 0.2500 - val_accuracy: 0.2222 - val_loss: 0.0692 - val_train_accuracy: 0.5229 - val_test_accuracy: 0.2500 - val_val_accuracy: 0.2222\n",
            "Epoch 180/200\n",
            "1/1 [==============================] - 0s 22ms/step - loss: 0.4145 - train_accuracy: 0.5229 - test_accuracy: 0.2500 - val_accuracy: 0.2222 - val_loss: 0.0692 - val_train_accuracy: 0.5229 - val_test_accuracy: 0.2500 - val_val_accuracy: 0.2222\n",
            "Epoch 181/200\n",
            "1/1 [==============================] - 0s 22ms/step - loss: 0.4145 - train_accuracy: 0.5229 - test_accuracy: 0.2500 - val_accuracy: 0.2222 - val_loss: 0.0692 - val_train_accuracy: 0.5229 - val_test_accuracy: 0.2500 - val_val_accuracy: 0.2222\n",
            "Epoch 182/200\n",
            "1/1 [==============================] - 0s 21ms/step - loss: 0.4145 - train_accuracy: 0.5229 - test_accuracy: 0.2500 - val_accuracy: 0.2222 - val_loss: 0.0692 - val_train_accuracy: 0.5229 - val_test_accuracy: 0.2500 - val_val_accuracy: 0.2222\n",
            "Epoch 183/200\n",
            "1/1 [==============================] - 0s 25ms/step - loss: 0.4145 - train_accuracy: 0.5229 - test_accuracy: 0.2500 - val_accuracy: 0.2222 - val_loss: 0.0692 - val_train_accuracy: 0.5229 - val_test_accuracy: 0.2500 - val_val_accuracy: 0.2222\n",
            "Epoch 184/200\n",
            "1/1 [==============================] - 0s 22ms/step - loss: 0.4145 - train_accuracy: 0.5229 - test_accuracy: 0.2500 - val_accuracy: 0.2222 - val_loss: 0.0692 - val_train_accuracy: 0.5229 - val_test_accuracy: 0.2500 - val_val_accuracy: 0.2222\n",
            "Epoch 185/200\n",
            "1/1 [==============================] - 0s 23ms/step - loss: 0.4145 - train_accuracy: 0.5229 - test_accuracy: 0.2500 - val_accuracy: 0.2222 - val_loss: 0.0692 - val_train_accuracy: 0.5229 - val_test_accuracy: 0.2500 - val_val_accuracy: 0.2222\n",
            "Epoch 186/200\n",
            "1/1 [==============================] - 0s 21ms/step - loss: 0.4145 - train_accuracy: 0.5229 - test_accuracy: 0.2500 - val_accuracy: 0.2222 - val_loss: 0.0692 - val_train_accuracy: 0.5229 - val_test_accuracy: 0.2500 - val_val_accuracy: 0.2222\n",
            "Epoch 187/200\n",
            "1/1 [==============================] - 0s 19ms/step - loss: 0.4145 - train_accuracy: 0.5229 - test_accuracy: 0.2500 - val_accuracy: 0.2222 - val_loss: 0.0692 - val_train_accuracy: 0.5229 - val_test_accuracy: 0.2500 - val_val_accuracy: 0.2222\n",
            "Epoch 188/200\n",
            "1/1 [==============================] - 0s 25ms/step - loss: 0.4145 - train_accuracy: 0.5229 - test_accuracy: 0.2500 - val_accuracy: 0.2222 - val_loss: 0.0692 - val_train_accuracy: 0.5229 - val_test_accuracy: 0.2500 - val_val_accuracy: 0.2222\n",
            "Epoch 189/200\n",
            "1/1 [==============================] - 0s 19ms/step - loss: 0.4145 - train_accuracy: 0.5229 - test_accuracy: 0.2500 - val_accuracy: 0.2222 - val_loss: 0.0692 - val_train_accuracy: 0.5229 - val_test_accuracy: 0.2500 - val_val_accuracy: 0.2222\n",
            "Epoch 190/200\n",
            "1/1 [==============================] - 0s 24ms/step - loss: 0.4145 - train_accuracy: 0.5229 - test_accuracy: 0.2500 - val_accuracy: 0.2222 - val_loss: 0.0692 - val_train_accuracy: 0.5229 - val_test_accuracy: 0.2500 - val_val_accuracy: 0.2222\n",
            "Epoch 191/200\n",
            "1/1 [==============================] - 0s 18ms/step - loss: 0.4145 - train_accuracy: 0.5229 - test_accuracy: 0.2500 - val_accuracy: 0.2222 - val_loss: 0.0692 - val_train_accuracy: 0.5229 - val_test_accuracy: 0.2500 - val_val_accuracy: 0.2222\n",
            "Epoch 192/200\n",
            "1/1 [==============================] - 0s 25ms/step - loss: 0.4145 - train_accuracy: 0.5229 - test_accuracy: 0.2500 - val_accuracy: 0.2222 - val_loss: 0.0692 - val_train_accuracy: 0.5229 - val_test_accuracy: 0.2500 - val_val_accuracy: 0.2222\n",
            "Epoch 193/200\n",
            "1/1 [==============================] - 0s 28ms/step - loss: 0.4145 - train_accuracy: 0.5229 - test_accuracy: 0.2500 - val_accuracy: 0.2222 - val_loss: 0.0692 - val_train_accuracy: 0.5229 - val_test_accuracy: 0.2500 - val_val_accuracy: 0.2222\n",
            "Epoch 194/200\n",
            "1/1 [==============================] - 0s 23ms/step - loss: 0.4145 - train_accuracy: 0.5229 - test_accuracy: 0.2500 - val_accuracy: 0.2222 - val_loss: 0.0692 - val_train_accuracy: 0.5229 - val_test_accuracy: 0.2500 - val_val_accuracy: 0.2222\n",
            "Epoch 195/200\n",
            "1/1 [==============================] - 0s 24ms/step - loss: 0.4145 - train_accuracy: 0.5229 - test_accuracy: 0.2500 - val_accuracy: 0.2222 - val_loss: 0.0692 - val_train_accuracy: 0.5229 - val_test_accuracy: 0.2500 - val_val_accuracy: 0.2222\n",
            "Epoch 196/200\n",
            "1/1 [==============================] - 0s 21ms/step - loss: 0.4145 - train_accuracy: 0.5229 - test_accuracy: 0.2500 - val_accuracy: 0.2222 - val_loss: 0.0692 - val_train_accuracy: 0.5229 - val_test_accuracy: 0.2500 - val_val_accuracy: 0.2222\n",
            "Epoch 197/200\n",
            "1/1 [==============================] - 0s 25ms/step - loss: 0.4145 - train_accuracy: 0.5229 - test_accuracy: 0.2500 - val_accuracy: 0.2222 - val_loss: 0.0692 - val_train_accuracy: 0.5229 - val_test_accuracy: 0.2500 - val_val_accuracy: 0.2222\n",
            "Epoch 198/200\n",
            "1/1 [==============================] - 0s 29ms/step - loss: 0.4145 - train_accuracy: 0.5229 - test_accuracy: 0.2500 - val_accuracy: 0.2222 - val_loss: 0.0692 - val_train_accuracy: 0.5229 - val_test_accuracy: 0.2500 - val_val_accuracy: 0.2222\n",
            "Epoch 199/200\n",
            "1/1 [==============================] - 0s 24ms/step - loss: 0.4145 - train_accuracy: 0.5229 - test_accuracy: 0.2500 - val_accuracy: 0.2222 - val_loss: 0.0692 - val_train_accuracy: 0.5229 - val_test_accuracy: 0.2500 - val_val_accuracy: 0.2222\n",
            "Epoch 200/200\n",
            "1/1 [==============================] - 0s 23ms/step - loss: 0.4145 - train_accuracy: 0.5229 - test_accuracy: 0.2500 - val_accuracy: 0.2222 - val_loss: 0.0692 - val_train_accuracy: 0.5229 - val_test_accuracy: 0.2500 - val_val_accuracy: 0.2222\n",
            "Model: \"sequential_4\"\n",
            "_________________________________________________________________\n",
            "Layer (type)                 Output Shape              Param #   \n",
            "=================================================================\n",
            "gcn_layer_11 (GCNLayer)      (182, 64)                 8256      \n",
            "_________________________________________________________________\n",
            "gcn_layer_12 (GCNLayer)      (182, 64)                 4096      \n",
            "_________________________________________________________________\n",
            "dense_4 (Dense)              (182, 2)                  130       \n",
            "=================================================================\n",
            "Total params: 12,482\n",
            "Trainable params: 12,482\n",
            "Non-trainable params: 0\n",
            "_________________________________________________________________\n",
            "None\n"
          ],
          "name": "stdout"
        }
      ]
    },
    {
      "cell_type": "code",
      "metadata": {
        "id": "D1Ymv8M6EUx8",
        "colab": {
          "base_uri": "https://localhost:8080/"
        },
        "outputId": "9048f432-37e8-4d25-e23c-9b6e25a6cdf7"
      },
      "source": [
        "np.nonzero(initial_state)"
      ],
      "execution_count": 37,
      "outputs": [
        {
          "output_type": "execute_result",
          "data": {
            "text/plain": [
              "(array([  0,   0,   0, ..., 181, 181, 181]),\n",
              " array([  0,   1,   2, ..., 126, 127, 128]))"
            ]
          },
          "metadata": {
            "tags": []
          },
          "execution_count": 37
        }
      ]
    },
    {
      "cell_type": "code",
      "metadata": {
        "id": "eqikApUyF_HE",
        "colab": {
          "base_uri": "https://localhost:8080/",
          "height": 762
        },
        "outputId": "aaf6d46f-6fa6-47a2-cfae-ed9fad97f1bc"
      },
      "source": [
        "# Display graphs of how the model performed\n",
        "from scipy.ndimage.filters import gaussian_filter1d\n",
        "\n",
        "def smooth(key):\n",
        "  return gaussian_filter1d(history.history[key], sigma=2)\n",
        "\n",
        "print(\"Final loss: \", history.history['loss'][-1])\n",
        "print(\"Final training accuracy: \", round(history.history['train_accuracy'][-1]*100), \"%\")\n",
        "\n",
        "plt.rcParams['figure.figsize'] = [15, 10]\n",
        "\n",
        "plt.subplot(2, 2, 1)\n",
        "plt.plot(history.history['loss'])\n",
        "plt.title(\"Training loss\")\n",
        "plt.ylabel('Loss')\n",
        "plt.xlabel('Epoch')\n",
        "\n",
        "plt.subplot(2, 2, 2)\n",
        "plt.plot(smooth('train_accuracy'))\n",
        "plt.title(\"Training accuracy\")\n",
        "plt.ylabel('Accuracy')\n",
        "plt.xlabel('Epoch')\n",
        "\n",
        "plt.subplot(2, 2, 3)\n",
        "plt.plot(smooth('val_accuracy'))\n",
        "plt.title(\"Validation accuracy\")\n",
        "plt.ylabel('Accuracy')\n",
        "plt.xlabel('Epoch')\n",
        "\n",
        "plt.subplot(2, 2, 4)\n",
        "for label in CLASS_LABELS:\n",
        "  plt.plot(smooth(\"train_class_acc_\"+str(label)))\n",
        "plt.title(\"Training accuracy by class\")\n",
        "plt.ylabel('Class accuracy')\n",
        "plt.xlabel('Epoch')\n",
        "plt.legend(['class_'+str(label) for label in CLASS_LABELS], loc='lower right')\n",
        "\n",
        "plt.tight_layout()\n",
        "plt.show()\n"
      ],
      "execution_count": 29,
      "outputs": [
        {
          "output_type": "stream",
          "text": [
            "Final loss:  0.4144962728023529\n",
            "Final training accuracy:  52 %\n"
          ],
          "name": "stdout"
        },
        {
          "output_type": "display_data",
          "data": {
            "image/png": "[encoded data removed]",
            "text/plain": [
              "<Figure size 1080x720 with 4 Axes>"
            ]
          },
          "metadata": {
            "tags": [],
            "needs_background": "light"
          }
        }
      ]
    },
    {
      "cell_type": "markdown",
      "metadata": {
        "id": "dyPF1j5JGUrt"
      },
      "source": [
        "## Test the model"
      ]
    },
    {
      "cell_type": "code",
      "metadata": {
        "id": "vxJyhEQfGO-u",
        "colab": {
          "base_uri": "https://localhost:8080/",
          "height": 407
        },
        "outputId": "47420960-00e9-4d00-9f16-beaa96e510ea"
      },
      "source": [
        "# Apply the trained model to our test data (that is, the held-out node labels)\n",
        "# and measure how it performs\n",
        "results = model.evaluate(\n",
        "    initial_state, \n",
        "    y_test, \n",
        "    steps=1, \n",
        "    batch_size=NODE_COUNT, \n",
        "    verbose=0)\n",
        "\n",
        "# Get test metrics\n",
        "results_dict = dict(zip(model.metrics_names, results))\n",
        "for name in model.metrics_names:\n",
        "  if \"test\" not in name:\n",
        "    del results_dict[name]\n",
        "\n",
        "# Add train accuracy from the earlier training history\n",
        "results_dict[\"train_accuracy\"] = history.history['train_accuracy'][-1]\n",
        "\n",
        "results_keys = list(results_dict.keys())\n",
        "results_values = [results_dict[key] for key in results_keys]\n",
        "\n",
        "plt.rcParams['figure.figsize'] = [15, 6]\n",
        "\n",
        "# Display a bar chart\n",
        "y_pos = np.arange(len(results_dict))\n",
        "plt.barh(y_pos, results_values, align='center', alpha=0.5)\n",
        "plt.yticks(y_pos, results_keys)\n",
        "plt.ylabel('Percentage')\n",
        "plt.title('Evaluation')\n",
        "plt.show()\n",
        "\n",
        "results_values"
      ],
      "execution_count": 30,
      "outputs": [
        {
          "output_type": "display_data",
          "data": {
            "image/png": "[encoded data removed]",
            "text/plain": [
              "<Figure size 1080x432 with 1 Axes>"
            ]
          },
          "metadata": {
            "tags": [],
            "needs_background": "light"
          }
        },
        {
          "output_type": "execute_result",
          "data": {
            "text/plain": [
              "[0.25, 0.0, 1.0, 0.5229358077049255]"
            ]
          },
          "metadata": {
            "tags": []
          },
          "execution_count": 30
        }
      ]
    },
    {
      "cell_type": "markdown",
      "metadata": {
        "id": "bjlBnqU30QiX"
      },
      "source": [
        "## Exercise questions and next steps\n",
        "\n",
        "\n",
        "[Add your answers and discoveries to the answer document](https://docs.google.com/document/d/1QdAEOYnJ5AwFczNQZk5ZZo1Ng7_shn33GzQPdumnsvI/edit?usp=sharing)\n",
        "\n",
        "\n",
        "- What train and test accuracy did you get?\n",
        "\n",
        "- What modifications did you try to the network? How did they perform?\n",
        "\n",
        "- Are there other graphs you find it useful to produce?\n",
        "\n",
        "- What is the theoretical capabilities of this network? Do we need other methods of graph machine learning?\n",
        "\n",
        "- Find an example of a Graph Convolutional Network being used in industry, link to it here and provide a summary\n",
        "\n",
        "- How would you scale this network to a larger graph? What challenges might you encounter?\n",
        "\n",
        "- Imagine you’re applying this method to Twitter’s tweet-reply graph. It’s constantly changing. How could you apply this method (which currently is written for a static graph)?\n",
        "\n",
        "- How could you apply this to language (e.g. how could you treat language as a graph?)\n",
        "\n"
      ]
    },
    {
      "cell_type": "code",
      "metadata": {
        "id": "Bwy5rkD3j5vC"
      },
      "source": [
        ""
      ],
      "execution_count": null,
      "outputs": []
    }
  ]
}